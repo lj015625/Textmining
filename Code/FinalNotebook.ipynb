{
 "cells": [
  {
   "cell_type": "markdown",
   "metadata": {},
   "source": [
    "# BIA 6304 Text Mining, Fall 2017\n",
    "## Final Project\n",
    "### Stuent:  Leonardo Ji\n",
    "### 10/6/2017"
   ]
  },
  {
   "cell_type": "code",
   "execution_count": 2,
   "metadata": {
    "collapsed": true
   },
   "outputs": [],
   "source": [
    "import pandas as pd   #we almost always need pandas because we like data frames\n",
    "import numpy as np\n",
    "from bs4 import BeautifulSoup\n",
    "import urllib3\n",
    "import json\n",
    "import math\n",
    "import re\n",
    "from nltk.stem.porter import PorterStemmer\n",
    "from sklearn.model_selection import cross_val_score\n",
    "from sklearn.neighbors import KNeighborsClassifier\n",
    "from sklearn.cluster import KMeans\n",
    "from sklearn.decomposition import TruncatedSVD\n",
    "from sklearn.decomposition import NMF\n",
    "from sklearn.decomposition import LatentDirichletAllocation\n",
    "from sklearn.feature_extraction import text \n",
    "from sklearn.feature_extraction.text import TfidfVectorizer\n",
    "from sklearn.feature_extraction.text import CountVectorizer\n",
    "from sklearn.preprocessing import Normalizer\n",
    "from sklearn.ensemble import RandomForestClassifier\n",
    "from sklearn.datasets import make_classification\n",
    "from sklearn import metrics\n",
    "from sklearn.metrics.pairwise import euclidean_distances\n",
    "from sklearn.model_selection import train_test_split\n",
    "import matplotlib as mpl\n",
    "import matplotlib.pyplot as plt\n",
    "\n",
    "\n",
    "pd.set_option('display.max_colwidth', 150) #important for getting all the text"
   ]
  },
  {
   "cell_type": "markdown",
   "metadata": {},
   "source": [
    "### Gather data"
   ]
  },
  {
   "cell_type": "code",
   "execution_count": null,
   "metadata": {
    "collapsed": true
   },
   "outputs": [],
   "source": [
    "ucern = {}\n",
    "#http://urllib3.readthedocs.io/en/latest/user-guide.html\n",
    "http = urllib3.PoolManager()\n",
    "headers = urllib3.util.make_headers(basic_auth='user:changeit')\n",
    "\n",
    "url = 'https://connectupgradedev.ucern.com/api/core/v3/places/1356468/contents?sort=dateCreatedDesc&fields=%40all&filter=place%28https%3A//connectupgradedev.ucern.com/api/core/v3/places/1356468%29&abridged=false&count=100'\n",
    " \n",
    "def loadContent(jsondata, ucern, count):\n",
    "    for content in jsondata['list']:\n",
    "        ucern[count] = {}\n",
    "        ucern[count]['contentID'] = content['contentID'];\n",
    "        if ('type' in content):\n",
    "            ucern[count]['type'] = content['type']\n",
    "        if ('subject' in content):\n",
    "            ucern[count]['subject'] = content['subject']\n",
    "        if ('viewCount' in content):\n",
    "            ucern[count]['viewCount'] = content['viewCount']\n",
    "        if ('replyCount' in content):\n",
    "            ucern[count]['replyCount'] = content['replyCount']\n",
    "        if ('lastActivityDate' in content):\n",
    "            ucern[count]['lastActivityDate'] = content['lastActivityDate']\n",
    "        if ('author' in content):\n",
    "            ucern[count]['author'] = content['author']['displayName']\n",
    "        if ('content' in content):\n",
    "            # remove html tags using BeautifulSoup\n",
    "            soup = BeautifulSoup(content['content']['text'], \"lxml\")\n",
    "            ucern[count]['content'] = soup.get_text()\n",
    "        if ('question' in content):\n",
    "            ucern[count]['question'] = content['question']\n",
    "            ucern[count]['resolved'] = False\n",
    "            if ('resolved' in content and content['resolved'] == 'resolved'):\n",
    "                ucern[count]['resolved'] = True\n",
    "                if ('answer' in content):\n",
    "                    ucern[count]['answerLink'] = content['answer']\n",
    "                    req2 = http.request('GET', content['answer'], headers=headers)\n",
    "                    json2 = json.loads(req2.data)\n",
    "                    if ('content' in json2):\n",
    "                        # remove html tags using BeautifulSoup\n",
    "                        soup2 = BeautifulSoup(json2['content']['text'], \"lxml\")\n",
    "                        ucern[count]['answer'] = soup2.get_text()\n",
    "                        if ('author' in json2):\n",
    "                            ucern[count]['answerAuthor'] = json2['author']['displayName']\n",
    "        count = count + 1\n",
    "    return count\n",
    "\n",
    "i = 0\n",
    "count = 0\n",
    "while(url and i < 10):\n",
    "    #print(url)\n",
    "    req = http.request('GET', url, headers=headers)\n",
    "    jsondata = json.loads(req.data)\n",
    "    \n",
    "    count = loadContent(jsondata, ucern, count)\n",
    "    \n",
    "    if (jsondata and jsondata['links'] and 'next' in jsondata['links']):\n",
    "        url = jsondata['links']['next']\n",
    "    i = i + 1\n",
    "    \n",
    "    \n",
    "    \n",
    "# convert data to panda dataframe\n",
    "ucernDf = pd.DataFrame.from_dict(ucern,orient=\"index\")"
   ]
  },
  {
   "cell_type": "code",
   "execution_count": 3,
   "metadata": {},
   "outputs": [],
   "source": [
    "# save data to disk\n",
    "#ucernDf.to_pickle(\"C:/Users/lj015625/Desktop/Text Mining/FinalProject/ucernDf.bin\")\n",
    "#ucernDf.to_csv(\"C:/Users/lj015625/Desktop/Text Mining/FinalProject/ucernDf.csv\")\n",
    "ucernDf = pd.read_pickle(\"C:/Users/lj015625/Desktop/Text Mining/FinalProject/ucernDf.bin\")"
   ]
  },
  {
   "cell_type": "markdown",
   "metadata": {},
   "source": [
    "### How many are discussions, how many discussions are questions?"
   ]
  },
  {
   "cell_type": "code",
   "execution_count": 4,
   "metadata": {},
   "outputs": [
    {
     "data": {
      "text/plain": [
       "(848, 13)"
      ]
     },
     "execution_count": 4,
     "metadata": {},
     "output_type": "execute_result"
    },
    {
     "data": {
      "image/png": "[encoded data removed]",
      "text/plain": [
       "<matplotlib.figure.Figure at 0xccb5f60>"
      ]
     },
     "metadata": {},
     "output_type": "display_data"
    }
   ],
   "source": [
    "%matplotlib inline\n",
    "ucernDf['type'].value_counts().plot(kind='bar')\n",
    "ucernDf = ucernDf[(ucernDf['type'] == 'discussion')]\n",
    "ucernDf.shape"
   ]
  },
  {
   "cell_type": "code",
   "execution_count": 6,
   "metadata": {},
   "outputs": [
    {
     "data": {
      "text/plain": [
       "<matplotlib.axes._subplots.AxesSubplot at 0xd021940>"
      ]
     },
     "execution_count": 6,
     "metadata": {},
     "output_type": "execute_result"
    },
    {
     "data": {
      "image/png": "[encoded data removed]",
      "text/plain": [
       "<matplotlib.figure.Figure at 0xd4df710>"
      ]
     },
     "metadata": {},
     "output_type": "display_data"
    }
   ],
   "source": [
    "# get a feel for the distribution\n",
    "%matplotlib inline\n",
    "ucernDf['question'].value_counts().plot(kind='bar')"
   ]
  },
  {
   "cell_type": "code",
   "execution_count": 7,
   "metadata": {},
   "outputs": [
    {
     "data": {
      "text/plain": [
       "<matplotlib.axes._subplots.AxesSubplot at 0xd01f7b8>"
      ]
     },
     "execution_count": 7,
     "metadata": {},
     "output_type": "execute_result"
    },
    {
     "data": {
      "image/png": "[encoded data removed]",
      "text/plain": [
       "<matplotlib.figure.Figure at 0xd020e10>"
      ]
     },
     "metadata": {},
     "output_type": "display_data"
    }
   ],
   "source": [
    "ucernDf = ucernDf[(ucernDf['question'] == True)]\n",
    "ucernDf['resolved'].value_counts()\n",
    "ucernDf['resolved'].value_counts().plot(kind='bar')"
   ]
  },
  {
   "cell_type": "code",
   "execution_count": 8,
   "metadata": {},
   "outputs": [
    {
     "data": {
      "text/plain": [
       "<matplotlib.axes._subplots.AxesSubplot at 0xd59a470>"
      ]
     },
     "execution_count": 8,
     "metadata": {},
     "output_type": "execute_result"
    },
    {
     "data": {
      "image/png": "[encoded data removed]",
      "text/plain": [
       "<matplotlib.figure.Figure at 0xd629320>"
      ]
     },
     "metadata": {},
     "output_type": "display_data"
    }
   ],
   "source": [
    "ucernDf['answerAuthor'].value_counts().plot(kind='bar')"
   ]
  },
  {
   "cell_type": "code",
   "execution_count": 9,
   "metadata": {},
   "outputs": [
    {
     "data": {
      "text/plain": [
       "(627, 14)"
      ]
     },
     "execution_count": 9,
     "metadata": {},
     "output_type": "execute_result"
    }
   ],
   "source": [
    "ucernDf = ucernDf.reset_index()\n",
    "ucernDf.shape"
   ]
  },
  {
   "cell_type": "code",
   "execution_count": 105,
   "metadata": {
    "collapsed": true
   },
   "outputs": [],
   "source": [
    "ucernDf.to_pickle(\"C:/Users/lj015625/Desktop/Text Mining/FinalProject/ucernquestionDf.bin\")"
   ]
  },
  {
   "cell_type": "markdown",
   "metadata": {},
   "source": [
    "### Pre-processing to combine special terms, remove stop words."
   ]
  },
  {
   "cell_type": "code",
   "execution_count": 10,
   "metadata": {
    "collapsed": true
   },
   "outputs": [],
   "source": [
    "# start preprocessing\n",
    "# Preprocessing to replace words\n",
    "my_dict = {'care management':'caremanagement', 'case management' : 'caremanagement', 'cm' : 'caremanagement', \n",
    "           'worklists':'worklist','carefinder pro':'carefinderpro','care finder pro':'carefinderpro', 'tlc':'ensocare',\n",
    "           'um worklist': 'umWorklist','discharge worklist':'dischargeWorklist','assignment worklist':'assignmentWorklist',\n",
    "           'clinical reviews':'clinicalreview','clinical review':'clinicalreview','errors' : 'error', 'visit information' : 'visitInformation',\n",
    "           'insurance information':'insuranceInformation',\n",
    "           'discharge planning':'dischargePlanning', 'post-acute':'postacute','post acute':'postacute','don\\'t':'donot'}\n",
    "\n",
    "def multiple_replace(dict, text): \n",
    "  \"\"\" Replace in 'text' all occurences of any key in the given\n",
    "  dictionary by its corresponding value.  Returns the new tring.\"\"\" \n",
    "  lowerText = str(text).lower()\n",
    "\n",
    "  # Create a regular expression  from the dictionary keys\n",
    "  regex = re.compile(\"(%s)\" % \"|\".join(map(re.escape, dict.keys())))\n",
    "\n",
    "  # For each match, look-up corresponding value in dictionary\n",
    "  return regex.sub(lambda mo: dict[mo.string[mo.start():mo.end()]], lowerText)\n",
    "\n",
    "ucernDf['cleancontent'] = ucernDf.content.apply(lambda x: multiple_replace(my_dict, x))\n",
    "ucernDf['cleansubject'] = ucernDf.subject.apply(lambda x: multiple_replace(my_dict, x))\n",
    "ucernDf['cleananswer'] = ucernDf.answer.apply(lambda x: multiple_replace(my_dict, x))\n"
   ]
  },
  {
   "cell_type": "code",
   "execution_count": 11,
   "metadata": {},
   "outputs": [
    {
     "name": "stdout",
     "output_type": "stream",
     "text": [
      "318\n",
      "377\n"
     ]
    }
   ],
   "source": [
    "skl_stopwords = text.ENGLISH_STOP_WORDS\n",
    "myStopwords = set(skl_stopwords)\n",
    "print(len(myStopwords))\n",
    "# Remove common exception stack trace tokens\n",
    "myStopwords.update(set(['caremanagement','http','https','java','javax','com','cerner','service','enterprise','server','jdbc','internal','run','invoke',\n",
    "                        'common','transaction','org','execute','client','reflect','sun','reflect','requesthandler','doprivileged','transactionmanager','container',\n",
    "                        'lang','security','auth','native','method','subject','thread','accesscontroller','delegatingmethodaccessorimpl','interceptorchainimpl','servercontainer',\n",
    "                        'cadence', 'intercept', 'caremanagementserver', 'util','unable','nativemethodaccessorimpl','servicemanager','rrservice', 'executors','spcinterceptor',\n",
    "                        '00','01','10','11','12', '13', '14', '15', '16', '17', '53','91','160']))\n",
    "print(len(myStopwords))"
   ]
  },
  {
   "cell_type": "code",
   "execution_count": 12,
   "metadata": {
    "collapsed": true
   },
   "outputs": [],
   "source": [
    "ps = PorterStemmer() #define method (http://www.nltk.org/api/nltk.stem.html#nltk.stem.porter.PorterStemmer)\n",
    "ucernDf['cleansubject'] = [ps.stem(word) for word in ucernDf['cleansubject']] "
   ]
  },
  {
   "cell_type": "markdown",
   "metadata": {},
   "source": [
    "### Convert text to Document Matrix"
   ]
  },
  {
   "cell_type": "code",
   "execution_count": 13,
   "metadata": {},
   "outputs": [
    {
     "name": "stdout",
     "output_type": "stream",
     "text": [
      "(627, 197)\n",
      "<class 'list'> 197\n",
      "<class 'list'> 197\n"
     ]
    }
   ],
   "source": [
    "#1. CV on content\n",
    "cv1 = CountVectorizer(lowercase=True, \n",
    "                     stop_words=myStopwords,\n",
    "                     binary=False,\n",
    "                     max_df=0.90, \n",
    "                     min_df=0.05,\n",
    "                     ngram_range = (1,3)) \n",
    "\n",
    "cv_dm = cv1.fit_transform(ucernDf['cleancontent'])\n",
    "print(cv_dm.shape)\n",
    "names = cv1.get_feature_names()\n",
    "print(type(names), len(names))\n",
    "\n",
    "count = np.sum(cv_dm.toarray(), axis = 0).tolist()\n",
    "print(type(count), len(count))\n",
    "count_df = pd.DataFrame(count, index = names, columns = ['count'])"
   ]
  },
  {
   "cell_type": "code",
   "execution_count": 14,
   "metadata": {},
   "outputs": [
    {
     "name": "stdout",
     "output_type": "stream",
     "text": [
      "(627, 102)\n",
      "<class 'list'> 102\n",
      "<class 'list'> 102\n"
     ]
    }
   ],
   "source": [
    "#2. CV on subject only\n",
    "cv2 = CountVectorizer(lowercase=True, \n",
    "                     stop_words=myStopwords,\n",
    "                     binary=False,\n",
    "                     max_df=0.90, \n",
    "                     min_df=0.01,\n",
    "                     ngram_range = (1,3)) \n",
    "cv_dm2 = cv2.fit_transform(ucernDf['cleansubject'])\n",
    "print(cv_dm2.shape)\n",
    "names2 = cv2.get_feature_names()\n",
    "print(type(names2), len(names2))\n",
    "\n",
    "count2 = np.sum(cv_dm2.toarray(), axis = 0).tolist()\n",
    "print(type(count2), len(count2))\n",
    "count_df2 = pd.DataFrame(count2, index = names2, columns = ['count'])"
   ]
  },
  {
   "cell_type": "markdown",
   "metadata": {},
   "source": [
    "### Clustering on Subject text, and see most frequent terms in each clusters and resolve ratio."
   ]
  },
  {
   "cell_type": "code",
   "execution_count": 15,
   "metadata": {
    "collapsed": true
   },
   "outputs": [],
   "source": [
    "# K Mean on Subject\n",
    "k_range = range(3,20)\n",
    "k_means_set = [KMeans(n_clusters=k,init='k-means++', max_iter=100, random_state = 42).fit(cv_dm2) for k in k_range]\n",
    "centroids_list = [km_result.cluster_centers_ for km_result in k_means_set]\n",
    "\n",
    "# calc euclidean dist from each point to each cluster center\n",
    "from scipy.spatial.distance import cdist, pdist\n",
    "cv_dm_array = cv_dm2.toarray()\n",
    "\n",
    "k_euclid = [cdist(cv_dm_array, thing, 'euclidean') for thing in centroids_list]\n",
    "distance_set = [np.min(k_euc, axis=1) for k_euc in k_euclid]\n",
    "# total within-cluster sum of squares\n",
    "wcss = [np.sum(distance**2) for distance in distance_set]\n",
    "# total sum of squares\n",
    "tss  = np.sum(pdist(cv_dm_array)**2) / cv_dm_array.shape[0]\n",
    "# between cluster sum of squares\n",
    "bss = tss - wcss"
   ]
  },
  {
   "cell_type": "code",
   "execution_count": 16,
   "metadata": {},
   "outputs": [
    {
     "data": {
      "image/png": "[encoded data removed]",
      "text/plain": [
       "<matplotlib.figure.Figure at 0xd7bf240>"
      ]
     },
     "metadata": {},
     "output_type": "display_data"
    }
   ],
   "source": [
    "# plot elbow chart wss/tss\n",
    "fig = plt.figure()\n",
    "ax = fig.add_subplot(111)\n",
    "ax.plot(k_range, wcss/tss*100, '^-')\n",
    "ax.set_ylim((65,100))\n",
    "plt.grid(True)\n",
    "plt.xlabel('K n_clusters')\n",
    "plt.ylabel('% Variance Explained')\n",
    "plt.title('% WSS over TSS Variance Explained vs K')\n",
    "withness = wcss/tss*100;"
   ]
  },
  {
   "cell_type": "code",
   "execution_count": 17,
   "metadata": {},
   "outputs": [
    {
     "data": {
      "image/png": "[encoded data removed]",
      "text/plain": [
       "<matplotlib.figure.Figure at 0xdeecf98>"
      ]
     },
     "metadata": {},
     "output_type": "display_data"
    }
   ],
   "source": [
    "# plot elbow chart bss/tss\n",
    "fig = plt.figure()\n",
    "ax = fig.add_subplot(111)\n",
    "ax.plot(k_range, bss/tss*100, '^-')\n",
    "ax.set_ylim((0,40))\n",
    "plt.grid(True)\n",
    "plt.xlabel('K n_clusters')\n",
    "plt.ylabel('% Variance Explained')\n",
    "plt.title('% BSS over TSS Variance Explained vs K')\n",
    "betwness = bss/tss*100"
   ]
  },
  {
   "cell_type": "code",
   "execution_count": 18,
   "metadata": {},
   "outputs": [
    {
     "name": "stdout",
     "output_type": "stream",
     "text": [
      "0    367\n",
      "1    113\n",
      "2     45\n",
      "4     39\n",
      "3     36\n",
      "5     27\n",
      "Name: clusters, dtype: int64\n"
     ]
    }
   ],
   "source": [
    "# create 6 clusters\n",
    "km = KMeans(n_clusters=6, init='k-means++', max_iter=100, random_state = 42)\n",
    "news_k = km.fit(cv_dm_array)\n",
    "clusters = km.labels_.tolist()\n",
    "ucernDf['clusters'] = clusters\n",
    "\n",
    "print(ucernDf['clusters'].value_counts())"
   ]
  },
  {
   "cell_type": "code",
   "execution_count": 19,
   "metadata": {
    "collapsed": true
   },
   "outputs": [],
   "source": [
    "cluster1 = ucernDf[(ucernDf['clusters'] == 0)]\n",
    "cluster2 = ucernDf[(ucernDf['clusters'] == 1)]\n",
    "cluster3 = ucernDf[(ucernDf['clusters'] == 2)]\n",
    "cluster4 = ucernDf[(ucernDf['clusters'] == 3)]\n",
    "cluster5 = ucernDf[(ucernDf['clusters'] == 4)]\n",
    "cluster6 = ucernDf[(ucernDf['clusters'] == 5)]"
   ]
  },
  {
   "cell_type": "code",
   "execution_count": 20,
   "metadata": {},
   "outputs": [
    {
     "name": "stdout",
     "output_type": "stream",
     "text": [
      "(367, 102)\n",
      "(367, 18)\n"
     ]
    }
   ],
   "source": [
    "# cluster 1\n",
    "cluster1_cv_dm_array = cv_dm_array[cluster1.index];\n",
    "print(cluster1_cv_dm_array.shape)\n",
    "cluster1_count = np.sum(cluster1_cv_dm_array, axis = 0).tolist()\n",
    "cluster1_count_df = pd.DataFrame(cluster1_count, index = names2, columns = ['count'])\n",
    "cluster1_count_df.sort_values(['count'], ascending = False).head(10)\n",
    "print(cluster1.shape)"
   ]
  },
  {
   "cell_type": "code",
   "execution_count": 21,
   "metadata": {},
   "outputs": [
    {
     "name": "stdout",
     "output_type": "stream",
     "text": [
      "(113, 102)\n"
     ]
    },
    {
     "data": {
      "text/html": [
       "<div>\n",
       "<style>\n",
       "    .dataframe thead tr:only-child th {\n",
       "        text-align: right;\n",
       "    }\n",
       "\n",
       "    .dataframe thead th {\n",
       "        text-align: left;\n",
       "    }\n",
       "\n",
       "    .dataframe tbody tr th {\n",
       "        vertical-align: top;\n",
       "    }\n",
       "</style>\n",
       "<table border=\"1\" class=\"dataframe\">\n",
       "  <thead>\n",
       "    <tr style=\"text-align: right;\">\n",
       "      <th></th>\n",
       "      <th>count</th>\n",
       "    </tr>\n",
       "  </thead>\n",
       "  <tbody>\n",
       "    <tr>\n",
       "      <th>error</th>\n",
       "      <td>114</td>\n",
       "    </tr>\n",
       "    <tr>\n",
       "      <th>message</th>\n",
       "      <td>11</td>\n",
       "    </tr>\n",
       "    <tr>\n",
       "      <th>error message</th>\n",
       "      <td>10</td>\n",
       "    </tr>\n",
       "    <tr>\n",
       "      <th>clinicalreview</th>\n",
       "      <td>10</td>\n",
       "    </tr>\n",
       "    <tr>\n",
       "      <th>interqual</th>\n",
       "      <td>9</td>\n",
       "    </tr>\n",
       "    <tr>\n",
       "      <th>script error</th>\n",
       "      <td>8</td>\n",
       "    </tr>\n",
       "    <tr>\n",
       "      <th>report</th>\n",
       "      <td>8</td>\n",
       "    </tr>\n",
       "    <tr>\n",
       "      <th>script</th>\n",
       "      <td>8</td>\n",
       "    </tr>\n",
       "    <tr>\n",
       "      <th>packet</th>\n",
       "      <td>6</td>\n",
       "    </tr>\n",
       "    <tr>\n",
       "      <th>days</th>\n",
       "      <td>6</td>\n",
       "    </tr>\n",
       "  </tbody>\n",
       "</table>\n",
       "</div>"
      ],
      "text/plain": [
       "                count\n",
       "error             114\n",
       "message            11\n",
       "error message      10\n",
       "clinicalreview     10\n",
       "interqual           9\n",
       "script error        8\n",
       "report              8\n",
       "script              8\n",
       "packet              6\n",
       "days                6"
      ]
     },
     "execution_count": 21,
     "metadata": {},
     "output_type": "execute_result"
    }
   ],
   "source": [
    "# cluster 2\n",
    "cluster2_cv_dm_array = cv_dm_array[cluster2.index];\n",
    "print(cluster2_cv_dm_array.shape)\n",
    "cluster2_count = np.sum(cluster2_cv_dm_array, axis = 0).tolist()\n",
    "cluster2_count_df = pd.DataFrame(cluster2_count, index = names2, columns = ['count'])\n",
    "cluster2_count_df.sort_values(['count'], ascending = False).head(10)"
   ]
  },
  {
   "cell_type": "code",
   "execution_count": 22,
   "metadata": {},
   "outputs": [
    {
     "name": "stdout",
     "output_type": "stream",
     "text": [
      "(45, 102)\n"
     ]
    },
    {
     "data": {
      "text/html": [
       "<div>\n",
       "<style>\n",
       "    .dataframe thead tr:only-child th {\n",
       "        text-align: right;\n",
       "    }\n",
       "\n",
       "    .dataframe thead th {\n",
       "        text-align: left;\n",
       "    }\n",
       "\n",
       "    .dataframe tbody tr th {\n",
       "        vertical-align: top;\n",
       "    }\n",
       "</style>\n",
       "<table border=\"1\" class=\"dataframe\">\n",
       "  <thead>\n",
       "    <tr style=\"text-align: right;\">\n",
       "      <th></th>\n",
       "      <th>count</th>\n",
       "    </tr>\n",
       "  </thead>\n",
       "  <tbody>\n",
       "    <tr>\n",
       "      <th>postacute</th>\n",
       "      <td>29</td>\n",
       "    </tr>\n",
       "    <tr>\n",
       "      <th>fax</th>\n",
       "      <td>23</td>\n",
       "    </tr>\n",
       "    <tr>\n",
       "      <th>placement</th>\n",
       "      <td>11</td>\n",
       "    </tr>\n",
       "    <tr>\n",
       "      <th>services</th>\n",
       "      <td>10</td>\n",
       "    </tr>\n",
       "    <tr>\n",
       "      <th>postacute services</th>\n",
       "      <td>9</td>\n",
       "    </tr>\n",
       "    <tr>\n",
       "      <th>postacute placement</th>\n",
       "      <td>8</td>\n",
       "    </tr>\n",
       "    <tr>\n",
       "      <th>status</th>\n",
       "      <td>6</td>\n",
       "    </tr>\n",
       "    <tr>\n",
       "      <th>error</th>\n",
       "      <td>4</td>\n",
       "    </tr>\n",
       "    <tr>\n",
       "      <th>report</th>\n",
       "      <td>4</td>\n",
       "    </tr>\n",
       "    <tr>\n",
       "      <th>compon</th>\n",
       "      <td>4</td>\n",
       "    </tr>\n",
       "  </tbody>\n",
       "</table>\n",
       "</div>"
      ],
      "text/plain": [
       "                     count\n",
       "postacute               29\n",
       "fax                     23\n",
       "placement               11\n",
       "services                10\n",
       "postacute services       9\n",
       "postacute placement      8\n",
       "status                   6\n",
       "error                    4\n",
       "report                   4\n",
       "compon                   4"
      ]
     },
     "execution_count": 22,
     "metadata": {},
     "output_type": "execute_result"
    }
   ],
   "source": [
    "# cluster 3\n",
    "cluster3_cv_dm_array = cv_dm_array[cluster3.index];\n",
    "print(cluster3_cv_dm_array.shape)\n",
    "cluster3_count = np.sum(cluster3_cv_dm_array, axis = 0).tolist()\n",
    "cluster3_count_df = pd.DataFrame(cluster3_count, index = names2, columns = ['count'])\n",
    "cluster3_count_df.sort_values(['count'], ascending = False).head(10)\n"
   ]
  },
  {
   "cell_type": "code",
   "execution_count": 23,
   "metadata": {},
   "outputs": [
    {
     "name": "stdout",
     "output_type": "stream",
     "text": [
      "(36, 102)\n"
     ]
    },
    {
     "data": {
      "text/html": [
       "<div>\n",
       "<style>\n",
       "    .dataframe thead tr:only-child th {\n",
       "        text-align: right;\n",
       "    }\n",
       "\n",
       "    .dataframe thead th {\n",
       "        text-align: left;\n",
       "    }\n",
       "\n",
       "    .dataframe tbody tr th {\n",
       "        vertical-align: top;\n",
       "    }\n",
       "</style>\n",
       "<table border=\"1\" class=\"dataframe\">\n",
       "  <thead>\n",
       "    <tr style=\"text-align: right;\">\n",
       "      <th></th>\n",
       "      <th>count</th>\n",
       "    </tr>\n",
       "  </thead>\n",
       "  <tbody>\n",
       "    <tr>\n",
       "      <th>worklist</th>\n",
       "      <td>39</td>\n",
       "    </tr>\n",
       "    <tr>\n",
       "      <th>error</th>\n",
       "      <td>7</td>\n",
       "    </tr>\n",
       "    <tr>\n",
       "      <th>issue</th>\n",
       "      <td>4</td>\n",
       "    </tr>\n",
       "    <tr>\n",
       "      <th>review</th>\n",
       "      <td>4</td>\n",
       "    </tr>\n",
       "    <tr>\n",
       "      <th>patient</th>\n",
       "      <td>4</td>\n",
       "    </tr>\n",
       "    <tr>\n",
       "      <th>script</th>\n",
       "      <td>3</td>\n",
       "    </tr>\n",
       "    <tr>\n",
       "      <th>script error</th>\n",
       "      <td>3</td>\n",
       "    </tr>\n",
       "    <tr>\n",
       "      <th>print</th>\n",
       "      <td>3</td>\n",
       "    </tr>\n",
       "    <tr>\n",
       "      <th>dischargeplanning</th>\n",
       "      <td>3</td>\n",
       "    </tr>\n",
       "    <tr>\n",
       "      <th>date</th>\n",
       "      <td>2</td>\n",
       "    </tr>\n",
       "  </tbody>\n",
       "</table>\n",
       "</div>"
      ],
      "text/plain": [
       "                   count\n",
       "worklist              39\n",
       "error                  7\n",
       "issue                  4\n",
       "review                 4\n",
       "patient                4\n",
       "script                 3\n",
       "script error           3\n",
       "print                  3\n",
       "dischargeplanning      3\n",
       "date                   2"
      ]
     },
     "execution_count": 23,
     "metadata": {},
     "output_type": "execute_result"
    }
   ],
   "source": [
    "# cluster 4\n",
    "cluster4_cv_dm_array = cv_dm_array[cluster4.index];\n",
    "print(cluster4_cv_dm_array.shape)\n",
    "cluster4_count = np.sum(cluster4_cv_dm_array, axis = 0).tolist()\n",
    "cluster4_count_df = pd.DataFrame(cluster4_count, index = names2, columns = ['count'])\n",
    "cluster4_count_df.sort_values(['count'], ascending = False).head(10)"
   ]
  },
  {
   "cell_type": "code",
   "execution_count": 24,
   "metadata": {},
   "outputs": [
    {
     "name": "stdout",
     "output_type": "stream",
     "text": [
      "(39, 102)\n"
     ]
    },
    {
     "data": {
      "text/html": [
       "<div>\n",
       "<style>\n",
       "    .dataframe thead tr:only-child th {\n",
       "        text-align: right;\n",
       "    }\n",
       "\n",
       "    .dataframe thead th {\n",
       "        text-align: left;\n",
       "    }\n",
       "\n",
       "    .dataframe tbody tr th {\n",
       "        vertical-align: top;\n",
       "    }\n",
       "</style>\n",
       "<table border=\"1\" class=\"dataframe\">\n",
       "  <thead>\n",
       "    <tr style=\"text-align: right;\">\n",
       "      <th></th>\n",
       "      <th>count</th>\n",
       "    </tr>\n",
       "  </thead>\n",
       "  <tbody>\n",
       "    <tr>\n",
       "      <th>clinicalreview</th>\n",
       "      <td>39</td>\n",
       "    </tr>\n",
       "    <tr>\n",
       "      <th>fax</th>\n",
       "      <td>9</td>\n",
       "    </tr>\n",
       "    <tr>\n",
       "      <th>mpage</th>\n",
       "      <td>4</td>\n",
       "    </tr>\n",
       "    <tr>\n",
       "      <th>mcg</th>\n",
       "      <td>3</td>\n",
       "    </tr>\n",
       "    <tr>\n",
       "      <th>open</th>\n",
       "      <td>3</td>\n",
       "    </tr>\n",
       "    <tr>\n",
       "      <th>showing</th>\n",
       "      <td>2</td>\n",
       "    </tr>\n",
       "    <tr>\n",
       "      <th>summary</th>\n",
       "      <td>2</td>\n",
       "    </tr>\n",
       "    <tr>\n",
       "      <th>issue</th>\n",
       "      <td>2</td>\n",
       "    </tr>\n",
       "    <tr>\n",
       "      <th>pulling</th>\n",
       "      <td>2</td>\n",
       "    </tr>\n",
       "    <tr>\n",
       "      <th>faxing</th>\n",
       "      <td>2</td>\n",
       "    </tr>\n",
       "  </tbody>\n",
       "</table>\n",
       "</div>"
      ],
      "text/plain": [
       "                count\n",
       "clinicalreview     39\n",
       "fax                 9\n",
       "mpage               4\n",
       "mcg                 3\n",
       "open                3\n",
       "showing             2\n",
       "summary             2\n",
       "issue               2\n",
       "pulling             2\n",
       "faxing              2"
      ]
     },
     "execution_count": 24,
     "metadata": {},
     "output_type": "execute_result"
    }
   ],
   "source": [
    "# cluster 5\n",
    "cluster5_cv_dm_array = cv_dm_array[cluster5.index];\n",
    "print(cluster5_cv_dm_array.shape)\n",
    "cluster5_count = np.sum(cluster5_cv_dm_array, axis = 0).tolist()\n",
    "cluster5_count_df = pd.DataFrame(cluster5_count, index = names2, columns = ['count'])\n",
    "cluster5_count_df.sort_values(['count'], ascending = False).head(10)"
   ]
  },
  {
   "cell_type": "code",
   "execution_count": 25,
   "metadata": {},
   "outputs": [
    {
     "name": "stdout",
     "output_type": "stream",
     "text": [
      "(27, 102)\n"
     ]
    },
    {
     "data": {
      "text/html": [
       "<div>\n",
       "<style>\n",
       "    .dataframe thead tr:only-child th {\n",
       "        text-align: right;\n",
       "    }\n",
       "\n",
       "    .dataframe thead th {\n",
       "        text-align: left;\n",
       "    }\n",
       "\n",
       "    .dataframe tbody tr th {\n",
       "        vertical-align: top;\n",
       "    }\n",
       "</style>\n",
       "<table border=\"1\" class=\"dataframe\">\n",
       "  <thead>\n",
       "    <tr style=\"text-align: right;\">\n",
       "      <th></th>\n",
       "      <th>count</th>\n",
       "    </tr>\n",
       "  </thead>\n",
       "  <tbody>\n",
       "    <tr>\n",
       "      <th>ensocare</th>\n",
       "      <td>28</td>\n",
       "    </tr>\n",
       "    <tr>\n",
       "      <th>error</th>\n",
       "      <td>6</td>\n",
       "    </tr>\n",
       "    <tr>\n",
       "      <th>packets</th>\n",
       "      <td>5</td>\n",
       "    </tr>\n",
       "    <tr>\n",
       "      <th>carefinderpro</th>\n",
       "      <td>4</td>\n",
       "    </tr>\n",
       "    <tr>\n",
       "      <th>bedrock</th>\n",
       "      <td>3</td>\n",
       "    </tr>\n",
       "    <tr>\n",
       "      <th>package</th>\n",
       "      <td>2</td>\n",
       "    </tr>\n",
       "    <tr>\n",
       "      <th>quest</th>\n",
       "      <td>2</td>\n",
       "    </tr>\n",
       "    <tr>\n",
       "      <th>issue</th>\n",
       "      <td>2</td>\n",
       "    </tr>\n",
       "    <tr>\n",
       "      <th>work</th>\n",
       "      <td>2</td>\n",
       "    </tr>\n",
       "    <tr>\n",
       "      <th>upload</th>\n",
       "      <td>2</td>\n",
       "    </tr>\n",
       "  </tbody>\n",
       "</table>\n",
       "</div>"
      ],
      "text/plain": [
       "               count\n",
       "ensocare          28\n",
       "error              6\n",
       "packets            5\n",
       "carefinderpro      4\n",
       "bedrock            3\n",
       "package            2\n",
       "quest              2\n",
       "issue              2\n",
       "work               2\n",
       "upload             2"
      ]
     },
     "execution_count": 25,
     "metadata": {},
     "output_type": "execute_result"
    }
   ],
   "source": [
    "# cluster 6\n",
    "cluster6_cv_dm_array = cv_dm_array[cluster6.index];\n",
    "print(cluster6_cv_dm_array.shape)\n",
    "cluster6_count = np.sum(cluster6_cv_dm_array, axis = 0).tolist()\n",
    "cluster6_count_df = pd.DataFrame(cluster6_count, index = names2, columns = ['count'])\n",
    "cluster6_count_df.sort_values(['count'], ascending = False).head(10)"
   ]
  },
  {
   "cell_type": "code",
   "execution_count": 26,
   "metadata": {},
   "outputs": [
    {
     "data": {
      "text/plain": [
       "True     0.716621\n",
       "False    0.283379\n",
       "Name: resolved, dtype: float64"
      ]
     },
     "execution_count": 26,
     "metadata": {},
     "output_type": "execute_result"
    }
   ],
   "source": [
    "## Get each group resolve ratio\n",
    "cluster1['resolved'].value_counts(normalize=True)"
   ]
  },
  {
   "cell_type": "code",
   "execution_count": 27,
   "metadata": {},
   "outputs": [
    {
     "data": {
      "text/plain": [
       "True     0.646018\n",
       "False    0.353982\n",
       "Name: resolved, dtype: float64"
      ]
     },
     "execution_count": 27,
     "metadata": {},
     "output_type": "execute_result"
    }
   ],
   "source": [
    "cluster2['resolved'].value_counts(normalize=True)"
   ]
  },
  {
   "cell_type": "code",
   "execution_count": 28,
   "metadata": {},
   "outputs": [
    {
     "data": {
      "text/plain": [
       "True     0.711111\n",
       "False    0.288889\n",
       "Name: resolved, dtype: float64"
      ]
     },
     "execution_count": 28,
     "metadata": {},
     "output_type": "execute_result"
    }
   ],
   "source": [
    "cluster3['resolved'].value_counts(normalize=True)"
   ]
  },
  {
   "cell_type": "code",
   "execution_count": 29,
   "metadata": {},
   "outputs": [
    {
     "data": {
      "text/plain": [
       "True     0.722222\n",
       "False    0.277778\n",
       "Name: resolved, dtype: float64"
      ]
     },
     "execution_count": 29,
     "metadata": {},
     "output_type": "execute_result"
    }
   ],
   "source": [
    "cluster4['resolved'].value_counts(normalize=True)"
   ]
  },
  {
   "cell_type": "code",
   "execution_count": 30,
   "metadata": {},
   "outputs": [
    {
     "data": {
      "text/plain": [
       "True     0.717949\n",
       "False    0.282051\n",
       "Name: resolved, dtype: float64"
      ]
     },
     "execution_count": 30,
     "metadata": {},
     "output_type": "execute_result"
    }
   ],
   "source": [
    "cluster5['resolved'].value_counts(normalize=True)"
   ]
  },
  {
   "cell_type": "code",
   "execution_count": 31,
   "metadata": {},
   "outputs": [
    {
     "data": {
      "text/plain": [
       "True     0.518519\n",
       "False    0.481481\n",
       "Name: resolved, dtype: float64"
      ]
     },
     "execution_count": 31,
     "metadata": {},
     "output_type": "execute_result"
    }
   ],
   "source": [
    "cluster6['resolved'].value_counts(normalize=True)"
   ]
  },
  {
   "cell_type": "markdown",
   "metadata": {},
   "source": [
    "### Predicting Resolved status from text"
   ]
  },
  {
   "cell_type": "code",
   "execution_count": 32,
   "metadata": {},
   "outputs": [
    {
     "name": "stdout",
     "output_type": "stream",
     "text": [
      "['True' 'False']\n",
      "(627, 197)\n",
      "<class 'list'> 197\n"
     ]
    }
   ],
   "source": [
    "# Classification to predict resolved status from question text\n",
    "# train test split\n",
    "# data are X, labels are y\n",
    "ucernDf['resolved'] = ucernDf.resolved.apply(str) # convert boolean to str for target variable\n",
    "print(ucernDf.resolved.unique())\n",
    "\n",
    "#1. Tfidf on content\n",
    "tfidf1 = TfidfVectorizer(lowercase = True, \n",
    "                        stop_words=myStopwords, \n",
    "                        max_df=0.90, \n",
    "                        min_df=0.05,\n",
    "                        ngram_range = (1,3))\n",
    "\n",
    "tfidf_dm = tfidf1.fit_transform(ucernDf['cleancontent'])\n",
    "print(tfidf_dm.shape)\n",
    "names = tfidf1.get_feature_names()\n",
    "print(type(names), len(names))\n",
    "\n"
   ]
  },
  {
   "cell_type": "code",
   "execution_count": 85,
   "metadata": {},
   "outputs": [
    {
     "name": "stdout",
     "output_type": "stream",
     "text": [
      "(438, 197)\n",
      "(189, 197)\n",
      "(438,)\n",
      "(189,)\n"
     ]
    }
   ],
   "source": [
    "X = tfidf_dm.toarray()  #remember this is the output from the vectorizer and we are turning it into an array\n",
    "y = ucernDf['resolved'].values #this is an array of labels\n",
    "\n",
    "\n",
    "X_train, X_test, y_train, y_test = train_test_split(X, y, test_size=0.3, random_state=42) #random_state is set seed\n",
    "\n",
    "# function creates 4 output structures - order matters\n",
    "print(X_train.shape)\n",
    "print(X_test.shape)\n",
    "print(y_train.shape)\n",
    "print(y_test.shape)\n"
   ]
  },
  {
   "cell_type": "code",
   "execution_count": 86,
   "metadata": {},
   "outputs": [
    {
     "name": "stdout",
     "output_type": "stream",
     "text": [
      "mean: 0.607 (std: 0.037)\n",
      "\n",
      "0.650793650794\n",
      "accuracy: 0.650793650794\n",
      "             precision    recall  f1-score   support\n",
      "\n",
      "      False       0.42      0.44      0.43        57\n",
      "       True       0.75      0.74      0.75       132\n",
      "\n",
      "avg / total       0.65      0.65      0.65       189\n",
      "\n"
     ]
    }
   ],
   "source": [
    "# Decision Tree Classifier\n",
    "from sklearn.tree import DecisionTreeClassifier\n",
    "\n",
    "# fit a CART model to the data\n",
    "model = DecisionTreeClassifier(random_state = 42)\n",
    "model.fit(X_train, y_train)\n",
    "scores = cross_val_score(model, X_train, y_train, cv=10, scoring='accuracy')\n",
    "print(\"mean: {:.3f} (std: {:.3f})\".format(scores.mean(),\n",
    "                                          scores.std()),\n",
    "                                          end=\"\\n\\n\" )\n",
    "# make predictions\n",
    "clf1_expected = y_test\n",
    "clf1_predicted = model.predict(X_test)\n",
    "\n",
    "print(model.score(X_test,y_test))\n",
    "\n",
    "# summarize the fit of the model\n",
    "print(\"accuracy: \" + str(metrics.accuracy_score(clf1_expected, clf1_predicted)))\n",
    "print(metrics.classification_report(clf1_expected, clf1_predicted))"
   ]
  },
  {
   "cell_type": "code",
   "execution_count": 87,
   "metadata": {},
   "outputs": [
    {
     "name": "stdout",
     "output_type": "stream",
     "text": [
      "0.698412698413\n",
      "accuracy: 0.698412698413\n",
      "             precision    recall  f1-score   support\n",
      "\n",
      "      False       0.00      0.00      0.00        57\n",
      "       True       0.70      1.00      0.82       132\n",
      "\n",
      "avg / total       0.49      0.70      0.57       189\n",
      "\n"
     ]
    },
    {
     "name": "stderr",
     "output_type": "stream",
     "text": [
      "C:\\ProgramData\\Anaconda3\\lib\\site-packages\\sklearn\\metrics\\classification.py:1113: UndefinedMetricWarning: Precision and F-score are ill-defined and being set to 0.0 in labels with no predicted samples.\n",
      "  'precision', 'predicted', average, warn_for)\n"
     ]
    }
   ],
   "source": [
    "# Random Forest\n",
    "clf = RandomForestClassifier(max_depth=2, random_state=42)\n",
    "clf.fit(X, y)\n",
    "clf1_expected = y_test\n",
    "clf1_predicted = clf.predict(X_test)\n",
    "\n",
    "print(clf.score(X_test,y_test))\n",
    "#print(clf.feature_importances_)\n",
    "\n",
    "# summarize the fit of the model\n",
    "print(\"accuracy: \" + str(metrics.accuracy_score(clf1_expected, clf1_predicted)))\n",
    "print(metrics.classification_report(clf1_expected, clf1_predicted))"
   ]
  },
  {
   "cell_type": "code",
   "execution_count": 90,
   "metadata": {},
   "outputs": [
    {
     "name": "stdout",
     "output_type": "stream",
     "text": [
      "MultinomialNB(alpha=1.0, class_prior=None, fit_prior=True)\n",
      "0.703703703704\n",
      "accuracy: 0.703703703704\n",
      "             precision    recall  f1-score   support\n",
      "\n",
      "      False       1.00      0.02      0.03        57\n",
      "       True       0.70      1.00      0.82       132\n",
      "\n",
      "avg / total       0.79      0.70      0.59       189\n",
      "\n"
     ]
    }
   ],
   "source": [
    "# Multinomial Naive Bayes\n",
    "from sklearn.naive_bayes import MultinomialNB\n",
    "\n",
    "# fit a Naive Bayes model to the data\n",
    "model = MultinomialNB()\n",
    "print(model)\n",
    "model.fit(X_train, y_train)\n",
    "\n",
    "# make predictions\n",
    "clf2_expected = y_test\n",
    "clf2_predicted = model.predict(X_test)\n",
    "\n",
    "print(model.score(X_test, y_test))\n",
    "\n",
    "# summarize the fit of the model\n",
    "print(\"accuracy: \" + str(metrics.accuracy_score(clf2_expected, clf2_predicted)))\n",
    "print(metrics.classification_report(clf2_expected, clf2_predicted))"
   ]
  },
  {
   "cell_type": "code",
   "execution_count": 91,
   "metadata": {},
   "outputs": [
    {
     "name": "stdout",
     "output_type": "stream",
     "text": [
      "GaussianNB(priors=None)\n",
      "0.597883597884\n",
      "accuracy: 0.597883597884\n",
      "             precision    recall  f1-score   support\n",
      "\n",
      "      False       0.39      0.56      0.46        57\n",
      "       True       0.76      0.61      0.68       132\n",
      "\n",
      "avg / total       0.65      0.60      0.61       189\n",
      "\n"
     ]
    }
   ],
   "source": [
    "# Gaussian Naive Bayes\n",
    "from sklearn.naive_bayes import GaussianNB\n",
    "\n",
    "# fit a Naive Bayes model to the data\n",
    "model = GaussianNB()\n",
    "print(model)\n",
    "model.fit(X_train, y_train)\n",
    "\n",
    "# make predictions\n",
    "clf2_expected = y_test\n",
    "clf2_predicted = model.predict(X_test)\n",
    "\n",
    "print(model.score(X_test, y_test))\n",
    "\n",
    "# summarize the fit of the model\n",
    "print(\"accuracy: \" + str(metrics.accuracy_score(clf2_expected, clf2_predicted)))\n",
    "print(metrics.classification_report(clf2_expected, clf2_predicted))"
   ]
  },
  {
   "cell_type": "code",
   "execution_count": 92,
   "metadata": {},
   "outputs": [
    {
     "name": "stdout",
     "output_type": "stream",
     "text": [
      "LogisticRegression(C=1.0, class_weight=None, dual=False, fit_intercept=True,\n",
      "          intercept_scaling=1, max_iter=100, multi_class='ovr', n_jobs=1,\n",
      "          penalty='l2', random_state=42, solver='liblinear', tol=0.0001,\n",
      "          verbose=0, warm_start=False)\n",
      "0.708994708995\n",
      "accuracy: 0.708994708995\n",
      "             precision    recall  f1-score   support\n",
      "\n",
      "      False       0.62      0.09      0.15        57\n",
      "       True       0.71      0.98      0.82       132\n",
      "\n",
      "avg / total       0.69      0.71      0.62       189\n",
      "\n",
      "0.708994708995\n"
     ]
    }
   ],
   "source": [
    "# Logistic Regression\n",
    "from sklearn.linear_model import LogisticRegression\n",
    "\n",
    "# fit a logistic regression model to the data\n",
    "model = LogisticRegression(random_state = 42)\n",
    "print(model)\n",
    "model.fit(X_train, y_train)\n",
    "\n",
    "# make predictions\n",
    "clf3_expected = y_test\n",
    "clf3_predicted = model.predict(X_test)\n",
    "\n",
    "print(model.score(X_test, y_test))\n",
    "\n",
    "# summarize the fit of the model\n",
    "print(\"accuracy: \" + str(metrics.accuracy_score(clf3_expected, clf3_predicted)))\n",
    "print(metrics.classification_report(clf3_expected, clf3_predicted))\n",
    "\n",
    "print(model.score(X_test, y_test))"
   ]
  },
  {
   "cell_type": "code",
   "execution_count": 93,
   "metadata": {},
   "outputs": [
    {
     "name": "stdout",
     "output_type": "stream",
     "text": [
      "The optimal number of neighbors is 19\n"
     ]
    }
   ],
   "source": [
    "# KNN\n",
    "# creating odd list of K for KNN\n",
    "myList = list(range(1,35))\n",
    "\n",
    "# subsetting just the odd ones\n",
    "neighbors = list(filter(lambda x: x % 2 != 0, myList))\n",
    "\n",
    "# empty list that will hold cv scores\n",
    "cv_scores = []\n",
    "\n",
    "#takes some time, get a soda...\n",
    "# perform 10-fold cross validation\n",
    "for k in neighbors:\n",
    "    knn = KNeighborsClassifier(n_neighbors=k)\n",
    "    scores = cross_val_score(knn, X_train, y_train, cv=10, scoring='accuracy')\n",
    "    cv_scores.append(scores.mean())\n",
    "    \n",
    "# changing to misclassification error\n",
    "MSE = [1 - x for x in cv_scores]\n",
    "\n",
    "# determining best k\n",
    "optimal_k = neighbors[MSE.index(min(MSE))]\n",
    "print(\"The optimal number of neighbors is %d\" % optimal_k)"
   ]
  },
  {
   "cell_type": "code",
   "execution_count": 94,
   "metadata": {},
   "outputs": [
    {
     "data": {
      "image/png": "[encoded data removed]",
      "text/plain": [
       "<matplotlib.figure.Figure at 0xdc55048>"
      ]
     },
     "metadata": {},
     "output_type": "display_data"
    }
   ],
   "source": [
    "# plot misclassification error vs k\n",
    "plt.plot(neighbors, MSE)\n",
    "plt.xlabel('Number of Neighbors K')\n",
    "plt.ylabel('Misclassification Error')\n",
    "plt.show()\n"
   ]
  },
  {
   "cell_type": "code",
   "execution_count": 95,
   "metadata": {},
   "outputs": [
    {
     "name": "stdout",
     "output_type": "stream",
     "text": [
      "0.708994708995\n",
      "accuracy: 0.708994708995\n",
      "             precision    recall  f1-score   support\n",
      "\n",
      "      False       0.67      0.07      0.13        57\n",
      "       True       0.71      0.98      0.83       132\n",
      "\n",
      "avg / total       0.70      0.71      0.61       189\n",
      "\n"
     ]
    }
   ],
   "source": [
    "# instantiate learning model \n",
    "model = KNeighborsClassifier(n_neighbors=19)\n",
    "model.fit(X_train, y_train)\n",
    "\n",
    "# make predictions\n",
    "knn2_expected = y_test\n",
    "knn2_predicted = model.predict(X_test)\n",
    "\n",
    "\n",
    "print(model.score(X_test,y_test))\n",
    "\n",
    "# summarize the fit of the model\n",
    "print(\"accuracy: \" + str(metrics.accuracy_score(knn2_expected, knn2_predicted)))\n",
    "print(metrics.classification_report(knn2_expected, knn2_predicted))\n"
   ]
  },
  {
   "cell_type": "markdown",
   "metadata": {},
   "source": [
    "### Add viewCount and replyCount to the classification models see if results is better."
   ]
  },
  {
   "cell_type": "code",
   "execution_count": 98,
   "metadata": {},
   "outputs": [
    {
     "name": "stdout",
     "output_type": "stream",
     "text": [
      "(627, 197)\n",
      "(627, 199)\n",
      "(438, 199)\n",
      "(189, 199)\n",
      "(438,)\n",
      "(189,)\n"
     ]
    }
   ],
   "source": [
    "# add viewCount and replyCount to the classification models\n",
    "print(tfidf_dm.shape)\n",
    "Xdf = pd.DataFrame(tfidf_dm.toarray())\n",
    "Xdf['replyCound'] = np.transpose(ucernDf.replyCount.values)\n",
    "ucernDf['authorCode'] = ucernDf['author'].astype('category').cat.codes\n",
    "Xdf['authorCode'] = np.transpose(ucernDf.authorCode.values)\n",
    "print(Xdf.shape)\n",
    "\n",
    "X_train, X_test, y_train, y_test = train_test_split(Xdf, y, test_size=0.3, random_state=42) #random_state is set seed\n",
    "\n",
    "# function creates 4 output structures - order matters\n",
    "print(X_train.shape)\n",
    "print(X_test.shape)\n",
    "\n",
    "print(y_train.shape)\n",
    "print(y_test.shape)\n"
   ]
  },
  {
   "cell_type": "code",
   "execution_count": 99,
   "metadata": {},
   "outputs": [
    {
     "name": "stdout",
     "output_type": "stream",
     "text": [
      "LogisticRegression(C=1.0, class_weight=None, dual=False, fit_intercept=True,\n",
      "          intercept_scaling=1, max_iter=100, multi_class='ovr', n_jobs=1,\n",
      "          penalty='l2', random_state=42, solver='liblinear', tol=0.0001,\n",
      "          verbose=0, warm_start=False)\n",
      "0.708994708995\n",
      "accuracy: 0.708994708995\n",
      "             precision    recall  f1-score   support\n",
      "\n",
      "      False       0.58      0.12      0.20        57\n",
      "       True       0.72      0.96      0.82       132\n",
      "\n",
      "avg / total       0.68      0.71      0.64       189\n",
      "\n",
      "0.708994708995\n"
     ]
    }
   ],
   "source": [
    "# Logistic Regression\n",
    "from sklearn.linear_model import LogisticRegression\n",
    "\n",
    "# fit a logistic regression model to the data\n",
    "model = LogisticRegression(random_state = 42)\n",
    "print(model)\n",
    "model.fit(X_train, y_train)\n",
    "\n",
    "# make predictions\n",
    "clf3_expected = y_test\n",
    "clf3_predicted = model.predict(X_test)\n",
    "\n",
    "print(model.score(X_test, y_test))\n",
    "\n",
    "# summarize the fit of the model\n",
    "print(\"accuracy: \" + str(metrics.accuracy_score(clf3_expected, clf3_predicted)))\n",
    "print(metrics.classification_report(clf3_expected, clf3_predicted))\n",
    "\n",
    "print(model.score(X_test, y_test))"
   ]
  },
  {
   "cell_type": "markdown",
   "metadata": {},
   "source": [
    "### Topics modeling"
   ]
  },
  {
   "cell_type": "code",
   "execution_count": 100,
   "metadata": {
    "collapsed": true
   },
   "outputs": [],
   "source": [
    "# topic \n",
    "tfidf = TfidfVectorizer(lowercase=True, \n",
    "                        stop_words= myStopwords, \n",
    "                        max_df=0.90, \n",
    "                        min_df=0.05,\n",
    "                        ngram_range = (1,3)) \n",
    "tfidf_dm = tfidf.fit_transform(ucernDf['cleancontent'])\n",
    "tfidf_dm.shape\n",
    "\n",
    "n_topics = 6\n",
    "n_top_words = 5"
   ]
  },
  {
   "cell_type": "code",
   "execution_count": 44,
   "metadata": {},
   "outputs": [
    {
     "name": "stdout",
     "output_type": "stream",
     "text": [
      "197\n",
      "\n",
      "Topics for news in NMF model:\n",
      "Topic #0:\n",
      "error message error message script log\n",
      "Topic #1:\n",
      "postacute exception placement type cernerasp\n",
      "Topic #2:\n",
      "patient issue time user attached\n",
      "Topic #3:\n",
      "report data id days query\n",
      "Topic #4:\n",
      "component mpages mpage bedrock set\n",
      "Topic #5:\n",
      "fax clinicalreview send review cr\n",
      "\n"
     ]
    }
   ],
   "source": [
    "# Fit the NMF model\n",
    "nmf = NMF(n_components=n_topics, random_state=1).fit(tfidf_dm)\n",
    "\n",
    "feature_names = tfidf.get_feature_names()\n",
    "print(len(feature_names))\n",
    "\n",
    "print(\"\\nTopics for news in NMF model:\")\n",
    "# nice function for printing topic information - \n",
    "# https://stackoverflow.com/questions/34429635/topic-modelling-assign-a-document-with-top-2-topics-as-category-label-sklear\n",
    "\n",
    "def print_top_words(model, feature_names, n_top_words):\n",
    "    for topic_idx, topic in enumerate(model.components_):\n",
    "        print(\"Topic #%d:\" % topic_idx)\n",
    "        print(\" \".join([feature_names[i]\n",
    "                        for i in topic.argsort()[:-n_top_words - 1:-1]]))\n",
    "    print()\n",
    "print_top_words(nmf, feature_names, n_top_words)"
   ]
  },
  {
   "cell_type": "code",
   "execution_count": 45,
   "metadata": {
    "collapsed": true
   },
   "outputs": [],
   "source": [
    "# x = [1, 2, 3]\n",
    "# y = [4, 5, 6]\n",
    "# zipped = zip(x, y)\n",
    "# list(zipped)\n",
    "# [(1, 4), (2, 5), (3, 6)]\n",
    "#define a function for cosine similarity - the latest version in sklearn doesn't take vectors\n",
    "#compute cosine similarity of v1 to v2: (v1 dot v1)/(||v1||*||v2||)'\n",
    "def cosine_similarity(a, b):\n",
    "    return sum([i*j for i,j in zip(a, b)])/(math.sqrt(sum([i*i for i in a]))* math.sqrt(sum([i*i for i in b])))"
   ]
  },
  {
   "cell_type": "code",
   "execution_count": 46,
   "metadata": {
    "collapsed": true
   },
   "outputs": [],
   "source": [
    "# add topic to original data frame\n",
    "# define a function for determining the most similar topic\n",
    "def topic_sim(arr, feature_names, n_top_words, topics):\n",
    "    \"\"\"\n",
    "    @type  arr: array of number\n",
    "    @param arr: vectorizer number in an array.\n",
    "    @type  feature_names: array of string\n",
    "    @param feature_names: The array of feature names.\n",
    "    @type  n_top_words: number\n",
    "    @param n_top_words: The number of topics to return.\n",
    "    @type  topics: array of string\n",
    "    @param topics: Complete list of topics from topic extraction.\n",
    "    \n",
    "    @rtype:   top topics\n",
    "    @return:  top topics in string separated by space.\n",
    "    \"\"\"\n",
    "    top_sim = 0\n",
    "    top_topic = np.array([])\n",
    "    # iterate over topics\n",
    "    for idx, topic in enumerate(topics):\n",
    "        # calculate cosine similarity - substitute euclidean distance if that is your preferred metric\n",
    "        # could switch to euclidean_distances\n",
    "        sim = cosine_similarity(arr, topic)\n",
    "        if sim > top_sim:\n",
    "            top_sim = sim\n",
    "            top_topic = topic\n",
    "    \n",
    "    # argsort sort is in ascending order, so pick last n_top_words from it\n",
    "    selected_topic_index = top_topic.argsort()[:-n_top_words-1:-1]\n",
    "    # return the text feature names by indeing back into feature_names (assigned earlier)   \n",
    "    return \" \".join([feature_names[i] for i in selected_topic_index])"
   ]
  },
  {
   "cell_type": "code",
   "execution_count": 47,
   "metadata": {},
   "outputs": [
    {
     "name": "stderr",
     "output_type": "stream",
     "text": [
      "C:\\ProgramData\\Anaconda3\\lib\\site-packages\\ipykernel_launcher.py:9: RuntimeWarning: invalid value encountered in double_scalars\n",
      "  if __name__ == '__main__':\n"
     ]
    }
   ],
   "source": [
    "ucernDf['nmf_topics'] = np.ma.apply_along_axis(topic_sim, axis=1, \n",
    "        arr=tfidf_dm.toarray(), feature_names=tfidf.get_feature_names(), n_top_words=3, topics=nmf.components_)"
   ]
  },
  {
   "cell_type": "code",
   "execution_count": 48,
   "metadata": {},
   "outputs": [
    {
     "name": "stdout",
     "output_type": "stream",
     "text": [
      "\n",
      "Topics for texts in LSA model:\n",
      "Topic #0:\n",
      "error issue patient report attached\n",
      "Topic #1:\n",
      "error exception cernerasp postacute health\n",
      "Topic #2:\n",
      "error interqual message error message review\n",
      "Topic #3:\n",
      "report fax error message data\n",
      "Topic #4:\n",
      "report mpages component mpage packages\n",
      "Topic #5:\n",
      "fax postacute component placement code\n",
      "\n"
     ]
    }
   ],
   "source": [
    "# SVD \n",
    "# Fit LSA. Use algorithm = “randomized” for large datasets\n",
    "# apply to our text examples again\n",
    "lsa = TruncatedSVD(6, algorithm = 'arpack')\n",
    "cvnorm_lsa = lsa.fit_transform(tfidf_dm)\n",
    "cvnorm_lsa = Normalizer(copy=False).fit_transform(cvnorm_lsa)\n",
    "\n",
    "\n",
    "pd.DataFrame(lsa.components_, index = [\"component_1\",\"component_2\",\"component_3\",\"component_4\",\"component_5\",\"component_6\"],\n",
    "             columns = tfidf.get_feature_names())\n",
    "\n",
    "pd.DataFrame(cvnorm_lsa, index = ucernDf['cleancontent'], \n",
    "             columns = [\"component_1\",\"component_2\",\"component_3\",\"component_4\",\"component_5\",\"component_6\"])\n",
    "\n",
    "#use LSA for topic extraction\n",
    "feature_names = tfidf.get_feature_names()\n",
    "\n",
    "print(\"\\nTopics for texts in LSA model:\")\n",
    "print_top_words(lsa, feature_names, n_top_words)"
   ]
  },
  {
   "cell_type": "code",
   "execution_count": 49,
   "metadata": {},
   "outputs": [
    {
     "name": "stderr",
     "output_type": "stream",
     "text": [
      "C:\\ProgramData\\Anaconda3\\lib\\site-packages\\ipykernel_launcher.py:9: RuntimeWarning: invalid value encountered in double_scalars\n",
      "  if __name__ == '__main__':\n"
     ]
    }
   ],
   "source": [
    "ucernDf['lsa_topics'] = np.ma.apply_along_axis(topic_sim, axis=1, \n",
    "       arr=tfidf_dm.toarray(), feature_names=tfidf.get_feature_names(), n_top_words=3, topics=lsa.components_)"
   ]
  },
  {
   "cell_type": "code",
   "execution_count": 50,
   "metadata": {},
   "outputs": [
    {
     "name": "stdout",
     "output_type": "stream",
     "text": [
      "\n",
      "Topics for texts in LDA model:\n",
      "Topic #0:\n",
      "fax add way ensocare end\n",
      "Topic #1:\n",
      "note create let know let did\n",
      "Topic #2:\n",
      "package fax field number error\n",
      "Topic #3:\n",
      "error issue attached clinicalreview review\n",
      "Topic #4:\n",
      "report patient component date discharge\n",
      "Topic #5:\n",
      "exception cernerasp bedrock postacute thanks\n",
      "\n"
     ]
    }
   ],
   "source": [
    "# LDA\n",
    "# Fit the LDA model\n",
    "lda = LatentDirichletAllocation(n_topics=6, max_iter=5,\n",
    "                                learning_method='online', learning_offset=50.,\n",
    "                                random_state=0)\n",
    "lda.fit(tfidf_dm)\n",
    "\n",
    "feature_names = tfidf.get_feature_names()\n",
    "\n",
    "#what are the topics for this corpus?\n",
    "print(\"\\nTopics for texts in LDA model:\")\n",
    "print_top_words(lda, feature_names, n_top_words)"
   ]
  },
  {
   "cell_type": "code",
   "execution_count": 51,
   "metadata": {},
   "outputs": [
    {
     "name": "stderr",
     "output_type": "stream",
     "text": [
      "C:\\ProgramData\\Anaconda3\\lib\\site-packages\\ipykernel_launcher.py:9: RuntimeWarning: invalid value encountered in double_scalars\n",
      "  if __name__ == '__main__':\n"
     ]
    }
   ],
   "source": [
    "ucernDf['lda_topics'] = np.ma.apply_along_axis(topic_sim, axis=1, \n",
    "       arr=tfidf_dm.toarray(), feature_names=tfidf.get_feature_names(), n_top_words=3, topics=lda.components_)"
   ]
  },
  {
   "cell_type": "markdown",
   "metadata": {},
   "source": [
    "### Use KMean Clustering to group text and compare them to topics from topic models"
   ]
  },
  {
   "cell_type": "code",
   "execution_count": 52,
   "metadata": {},
   "outputs": [
    {
     "name": "stdout",
     "output_type": "stream",
     "text": [
      "Clusters:\n",
      "2    193\n",
      "4    156\n",
      "5     95\n",
      "3     80\n",
      "1     64\n",
      "0     39\n",
      "Name: clusters, dtype: int64\n"
     ]
    }
   ],
   "source": [
    "# Kmeans\n",
    "km = KMeans(n_clusters=6, init='k-means++', max_iter=100, random_state = 42, n_jobs = -2)\n",
    "news_k = km.fit(tfidf_dm)\n",
    "clusters = km.labels_.tolist()\n",
    "ucernDf['clusters'] = clusters\n",
    "\n",
    "\n",
    "print(\"Clusters:\")\n",
    "print(ucernDf['clusters'].value_counts())"
   ]
  },
  {
   "cell_type": "code",
   "execution_count": 53,
   "metadata": {},
   "outputs": [
    {
     "name": "stdout",
     "output_type": "stream",
     "text": [
      "Clusters:\n",
      "2    193\n",
      "4    156\n",
      "5     95\n",
      "3     80\n",
      "1     64\n",
      "0     39\n",
      "Name: clusters, dtype: int64\n"
     ]
    }
   ],
   "source": [
    "print(\"Clusters:\")\n",
    "print(ucernDf['clusters'].value_counts())"
   ]
  },
  {
   "cell_type": "code",
   "execution_count": 54,
   "metadata": {},
   "outputs": [
    {
     "name": "stdout",
     "output_type": "stream",
     "text": [
      "\n",
      "NMF:\n",
      "patient issue time               233\n",
      "component mpages mpage           123\n",
      "error message error message      103\n",
      "postacute exception placement     69\n",
      "fax clinicalreview send           57\n",
      "report data id                    41\n",
      "                                   1\n",
      "Name: nmf_topics, dtype: int64\n"
     ]
    }
   ],
   "source": [
    "print(\"\\nNMF:\")\n",
    "print(ucernDf['nmf_topics'].value_counts())"
   ]
  },
  {
   "cell_type": "code",
   "execution_count": 55,
   "metadata": {},
   "outputs": [
    {
     "name": "stdout",
     "output_type": "stream",
     "text": [
      "\n",
      "LDA:\n",
      "error issue attached           249\n",
      "report patient component       163\n",
      "exception cernerasp bedrock     82\n",
      "fax add way                     60\n",
      "note create let know            55\n",
      "package fax field               17\n",
      "                                 1\n",
      "Name: lda_topics, dtype: int64\n"
     ]
    }
   ],
   "source": [
    "print(\"\\nLDA:\")\n",
    "print(ucernDf['lda_topics'].value_counts())"
   ]
  },
  {
   "cell_type": "code",
   "execution_count": 56,
   "metadata": {},
   "outputs": [
    {
     "name": "stdout",
     "output_type": "stream",
     "text": [
      "\n",
      "LSA\n",
      "error issue patient          500\n",
      "error exception cernerasp     38\n",
      "report fax error              28\n",
      "fax postacute component       27\n",
      "report mpages component       21\n",
      "error interqual message       12\n",
      "                               1\n",
      "Name: lsa_topics, dtype: int64\n"
     ]
    }
   ],
   "source": [
    "print(\"\\nLSA\")\n",
    "print(ucernDf['lsa_topics'].value_counts())\n"
   ]
  },
  {
   "cell_type": "code",
   "execution_count": 57,
   "metadata": {
    "collapsed": true
   },
   "outputs": [],
   "source": [
    "#ucernDf.head()\n",
    "#what is the distribution of topics in cluster 1\n",
    "cluster1 = ucernDf[(ucernDf['clusters'] == 0)]\n",
    "cluster2 = ucernDf[(ucernDf['clusters'] == 1)]\n",
    "cluster3 = ucernDf[(ucernDf['clusters'] == 2)]\n",
    "cluster4 = ucernDf[(ucernDf['clusters'] == 3)]\n",
    "cluster5 = ucernDf[(ucernDf['clusters'] == 4)]\n",
    "cluster6 = ucernDf[(ucernDf['clusters'] == 5)]"
   ]
  },
  {
   "cell_type": "code",
   "execution_count": 58,
   "metadata": {},
   "outputs": [
    {
     "name": "stdout",
     "output_type": "stream",
     "text": [
      "(39, 197)\n"
     ]
    },
    {
     "data": {
      "text/html": [
       "<div>\n",
       "<style>\n",
       "    .dataframe thead tr:only-child th {\n",
       "        text-align: right;\n",
       "    }\n",
       "\n",
       "    .dataframe thead th {\n",
       "        text-align: left;\n",
       "    }\n",
       "\n",
       "    .dataframe tbody tr th {\n",
       "        vertical-align: top;\n",
       "    }\n",
       "</style>\n",
       "<table border=\"1\" class=\"dataframe\">\n",
       "  <thead>\n",
       "    <tr style=\"text-align: right;\">\n",
       "      <th></th>\n",
       "      <th>count</th>\n",
       "    </tr>\n",
       "  </thead>\n",
       "  <tbody>\n",
       "    <tr>\n",
       "      <th>report</th>\n",
       "      <td>18.350001</td>\n",
       "    </tr>\n",
       "    <tr>\n",
       "      <th>data</th>\n",
       "      <td>4.084082</td>\n",
       "    </tr>\n",
       "    <tr>\n",
       "      <th>date</th>\n",
       "      <td>2.521056</td>\n",
       "    </tr>\n",
       "    <tr>\n",
       "      <th>days</th>\n",
       "      <td>2.327338</td>\n",
       "    </tr>\n",
       "    <tr>\n",
       "      <th>looks</th>\n",
       "      <td>2.064761</td>\n",
       "    </tr>\n",
       "    <tr>\n",
       "      <th>error</th>\n",
       "      <td>2.042345</td>\n",
       "    </tr>\n",
       "    <tr>\n",
       "      <th>query</th>\n",
       "      <td>1.975260</td>\n",
       "    </tr>\n",
       "    <tr>\n",
       "      <th>facility</th>\n",
       "      <td>1.970303</td>\n",
       "    </tr>\n",
       "    <tr>\n",
       "      <th>number</th>\n",
       "      <td>1.825478</td>\n",
       "    </tr>\n",
       "    <tr>\n",
       "      <th>id</th>\n",
       "      <td>1.775161</td>\n",
       "    </tr>\n",
       "  </tbody>\n",
       "</table>\n",
       "</div>"
      ],
      "text/plain": [
       "              count\n",
       "report    18.350001\n",
       "data       4.084082\n",
       "date       2.521056\n",
       "days       2.327338\n",
       "looks      2.064761\n",
       "error      2.042345\n",
       "query      1.975260\n",
       "facility   1.970303\n",
       "number     1.825478\n",
       "id         1.775161"
      ]
     },
     "execution_count": 58,
     "metadata": {},
     "output_type": "execute_result"
    }
   ],
   "source": [
    "# cluster 1\n",
    "cluster1_tf_dm_array = tfidf_dm[cluster1.index];\n",
    "print(cluster1_tf_dm_array.shape)\n",
    "cluster1_count = np.sum(cluster1_tf_dm_array, axis = 0)\n",
    "cluster1_count_df = pd.DataFrame(np.transpose(cluster1_count), index = tfidf.get_feature_names(), columns = ['count'])\n",
    "cluster1_count_df.sort_values(['count'], ascending = False).head(10)"
   ]
  },
  {
   "cell_type": "code",
   "execution_count": 59,
   "metadata": {},
   "outputs": [
    {
     "name": "stdout",
     "output_type": "stream",
     "text": [
      "(64, 197)\n"
     ]
    },
    {
     "data": {
      "text/html": [
       "<div>\n",
       "<style>\n",
       "    .dataframe thead tr:only-child th {\n",
       "        text-align: right;\n",
       "    }\n",
       "\n",
       "    .dataframe thead th {\n",
       "        text-align: left;\n",
       "    }\n",
       "\n",
       "    .dataframe tbody tr th {\n",
       "        vertical-align: top;\n",
       "    }\n",
       "</style>\n",
       "<table border=\"1\" class=\"dataframe\">\n",
       "  <thead>\n",
       "    <tr style=\"text-align: right;\">\n",
       "      <th></th>\n",
       "      <th>count</th>\n",
       "    </tr>\n",
       "  </thead>\n",
       "  <tbody>\n",
       "    <tr>\n",
       "      <th>fax</th>\n",
       "      <td>18.548033</td>\n",
       "    </tr>\n",
       "    <tr>\n",
       "      <th>clinicalreview</th>\n",
       "      <td>13.734366</td>\n",
       "    </tr>\n",
       "    <tr>\n",
       "      <th>cr</th>\n",
       "      <td>5.546638</td>\n",
       "    </tr>\n",
       "    <tr>\n",
       "      <th>issue</th>\n",
       "      <td>3.906969</td>\n",
       "    </tr>\n",
       "    <tr>\n",
       "      <th>send</th>\n",
       "      <td>3.708716</td>\n",
       "    </tr>\n",
       "    <tr>\n",
       "      <th>report</th>\n",
       "      <td>3.641418</td>\n",
       "    </tr>\n",
       "    <tr>\n",
       "      <th>mta</th>\n",
       "      <td>3.322125</td>\n",
       "    </tr>\n",
       "    <tr>\n",
       "      <th>user</th>\n",
       "      <td>3.012147</td>\n",
       "    </tr>\n",
       "    <tr>\n",
       "      <th>component</th>\n",
       "      <td>2.896848</td>\n",
       "    </tr>\n",
       "    <tr>\n",
       "      <th>patient</th>\n",
       "      <td>2.840517</td>\n",
       "    </tr>\n",
       "  </tbody>\n",
       "</table>\n",
       "</div>"
      ],
      "text/plain": [
       "                    count\n",
       "fax             18.548033\n",
       "clinicalreview  13.734366\n",
       "cr               5.546638\n",
       "issue            3.906969\n",
       "send             3.708716\n",
       "report           3.641418\n",
       "mta              3.322125\n",
       "user             3.012147\n",
       "component        2.896848\n",
       "patient          2.840517"
      ]
     },
     "execution_count": 59,
     "metadata": {},
     "output_type": "execute_result"
    }
   ],
   "source": [
    "# cluster 2\n",
    "cluster2_tf_dm_array = tfidf_dm[cluster2.index];\n",
    "print(cluster2_tf_dm_array.shape)\n",
    "cluster2_count = np.sum(cluster2_tf_dm_array, axis = 0)\n",
    "cluster2_count_df = pd.DataFrame(np.transpose(cluster2_count), index = tfidf.get_feature_names(), columns = ['count'])\n",
    "cluster2_count_df.sort_values(['count'], ascending = False).head(10)"
   ]
  },
  {
   "cell_type": "code",
   "execution_count": 60,
   "metadata": {},
   "outputs": [
    {
     "name": "stdout",
     "output_type": "stream",
     "text": [
      "(193, 197)\n"
     ]
    },
    {
     "data": {
      "text/html": [
       "<div>\n",
       "<style>\n",
       "    .dataframe thead tr:only-child th {\n",
       "        text-align: right;\n",
       "    }\n",
       "\n",
       "    .dataframe thead th {\n",
       "        text-align: left;\n",
       "    }\n",
       "\n",
       "    .dataframe tbody tr th {\n",
       "        vertical-align: top;\n",
       "    }\n",
       "</style>\n",
       "<table border=\"1\" class=\"dataframe\">\n",
       "  <thead>\n",
       "    <tr style=\"text-align: right;\">\n",
       "      <th></th>\n",
       "      <th>count</th>\n",
       "    </tr>\n",
       "  </thead>\n",
       "  <tbody>\n",
       "    <tr>\n",
       "      <th>issue</th>\n",
       "      <td>19.568043</td>\n",
       "    </tr>\n",
       "    <tr>\n",
       "      <th>patient</th>\n",
       "      <td>17.829892</td>\n",
       "    </tr>\n",
       "    <tr>\n",
       "      <th>attached</th>\n",
       "      <td>12.716875</td>\n",
       "    </tr>\n",
       "    <tr>\n",
       "      <th>component</th>\n",
       "      <td>12.048259</td>\n",
       "    </tr>\n",
       "    <tr>\n",
       "      <th>time</th>\n",
       "      <td>10.868952</td>\n",
       "    </tr>\n",
       "    <tr>\n",
       "      <th>list</th>\n",
       "      <td>10.291528</td>\n",
       "    </tr>\n",
       "    <tr>\n",
       "      <th>date</th>\n",
       "      <td>10.198325</td>\n",
       "    </tr>\n",
       "    <tr>\n",
       "      <th>patients</th>\n",
       "      <td>9.245612</td>\n",
       "    </tr>\n",
       "    <tr>\n",
       "      <th>mpage</th>\n",
       "      <td>9.078422</td>\n",
       "    </tr>\n",
       "    <tr>\n",
       "      <th>encounter</th>\n",
       "      <td>8.949014</td>\n",
       "    </tr>\n",
       "  </tbody>\n",
       "</table>\n",
       "</div>"
      ],
      "text/plain": [
       "               count\n",
       "issue      19.568043\n",
       "patient    17.829892\n",
       "attached   12.716875\n",
       "component  12.048259\n",
       "time       10.868952\n",
       "list       10.291528\n",
       "date       10.198325\n",
       "patients    9.245612\n",
       "mpage       9.078422\n",
       "encounter   8.949014"
      ]
     },
     "execution_count": 60,
     "metadata": {},
     "output_type": "execute_result"
    }
   ],
   "source": [
    "# cluster 3\n",
    "cluster3_tf_dm_array = tfidf_dm[cluster3.index];\n",
    "print(cluster3_tf_dm_array.shape)\n",
    "cluster3_count = np.sum(cluster3_tf_dm_array, axis = 0)\n",
    "cluster3_count_df = pd.DataFrame(np.transpose(cluster3_count), index = tfidf.get_feature_names(), columns = ['count'])\n",
    "cluster3_count_df.sort_values(['count'], ascending = False).head(10)"
   ]
  },
  {
   "cell_type": "code",
   "execution_count": 61,
   "metadata": {},
   "outputs": [
    {
     "name": "stdout",
     "output_type": "stream",
     "text": [
      "(80, 197)\n"
     ]
    },
    {
     "data": {
      "text/html": [
       "<div>\n",
       "<style>\n",
       "    .dataframe thead tr:only-child th {\n",
       "        text-align: right;\n",
       "    }\n",
       "\n",
       "    .dataframe thead th {\n",
       "        text-align: left;\n",
       "    }\n",
       "\n",
       "    .dataframe tbody tr th {\n",
       "        vertical-align: top;\n",
       "    }\n",
       "</style>\n",
       "<table border=\"1\" class=\"dataframe\">\n",
       "  <thead>\n",
       "    <tr style=\"text-align: right;\">\n",
       "      <th></th>\n",
       "      <th>count</th>\n",
       "    </tr>\n",
       "  </thead>\n",
       "  <tbody>\n",
       "    <tr>\n",
       "      <th>postacute</th>\n",
       "      <td>13.275931</td>\n",
       "    </tr>\n",
       "    <tr>\n",
       "      <th>placement</th>\n",
       "      <td>9.103967</td>\n",
       "    </tr>\n",
       "    <tr>\n",
       "      <th>exception</th>\n",
       "      <td>8.472191</td>\n",
       "    </tr>\n",
       "    <tr>\n",
       "      <th>ensocare</th>\n",
       "      <td>6.968088</td>\n",
       "    </tr>\n",
       "    <tr>\n",
       "      <th>services</th>\n",
       "      <td>6.448062</td>\n",
       "    </tr>\n",
       "    <tr>\n",
       "      <th>cernerasp</th>\n",
       "      <td>6.092748</td>\n",
       "    </tr>\n",
       "    <tr>\n",
       "      <th>health</th>\n",
       "      <td>5.325122</td>\n",
       "    </tr>\n",
       "    <tr>\n",
       "      <th>bedrock</th>\n",
       "      <td>5.004088</td>\n",
       "    </tr>\n",
       "    <tr>\n",
       "      <th>data</th>\n",
       "      <td>4.826868</td>\n",
       "    </tr>\n",
       "    <tr>\n",
       "      <th>type</th>\n",
       "      <td>4.743498</td>\n",
       "    </tr>\n",
       "  </tbody>\n",
       "</table>\n",
       "</div>"
      ],
      "text/plain": [
       "               count\n",
       "postacute  13.275931\n",
       "placement   9.103967\n",
       "exception   8.472191\n",
       "ensocare    6.968088\n",
       "services    6.448062\n",
       "cernerasp   6.092748\n",
       "health      5.325122\n",
       "bedrock     5.004088\n",
       "data        4.826868\n",
       "type        4.743498"
      ]
     },
     "execution_count": 61,
     "metadata": {},
     "output_type": "execute_result"
    }
   ],
   "source": [
    "# cluster 4\n",
    "cluster4_tf_dm_array = tfidf_dm[cluster4.index];\n",
    "print(cluster4_tf_dm_array.shape)\n",
    "cluster4_count = np.sum(cluster4_tf_dm_array, axis = 0)\n",
    "cluster4_count_df = pd.DataFrame(np.transpose(cluster4_count), index = tfidf.get_feature_names(), columns = ['count'])\n",
    "cluster4_count_df.sort_values(['count'], ascending = False).head(10)"
   ]
  },
  {
   "cell_type": "code",
   "execution_count": 62,
   "metadata": {},
   "outputs": [
    {
     "name": "stdout",
     "output_type": "stream",
     "text": [
      "(156, 197)\n"
     ]
    },
    {
     "data": {
      "text/html": [
       "<div>\n",
       "<style>\n",
       "    .dataframe thead tr:only-child th {\n",
       "        text-align: right;\n",
       "    }\n",
       "\n",
       "    .dataframe thead th {\n",
       "        text-align: left;\n",
       "    }\n",
       "\n",
       "    .dataframe tbody tr th {\n",
       "        vertical-align: top;\n",
       "    }\n",
       "</style>\n",
       "<table border=\"1\" class=\"dataframe\">\n",
       "  <thead>\n",
       "    <tr style=\"text-align: right;\">\n",
       "      <th></th>\n",
       "      <th>count</th>\n",
       "    </tr>\n",
       "  </thead>\n",
       "  <tbody>\n",
       "    <tr>\n",
       "      <th>thanks</th>\n",
       "      <td>12.681793</td>\n",
       "    </tr>\n",
       "    <tr>\n",
       "      <th>code</th>\n",
       "      <td>12.023147</td>\n",
       "    </tr>\n",
       "    <tr>\n",
       "      <th>set</th>\n",
       "      <td>11.385277</td>\n",
       "    </tr>\n",
       "    <tr>\n",
       "      <th>mpages</th>\n",
       "      <td>10.985228</td>\n",
       "    </tr>\n",
       "    <tr>\n",
       "      <th>review</th>\n",
       "      <td>10.083239</td>\n",
       "    </tr>\n",
       "    <tr>\n",
       "      <th>interqual</th>\n",
       "      <td>9.077745</td>\n",
       "    </tr>\n",
       "    <tr>\n",
       "      <th>know</th>\n",
       "      <td>6.747594</td>\n",
       "    </tr>\n",
       "    <tr>\n",
       "      <th>status</th>\n",
       "      <td>6.636910</td>\n",
       "    </tr>\n",
       "    <tr>\n",
       "      <th>confirm</th>\n",
       "      <td>6.334784</td>\n",
       "    </tr>\n",
       "    <tr>\n",
       "      <th>worklist</th>\n",
       "      <td>6.173458</td>\n",
       "    </tr>\n",
       "  </tbody>\n",
       "</table>\n",
       "</div>"
      ],
      "text/plain": [
       "               count\n",
       "thanks     12.681793\n",
       "code       12.023147\n",
       "set        11.385277\n",
       "mpages     10.985228\n",
       "review     10.083239\n",
       "interqual   9.077745\n",
       "know        6.747594\n",
       "status      6.636910\n",
       "confirm     6.334784\n",
       "worklist    6.173458"
      ]
     },
     "execution_count": 62,
     "metadata": {},
     "output_type": "execute_result"
    }
   ],
   "source": [
    "# cluster 5\n",
    "cluster5_tf_dm_array = tfidf_dm[cluster5.index];\n",
    "print(cluster5_tf_dm_array.shape)\n",
    "cluster5_count = np.sum(cluster5_tf_dm_array, axis = 0)\n",
    "cluster5_count_df = pd.DataFrame(np.transpose(cluster5_count), index = tfidf.get_feature_names(), columns = ['count'])\n",
    "cluster5_count_df.sort_values(['count'], ascending = False).head(10)"
   ]
  },
  {
   "cell_type": "code",
   "execution_count": 63,
   "metadata": {},
   "outputs": [
    {
     "name": "stdout",
     "output_type": "stream",
     "text": [
      "(95, 197)\n"
     ]
    },
    {
     "data": {
      "text/html": [
       "<div>\n",
       "<style>\n",
       "    .dataframe thead tr:only-child th {\n",
       "        text-align: right;\n",
       "    }\n",
       "\n",
       "    .dataframe thead th {\n",
       "        text-align: left;\n",
       "    }\n",
       "\n",
       "    .dataframe tbody tr th {\n",
       "        vertical-align: top;\n",
       "    }\n",
       "</style>\n",
       "<table border=\"1\" class=\"dataframe\">\n",
       "  <thead>\n",
       "    <tr style=\"text-align: right;\">\n",
       "      <th></th>\n",
       "      <th>count</th>\n",
       "    </tr>\n",
       "  </thead>\n",
       "  <tbody>\n",
       "    <tr>\n",
       "      <th>error</th>\n",
       "      <td>28.863812</td>\n",
       "    </tr>\n",
       "    <tr>\n",
       "      <th>message</th>\n",
       "      <td>8.652606</td>\n",
       "    </tr>\n",
       "    <tr>\n",
       "      <th>error message</th>\n",
       "      <td>7.193132</td>\n",
       "    </tr>\n",
       "    <tr>\n",
       "      <th>logs</th>\n",
       "      <td>6.649516</td>\n",
       "    </tr>\n",
       "    <tr>\n",
       "      <th>log</th>\n",
       "      <td>6.484900</td>\n",
       "    </tr>\n",
       "    <tr>\n",
       "      <th>issue</th>\n",
       "      <td>6.173856</td>\n",
       "    </tr>\n",
       "    <tr>\n",
       "      <th>files</th>\n",
       "      <td>6.037484</td>\n",
       "    </tr>\n",
       "    <tr>\n",
       "      <th>attached</th>\n",
       "      <td>5.897264</td>\n",
       "    </tr>\n",
       "    <tr>\n",
       "      <th>398</th>\n",
       "      <td>5.544428</td>\n",
       "    </tr>\n",
       "    <tr>\n",
       "      <th>script</th>\n",
       "      <td>5.410178</td>\n",
       "    </tr>\n",
       "  </tbody>\n",
       "</table>\n",
       "</div>"
      ],
      "text/plain": [
       "                   count\n",
       "error          28.863812\n",
       "message         8.652606\n",
       "error message   7.193132\n",
       "logs            6.649516\n",
       "log             6.484900\n",
       "issue           6.173856\n",
       "files           6.037484\n",
       "attached        5.897264\n",
       "398             5.544428\n",
       "script          5.410178"
      ]
     },
     "execution_count": 63,
     "metadata": {},
     "output_type": "execute_result"
    }
   ],
   "source": [
    "# cluster 6\n",
    "cluster6_tf_dm_array = tfidf_dm[cluster6.index];\n",
    "print(cluster6_tf_dm_array.shape)\n",
    "cluster6_count = np.sum(cluster6_tf_dm_array, axis = 0)\n",
    "cluster6_count_df = pd.DataFrame(np.transpose(cluster6_count), index = tfidf.get_feature_names(), columns = ['count'])\n",
    "cluster6_count_df.sort_values(['count'], ascending = False).head(10)"
   ]
  },
  {
   "cell_type": "code",
   "execution_count": 64,
   "metadata": {},
   "outputs": [
    {
     "name": "stdout",
     "output_type": "stream",
     "text": [
      "\n",
      "NMF:\n",
      "patient issue time               156\n",
      "component mpages mpage            30\n",
      "error message error message        4\n",
      "postacute exception placement      2\n",
      "report data id                     1\n",
      "Name: nmf_topics, dtype: int64\n",
      "\n",
      "LDA:\n",
      "error issue attached           90\n",
      "report patient component       69\n",
      "note create let know           17\n",
      "fax add way                    10\n",
      "package fax field               4\n",
      "exception cernerasp bedrock     3\n",
      "Name: lda_topics, dtype: int64\n",
      "\n",
      "LSA\n",
      "error issue patient        190\n",
      "report mpages component      3\n",
      "Name: lsa_topics, dtype: int64\n"
     ]
    }
   ],
   "source": [
    "print(\"\\nNMF:\")\n",
    "print(cluster3['nmf_topics'].value_counts())\n",
    "print(\"\\nLDA:\")\n",
    "print(cluster3['lda_topics'].value_counts())\n",
    "print(\"\\nLSA\")\n",
    "print(cluster3['lsa_topics'].value_counts())"
   ]
  },
  {
   "cell_type": "code",
   "execution_count": 65,
   "metadata": {},
   "outputs": [
    {
     "data": {
      "text/plain": [
       "True     0.74359\n",
       "False    0.25641\n",
       "Name: resolved, dtype: float64"
      ]
     },
     "execution_count": 65,
     "metadata": {},
     "output_type": "execute_result"
    }
   ],
   "source": [
    "cluster1['resolved'].value_counts(normalize=True)"
   ]
  },
  {
   "cell_type": "code",
   "execution_count": 66,
   "metadata": {},
   "outputs": [
    {
     "data": {
      "text/plain": [
       "True     0.6875\n",
       "False    0.3125\n",
       "Name: resolved, dtype: float64"
      ]
     },
     "execution_count": 66,
     "metadata": {},
     "output_type": "execute_result"
    }
   ],
   "source": [
    "cluster2['resolved'].value_counts(normalize=True)"
   ]
  },
  {
   "cell_type": "code",
   "execution_count": 67,
   "metadata": {},
   "outputs": [
    {
     "data": {
      "text/plain": [
       "True     0.746114\n",
       "False    0.253886\n",
       "Name: resolved, dtype: float64"
      ]
     },
     "execution_count": 67,
     "metadata": {},
     "output_type": "execute_result"
    }
   ],
   "source": [
    "cluster3['resolved'].value_counts(normalize=True)"
   ]
  },
  {
   "cell_type": "code",
   "execution_count": 68,
   "metadata": {},
   "outputs": [
    {
     "data": {
      "text/plain": [
       "True     0.675\n",
       "False    0.325\n",
       "Name: resolved, dtype: float64"
      ]
     },
     "execution_count": 68,
     "metadata": {},
     "output_type": "execute_result"
    }
   ],
   "source": [
    "cluster4['resolved'].value_counts(normalize=True)"
   ]
  },
  {
   "cell_type": "code",
   "execution_count": 69,
   "metadata": {},
   "outputs": [
    {
     "data": {
      "text/plain": [
       "True     0.705128\n",
       "False    0.294872\n",
       "Name: resolved, dtype: float64"
      ]
     },
     "execution_count": 69,
     "metadata": {},
     "output_type": "execute_result"
    }
   ],
   "source": [
    "cluster5['resolved'].value_counts(normalize=True)"
   ]
  },
  {
   "cell_type": "code",
   "execution_count": 70,
   "metadata": {},
   "outputs": [
    {
     "data": {
      "text/plain": [
       "True     0.578947\n",
       "False    0.421053\n",
       "Name: resolved, dtype: float64"
      ]
     },
     "execution_count": 70,
     "metadata": {},
     "output_type": "execute_result"
    }
   ],
   "source": [
    "cluster6['resolved'].value_counts(normalize=True)"
   ]
  },
  {
   "cell_type": "code",
   "execution_count": 71,
   "metadata": {
    "collapsed": true
   },
   "outputs": [],
   "source": [
    "topic1 = ucernDf[(ucernDf['nmf_topics'] == 'patient issue time')]\n",
    "topic2 = ucernDf[(ucernDf['nmf_topics'] == 'component mpages mpage')]\n",
    "topic3 = ucernDf[(ucernDf['nmf_topics'] == 'error message error message')]\n",
    "topic4 = ucernDf[(ucernDf['nmf_topics'] == 'postacute exception placement')]\n",
    "topic5 = ucernDf[(ucernDf['nmf_topics'] == 'fax clinicalreview send')]\n",
    "topic6 = ucernDf[(ucernDf['nmf_topics'] == 'report data id')]"
   ]
  },
  {
   "cell_type": "code",
   "execution_count": 72,
   "metadata": {},
   "outputs": [
    {
     "data": {
      "text/plain": [
       "True     0.725322\n",
       "False    0.274678\n",
       "Name: resolved, dtype: float64"
      ]
     },
     "execution_count": 72,
     "metadata": {},
     "output_type": "execute_result"
    }
   ],
   "source": [
    "topic1['resolved'].value_counts(normalize=True)"
   ]
  },
  {
   "cell_type": "code",
   "execution_count": 73,
   "metadata": {},
   "outputs": [
    {
     "data": {
      "text/plain": [
       "True     0.715447\n",
       "False    0.284553\n",
       "Name: resolved, dtype: float64"
      ]
     },
     "execution_count": 73,
     "metadata": {},
     "output_type": "execute_result"
    }
   ],
   "source": [
    "topic2['resolved'].value_counts(normalize=True)"
   ]
  },
  {
   "cell_type": "code",
   "execution_count": 74,
   "metadata": {},
   "outputs": [
    {
     "data": {
      "text/plain": [
       "True     0.582524\n",
       "False    0.417476\n",
       "Name: resolved, dtype: float64"
      ]
     },
     "execution_count": 74,
     "metadata": {},
     "output_type": "execute_result"
    }
   ],
   "source": [
    "topic3['resolved'].value_counts(normalize=True)"
   ]
  },
  {
   "cell_type": "code",
   "execution_count": 75,
   "metadata": {},
   "outputs": [
    {
     "data": {
      "text/plain": [
       "True     0.724638\n",
       "False    0.275362\n",
       "Name: resolved, dtype: float64"
      ]
     },
     "execution_count": 75,
     "metadata": {},
     "output_type": "execute_result"
    }
   ],
   "source": [
    "topic4['resolved'].value_counts(normalize=True)"
   ]
  },
  {
   "cell_type": "code",
   "execution_count": 76,
   "metadata": {},
   "outputs": [
    {
     "data": {
      "text/plain": [
       "True     0.666667\n",
       "False    0.333333\n",
       "Name: resolved, dtype: float64"
      ]
     },
     "execution_count": 76,
     "metadata": {},
     "output_type": "execute_result"
    }
   ],
   "source": [
    "topic5['resolved'].value_counts(normalize=True)"
   ]
  },
  {
   "cell_type": "code",
   "execution_count": 77,
   "metadata": {},
   "outputs": [
    {
     "data": {
      "text/plain": [
       "True     0.731707\n",
       "False    0.268293\n",
       "Name: resolved, dtype: float64"
      ]
     },
     "execution_count": 77,
     "metadata": {},
     "output_type": "execute_result"
    }
   ],
   "source": [
    "topic6['resolved'].value_counts(normalize=True)"
   ]
  },
  {
   "cell_type": "markdown",
   "metadata": {},
   "source": [
    "### Predict NMF topics from text"
   ]
  },
  {
   "cell_type": "code",
   "execution_count": 78,
   "metadata": {
    "collapsed": true
   },
   "outputs": [],
   "source": [
    "# can we predict the topic labels from tfidf vectorizer array values\n",
    "X = tfidf_dm.toarray()  #remember this is the output from the vectorizer and we are turning it into an array\n",
    "y = ucernDf['nmf_topics'].values #this is an array of labels\n",
    "\n",
    "X_train, X_test, y_train, y_test = train_test_split(X, y, test_size=0.3, random_state=42) #random_state is set seed"
   ]
  },
  {
   "cell_type": "code",
   "execution_count": 79,
   "metadata": {},
   "outputs": [
    {
     "name": "stdout",
     "output_type": "stream",
     "text": [
      "0.671957671958\n",
      "accuracy: 0.671957671958\n",
      "                               precision    recall  f1-score   support\n",
      "\n",
      "                                    0.00      0.00      0.00         1\n",
      "       component mpages mpage       0.51      0.45      0.48        42\n",
      "  error message error message       0.70      0.73      0.71        22\n",
      "      fax clinicalreview send       0.63      0.75      0.69        16\n",
      "           patient issue time       0.69      0.72      0.71        76\n",
      "postacute exception placement       0.72      0.65      0.68        20\n",
      "               report data id       1.00      1.00      1.00        12\n",
      "\n",
      "                  avg / total       0.66      0.67      0.67       189\n",
      "\n"
     ]
    },
    {
     "name": "stderr",
     "output_type": "stream",
     "text": [
      "C:\\ProgramData\\Anaconda3\\lib\\site-packages\\sklearn\\metrics\\classification.py:1113: UndefinedMetricWarning: Precision and F-score are ill-defined and being set to 0.0 in labels with no predicted samples.\n",
      "  'precision', 'predicted', average, warn_for)\n"
     ]
    }
   ],
   "source": [
    "# Decision Tree Classifier\n",
    "from sklearn import metrics\n",
    "from sklearn.tree import DecisionTreeClassifier\n",
    "\n",
    "# fit a CART model to the data\n",
    "model = DecisionTreeClassifier(random_state = 42)\n",
    "model.fit(X_train, y_train)\n",
    "\n",
    "# make predictions\n",
    "clf1_expected = y_test\n",
    "clf1_predicted = model.predict(X_test)\n",
    "\n",
    "\n",
    "print(model.score(X_test,y_test))\n",
    "\n",
    "# summarize the fit of the model\n",
    "print(\"accuracy: \" + str(metrics.accuracy_score(clf1_expected, clf1_predicted)))\n",
    "print(metrics.classification_report(clf1_expected, clf1_predicted))"
   ]
  },
  {
   "cell_type": "code",
   "execution_count": 80,
   "metadata": {},
   "outputs": [
    {
     "name": "stdout",
     "output_type": "stream",
     "text": [
      "MultinomialNB(alpha=1.0, class_prior=None, fit_prior=True)\n",
      "0.730158730159\n",
      "accuracy: 0.730158730159\n",
      "                               precision    recall  f1-score   support\n",
      "\n",
      "                                    0.00      0.00      0.00         1\n",
      "       component mpages mpage       0.90      0.62      0.73        42\n",
      "  error message error message       0.67      0.64      0.65        22\n",
      "      fax clinicalreview send       1.00      0.31      0.48        16\n",
      "           patient issue time       0.65      0.99      0.78        76\n",
      "postacute exception placement       1.00      0.65      0.79        20\n",
      "               report data id       1.00      0.42      0.59        12\n",
      "\n",
      "                  avg / total       0.79      0.73      0.71       189\n",
      "\n"
     ]
    },
    {
     "name": "stderr",
     "output_type": "stream",
     "text": [
      "C:\\ProgramData\\Anaconda3\\lib\\site-packages\\sklearn\\metrics\\classification.py:1113: UndefinedMetricWarning: Precision and F-score are ill-defined and being set to 0.0 in labels with no predicted samples.\n",
      "  'precision', 'predicted', average, warn_for)\n"
     ]
    }
   ],
   "source": [
    "# Multinomial Naive Bayes\n",
    "from sklearn.naive_bayes import MultinomialNB\n",
    "\n",
    "# fit a Naive Bayes model to the data\n",
    "model = MultinomialNB()\n",
    "print(model)\n",
    "model.fit(X_train, y_train)\n",
    "\n",
    "# make predictions\n",
    "clf2_expected = y_test\n",
    "clf2_predicted = model.predict(X_test)\n",
    "\n",
    "print(model.score(X_test, y_test))\n",
    "\n",
    "# summarize the fit of the model\n",
    "print(\"accuracy: \" + str(metrics.accuracy_score(clf2_expected, clf2_predicted)))\n",
    "print(metrics.classification_report(clf2_expected, clf2_predicted))\n",
    "\n"
   ]
  },
  {
   "cell_type": "code",
   "execution_count": 81,
   "metadata": {},
   "outputs": [
    {
     "name": "stdout",
     "output_type": "stream",
     "text": [
      "LogisticRegression(C=1.0, class_weight=None, dual=False, fit_intercept=True,\n",
      "          intercept_scaling=1, max_iter=100, multi_class='ovr', n_jobs=1,\n",
      "          penalty='l2', random_state=42, solver='liblinear', tol=0.0001,\n",
      "          verbose=0, warm_start=False)\n",
      "0.798941798942\n",
      "accuracy: 0.798941798942\n",
      "                               precision    recall  f1-score   support\n",
      "\n",
      "                                    0.00      0.00      0.00         1\n",
      "       component mpages mpage       0.89      0.74      0.81        42\n",
      "  error message error message       0.85      0.77      0.81        22\n",
      "      fax clinicalreview send       1.00      0.44      0.61        16\n",
      "           patient issue time       0.71      1.00      0.83        76\n",
      "postacute exception placement       1.00      0.60      0.75        20\n",
      "               report data id       1.00      0.67      0.80        12\n",
      "\n",
      "                  avg / total       0.84      0.80      0.79       189\n",
      "\n",
      "0.798941798942\n"
     ]
    },
    {
     "name": "stderr",
     "output_type": "stream",
     "text": [
      "C:\\ProgramData\\Anaconda3\\lib\\site-packages\\sklearn\\metrics\\classification.py:1113: UndefinedMetricWarning: Precision and F-score are ill-defined and being set to 0.0 in labels with no predicted samples.\n",
      "  'precision', 'predicted', average, warn_for)\n"
     ]
    }
   ],
   "source": [
    "from sklearn.linear_model import LogisticRegression\n",
    "\n",
    "# fit a logistic regression model to the data\n",
    "model = LogisticRegression(random_state = 42)\n",
    "print(model)\n",
    "model.fit(X_train, y_train)\n",
    "\n",
    "# make predictions\n",
    "clf3_expected = y_test\n",
    "clf3_predicted = model.predict(X_test)\n",
    "\n",
    "print(model.score(X_test, y_test))\n",
    "\n",
    "# summarize the fit of the model\n",
    "print(\"accuracy: \" + str(metrics.accuracy_score(clf3_expected, clf3_predicted)))\n",
    "print(metrics.classification_report(clf3_expected, clf3_predicted))\n",
    "\n",
    "print(model.score(X_test, y_test))"
   ]
  },
  {
   "cell_type": "markdown",
   "metadata": {},
   "source": [
    "END"
   ]
  }
 ],
 "metadata": {
  "kernelspec": {
   "display_name": "Python 3",
   "language": "python",
   "name": "python3"
  },
  "language_info": {
   "codemirror_mode": {
    "name": "ipython",
    "version": 3
   },
   "file_extension": ".py",
   "mimetype": "text/x-python",
   "name": "python",
   "nbconvert_exporter": "python",
   "pygments_lexer": "ipython3",
   "version": "3.6.1"
  }
 },
 "nbformat": 4,
 "nbformat_minor": 2
}
