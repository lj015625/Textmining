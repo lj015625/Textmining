{
 "cells": [
  {
   "cell_type": "markdown",
   "metadata": {},
   "source": [
    "# BIA 6304 Text Mining, Fall 2017\n",
    "## Assignment 3\n",
    "### Stuent:  Leonardo Ji\n",
    "### 9/29/2017"
   ]
  },
  {
   "cell_type": "markdown",
   "metadata": {},
   "source": [
    "#### T1.  Read in or create a data frame with at least one column of text to be analyzed.  This could be the text you used previously or new text. Choose a prediction you would like to make with these data and create the appropriate feature space. Identify the labels you will be trying to predict and proceed to create a train-test split. Using default model parameters, fit 3 classifiers (decision tree, naïve bayes, logistic regression, or knn) to your dataset and subsequently generate predictions (just like we did in class). Feel free to set a random state variable where appropriate to facilitate replication.  Assess the performance of the models using any of the measures (confusion matrices, precision, recall, f1-score, and accuracy)."
   ]
  },
  {
   "cell_type": "markdown",
   "metadata": {},
   "source": [
    "![SNAP](https://snap.stanford.edu/images/snap_logo.png \"Stanford Network Analysis Project\")\n",
    "I want to use a Amazon review data from [SNAP](https://snap.stanford.edu/data/web-Amazon.html)"
   ]
  },
  {
   "cell_type": "code",
   "execution_count": 1,
   "metadata": {},
   "outputs": [
    {
     "name": "stderr",
     "output_type": "stream",
     "text": [
      "C:\\ProgramData\\Anaconda3\\lib\\site-packages\\nltk\\twitter\\__init__.py:20: UserWarning: The twython library has not been installed. Some functionality from the twitter package will not be available.\n",
      "  warnings.warn(\"The twython library has not been installed. \"\n"
     ]
    }
   ],
   "source": [
    "from __future__ import division\n",
    "from bs4 import BeautifulSoup\n",
    "%matplotlib inline\n",
    "import matplotlib as mpl\n",
    "import matplotlib.pyplot as plt\n",
    "from nltk.corpus import stopwords\n",
    "from nltk.stem.porter import PorterStemmer\n",
    "from nltk.stem.lancaster import LancasterStemmer\n",
    "from nltk.stem import SnowballStemmer\n",
    "from nltk.stem import WordNetLemmatizer\n",
    "from nltk.sentiment.vader import SentimentIntensityAnalyzer\n",
    "from sklearn.cluster import KMeans\n",
    "from sklearn.feature_extraction import text \n",
    "from sklearn.feature_extraction.text import TfidfVectorizer\n",
    "from sklearn.feature_extraction.text import CountVectorizer\n",
    "from sklearn import metrics\n",
    "from sklearn.neighbors import KNeighborsClassifier\n",
    "import gzip\n",
    "import math\n",
    "import numpy as np\n",
    "import pandas as pd\n",
    "import requests\n",
    "import re\n",
    "\n",
    "\n",
    "pd.set_option('display.max_colwidth', 150) #important for getting all the text"
   ]
  },
  {
   "cell_type": "code",
   "execution_count": 2,
   "metadata": {},
   "outputs": [
    {
     "name": "stdout",
     "output_type": "stream",
     "text": [
      "10261\n"
     ]
    },
    {
     "data": {
      "text/html": [
       "<div>\n",
       "<style>\n",
       "    .dataframe thead tr:only-child th {\n",
       "        text-align: right;\n",
       "    }\n",
       "\n",
       "    .dataframe thead th {\n",
       "        text-align: left;\n",
       "    }\n",
       "\n",
       "    .dataframe tbody tr th {\n",
       "        vertical-align: top;\n",
       "    }\n",
       "</style>\n",
       "<table border=\"1\" class=\"dataframe\">\n",
       "  <thead>\n",
       "    <tr style=\"text-align: right;\">\n",
       "      <th></th>\n",
       "      <th>reviewerID</th>\n",
       "      <th>asin</th>\n",
       "      <th>reviewerName</th>\n",
       "      <th>helpful</th>\n",
       "      <th>reviewText</th>\n",
       "      <th>overall</th>\n",
       "      <th>summary</th>\n",
       "      <th>unixReviewTime</th>\n",
       "      <th>reviewTime</th>\n",
       "    </tr>\n",
       "  </thead>\n",
       "  <tbody>\n",
       "    <tr>\n",
       "      <th>0</th>\n",
       "      <td>A2IBPI20UZIR0U</td>\n",
       "      <td>1384719342</td>\n",
       "      <td>cassandra tu \"Yeah, well, that's just like, u...</td>\n",
       "      <td>[0, 0]</td>\n",
       "      <td>Not much to write about here, but it does exactly what it's supposed to. filters out the pop sounds. now my recordings are much more crisp. it is ...</td>\n",
       "      <td>5.0</td>\n",
       "      <td>good</td>\n",
       "      <td>1393545600</td>\n",
       "      <td>02 28, 2014</td>\n",
       "    </tr>\n",
       "    <tr>\n",
       "      <th>1</th>\n",
       "      <td>A14VAT5EAX3D9S</td>\n",
       "      <td>1384719342</td>\n",
       "      <td>Jake</td>\n",
       "      <td>[13, 14]</td>\n",
       "      <td>The product does exactly as it should and is quite affordable.I did not realized it was double screened until it arrived, so it was even better th...</td>\n",
       "      <td>5.0</td>\n",
       "      <td>Jake</td>\n",
       "      <td>1363392000</td>\n",
       "      <td>03 16, 2013</td>\n",
       "    </tr>\n",
       "    <tr>\n",
       "      <th>2</th>\n",
       "      <td>A195EZSQDW3E21</td>\n",
       "      <td>1384719342</td>\n",
       "      <td>Rick Bennette \"Rick Bennette\"</td>\n",
       "      <td>[1, 1]</td>\n",
       "      <td>The primary job of this device is to block the breath that would otherwise produce a popping sound, while allowing your voice to pass through with...</td>\n",
       "      <td>5.0</td>\n",
       "      <td>It Does The Job Well</td>\n",
       "      <td>1377648000</td>\n",
       "      <td>08 28, 2013</td>\n",
       "    </tr>\n",
       "    <tr>\n",
       "      <th>3</th>\n",
       "      <td>A2C00NNG1ZQQG2</td>\n",
       "      <td>1384719342</td>\n",
       "      <td>RustyBill \"Sunday Rocker\"</td>\n",
       "      <td>[0, 0]</td>\n",
       "      <td>Nice windscreen protects my MXL mic and prevents pops. Only thing is that the gooseneck is only marginally able to hold the screen in position and...</td>\n",
       "      <td>5.0</td>\n",
       "      <td>GOOD WINDSCREEN FOR THE MONEY</td>\n",
       "      <td>1392336000</td>\n",
       "      <td>02 14, 2014</td>\n",
       "    </tr>\n",
       "    <tr>\n",
       "      <th>4</th>\n",
       "      <td>A94QU4C90B1AX</td>\n",
       "      <td>1384719342</td>\n",
       "      <td>SEAN MASLANKA</td>\n",
       "      <td>[0, 0]</td>\n",
       "      <td>This pop filter is great. It looks and performs like a studio filter. If you're recording vocals this will eliminate the pops that gets recorded w...</td>\n",
       "      <td>5.0</td>\n",
       "      <td>No more pops when I record my vocals.</td>\n",
       "      <td>1392940800</td>\n",
       "      <td>02 21, 2014</td>\n",
       "    </tr>\n",
       "  </tbody>\n",
       "</table>\n",
       "</div>"
      ],
      "text/plain": [
       "       reviewerID        asin  \\\n",
       "0  A2IBPI20UZIR0U  1384719342   \n",
       "1  A14VAT5EAX3D9S  1384719342   \n",
       "2  A195EZSQDW3E21  1384719342   \n",
       "3  A2C00NNG1ZQQG2  1384719342   \n",
       "4   A94QU4C90B1AX  1384719342   \n",
       "\n",
       "                                       reviewerName   helpful  \\\n",
       "0  cassandra tu \"Yeah, well, that's just like, u...    [0, 0]   \n",
       "1                                              Jake  [13, 14]   \n",
       "2                     Rick Bennette \"Rick Bennette\"    [1, 1]   \n",
       "3                         RustyBill \"Sunday Rocker\"    [0, 0]   \n",
       "4                                     SEAN MASLANKA    [0, 0]   \n",
       "\n",
       "                                                                                                                                              reviewText  \\\n",
       "0  Not much to write about here, but it does exactly what it's supposed to. filters out the pop sounds. now my recordings are much more crisp. it is ...   \n",
       "1  The product does exactly as it should and is quite affordable.I did not realized it was double screened until it arrived, so it was even better th...   \n",
       "2  The primary job of this device is to block the breath that would otherwise produce a popping sound, while allowing your voice to pass through with...   \n",
       "3  Nice windscreen protects my MXL mic and prevents pops. Only thing is that the gooseneck is only marginally able to hold the screen in position and...   \n",
       "4  This pop filter is great. It looks and performs like a studio filter. If you're recording vocals this will eliminate the pops that gets recorded w...   \n",
       "\n",
       "   overall                                summary  unixReviewTime   reviewTime  \n",
       "0      5.0                                   good      1393545600  02 28, 2014  \n",
       "1      5.0                                   Jake      1363392000  03 16, 2013  \n",
       "2      5.0                   It Does The Job Well      1377648000  08 28, 2013  \n",
       "3      5.0          GOOD WINDSCREEN FOR THE MONEY      1392336000  02 14, 2014  \n",
       "4      5.0  No more pops when I record my vocals.      1392940800  02 21, 2014  "
      ]
     },
     "execution_count": 2,
     "metadata": {},
     "output_type": "execute_result"
    }
   ],
   "source": [
    "def parse(path):\n",
    "  g = gzip.open(path, 'rb')\n",
    "  for l in g:\n",
    "    yield eval(l)\n",
    "\n",
    "def getDF(path):\n",
    "  i = 0\n",
    "  df = {}\n",
    "  for d in parse(path):\n",
    "    df[i] = d\n",
    "    i += 1\n",
    "  return pd.DataFrame.from_dict(df, orient='index')\n",
    "\n",
    "amazonReview = getDF('reviews_Musical_Instruments_5.json.gz')\n",
    "print(len(amazonReview))\n",
    "amazonReview.head()"
   ]
  },
  {
   "cell_type": "code",
   "execution_count": 14,
   "metadata": {},
   "outputs": [
    {
     "data": {
      "text/plain": [
       "<matplotlib.axes._subplots.AxesSubplot at 0x181d60b8>"
      ]
     },
     "execution_count": 14,
     "metadata": {},
     "output_type": "execute_result"
    },
    {
     "data": {
      "image/png": "[encoded data removed]",
      "text/plain": [
       "<matplotlib.figure.Figure at 0x181d6278>"
      ]
     },
     "metadata": {},
     "output_type": "display_data"
    }
   ],
   "source": [
    "# What does our target variable look like?\n",
    "%matplotlib inline\n",
    "import matplotlib as mpl\n",
    "import matplotlib.pyplot as plt\n",
    "\n",
    "# get a feel for the distribution\n",
    "amazonReview['overall'].value_counts().plot(kind='bar')\n",
    "#badReview = amazonReview[(amazonReview['overall'] == 1)]\n",
    "#goodReview = amazonReview[(amazonReview['overall'] == 5)]"
   ]
  },
  {
   "cell_type": "code",
   "execution_count": 31,
   "metadata": {},
   "outputs": [
    {
     "name": "stdout",
     "output_type": "stream",
     "text": [
      "(10261, 20251)\n"
     ]
    }
   ],
   "source": [
    "# quick peak at basic feature space\n",
    "dm = CountVectorizer(binary=False, stop_words = 'english') \n",
    "cv_dm = dm.fit_transform(amazonReview['reviewText'])\n",
    "print(cv_dm.shape)"
   ]
  },
  {
   "cell_type": "code",
   "execution_count": 32,
   "metadata": {},
   "outputs": [
    {
     "name": "stdout",
     "output_type": "stream",
     "text": [
      "<class 'list'> 20251\n"
     ]
    }
   ],
   "source": [
    "names = dm.get_feature_names()\n",
    "print(type(names), len(names))"
   ]
  },
  {
   "cell_type": "code",
   "execution_count": 121,
   "metadata": {},
   "outputs": [
    {
     "name": "stdout",
     "output_type": "stream",
     "text": [
      "<class 'list'> 125\n"
     ]
    },
    {
     "data": {
      "text/html": [
       "<div>\n",
       "<style>\n",
       "    .dataframe thead tr:only-child th {\n",
       "        text-align: right;\n",
       "    }\n",
       "\n",
       "    .dataframe thead th {\n",
       "        text-align: left;\n",
       "    }\n",
       "\n",
       "    .dataframe tbody tr th {\n",
       "        vertical-align: top;\n",
       "    }\n",
       "</style>\n",
       "<table border=\"1\" class=\"dataframe\">\n",
       "  <thead>\n",
       "    <tr style=\"text-align: right;\">\n",
       "      <th></th>\n",
       "      <th>count</th>\n",
       "    </tr>\n",
       "  </thead>\n",
       "  <tbody>\n",
       "    <tr>\n",
       "      <th>guitar</th>\n",
       "      <td>5611</td>\n",
       "    </tr>\n",
       "    <tr>\n",
       "      <th>one</th>\n",
       "      <td>4558</td>\n",
       "    </tr>\n",
       "    <tr>\n",
       "      <th>great</th>\n",
       "      <td>4121</td>\n",
       "    </tr>\n",
       "    <tr>\n",
       "      <th>like</th>\n",
       "      <td>3981</td>\n",
       "    </tr>\n",
       "    <tr>\n",
       "      <th>good</th>\n",
       "      <td>3811</td>\n",
       "    </tr>\n",
       "    <tr>\n",
       "      <th>use</th>\n",
       "      <td>3788</td>\n",
       "    </tr>\n",
       "    <tr>\n",
       "      <th>sound</th>\n",
       "      <td>3609</td>\n",
       "    </tr>\n",
       "    <tr>\n",
       "      <th>strings</th>\n",
       "      <td>3420</td>\n",
       "    </tr>\n",
       "    <tr>\n",
       "      <th>well</th>\n",
       "      <td>3235</td>\n",
       "    </tr>\n",
       "    <tr>\n",
       "      <th>get</th>\n",
       "      <td>2683</td>\n",
       "    </tr>\n",
       "    <tr>\n",
       "      <th>pedal</th>\n",
       "      <td>2579</td>\n",
       "    </tr>\n",
       "    <tr>\n",
       "      <th>would</th>\n",
       "      <td>2389</td>\n",
       "    </tr>\n",
       "    <tr>\n",
       "      <th>really</th>\n",
       "      <td>2243</td>\n",
       "    </tr>\n",
       "    <tr>\n",
       "      <th>price</th>\n",
       "      <td>2239</td>\n",
       "    </tr>\n",
       "    <tr>\n",
       "      <th>amp</th>\n",
       "      <td>2115</td>\n",
       "    </tr>\n",
       "    <tr>\n",
       "      <th>little</th>\n",
       "      <td>2055</td>\n",
       "    </tr>\n",
       "    <tr>\n",
       "      <th>much</th>\n",
       "      <td>2003</td>\n",
       "    </tr>\n",
       "    <tr>\n",
       "      <th>works</th>\n",
       "      <td>1871</td>\n",
       "    </tr>\n",
       "    <tr>\n",
       "      <th>quality</th>\n",
       "      <td>1810</td>\n",
       "    </tr>\n",
       "    <tr>\n",
       "      <th>also</th>\n",
       "      <td>1781</td>\n",
       "    </tr>\n",
       "  </tbody>\n",
       "</table>\n",
       "</div>"
      ],
      "text/plain": [
       "         count\n",
       "guitar    5611\n",
       "one       4558\n",
       "great     4121\n",
       "like      3981\n",
       "good      3811\n",
       "use       3788\n",
       "sound     3609\n",
       "strings   3420\n",
       "well      3235\n",
       "get       2683\n",
       "pedal     2579\n",
       "would     2389\n",
       "really    2243\n",
       "price     2239\n",
       "amp       2115\n",
       "little    2055\n",
       "much      2003\n",
       "works     1871\n",
       "quality   1810\n",
       "also      1781"
      ]
     },
     "execution_count": 121,
     "metadata": {},
     "output_type": "execute_result"
    }
   ],
   "source": [
    "count = np.sum(cv_dm.toarray(), axis = 0).tolist()\n",
    "print(type(count), len(count))\n",
    "count_df = pd.DataFrame(count, index = names, columns = ['count'])\n",
    "\n",
    "count_df.sort_values(['count'], ascending = False).head(20)"
   ]
  },
  {
   "cell_type": "code",
   "execution_count": 34,
   "metadata": {},
   "outputs": [
    {
     "name": "stdout",
     "output_type": "stream",
     "text": [
      "<class 'numpy.ndarray'> [[0 0 0 ..., 0 0 0]\n",
      " [0 0 0 ..., 0 0 0]\n",
      " [0 0 0 ..., 0 0 0]\n",
      " ..., \n",
      " [2 0 0 ..., 0 0 0]\n",
      " [0 0 0 ..., 0 0 0]\n",
      " [0 0 0 ..., 0 0 0]]\n",
      "<class 'numpy.ndarray'> [ 5.  5.  5.  5.  5.  5.  5.  3.  5.  5.]\n"
     ]
    }
   ],
   "source": [
    "# train test split\n",
    "# data are X, labels are y\n",
    "from sklearn.model_selection import train_test_split\n",
    "\n",
    "X = cv_dm.toarray()  #remember this is the output from the vectorizer and we are turning it into an array\n",
    "print(type(X), X[0:10])\n",
    "\n",
    "\n",
    "y = amazonReview['overall'].values #this is an array of labels\n",
    "print(type(y), y[0:10])"
   ]
  },
  {
   "cell_type": "code",
   "execution_count": 35,
   "metadata": {},
   "outputs": [
    {
     "name": "stdout",
     "output_type": "stream",
     "text": [
      "(7182, 20251)\n",
      "(3079, 20251)\n",
      "(7182,)\n",
      "(3079,)\n"
     ]
    }
   ],
   "source": [
    "X_train, X_test, y_train, y_test = train_test_split(X, y, test_size=0.3, random_state=42) #random_state is set seed\n",
    "\n",
    "# function creates 4 output structures - order matters\n",
    "print(X_train.shape)\n",
    "print(X_test.shape)\n",
    "print(y_train.shape)\n",
    "print(y_test.shape)"
   ]
  },
  {
   "cell_type": "markdown",
   "metadata": {},
   "source": [
    "##### Decision Tree"
   ]
  },
  {
   "cell_type": "code",
   "execution_count": 36,
   "metadata": {},
   "outputs": [
    {
     "name": "stdout",
     "output_type": "stream",
     "text": [
      "0.575511529717\n",
      "accuracy: 0.575511529717\n",
      "             precision    recall  f1-score   support\n",
      "\n",
      "        1.0       0.23      0.14      0.17        72\n",
      "        2.0       0.00      0.00      0.00        67\n",
      "        3.0       0.13      0.11      0.12       229\n",
      "        4.0       0.25      0.21      0.23       646\n",
      "        5.0       0.71      0.78      0.74      2065\n",
      "\n",
      "avg / total       0.54      0.58      0.56      3079\n",
      "\n"
     ]
    }
   ],
   "source": [
    "# Decision Tree Classifier\n",
    "from sklearn import metrics\n",
    "from sklearn.tree import DecisionTreeClassifier\n",
    "\n",
    "# fit a CART model to the data\n",
    "model = DecisionTreeClassifier(random_state = 42)\n",
    "model.fit(X_train, y_train)\n",
    "\n",
    "# make predictions\n",
    "clf1_expected = y_test\n",
    "clf1_predicted = model.predict(X_test)\n",
    "\n",
    "\n",
    "print(model.score(X_test,y_test))\n",
    "\n",
    "# summarize the fit of the model\n",
    "print(\"accuracy: \" + str(metrics.accuracy_score(clf1_expected, clf1_predicted)))\n",
    "print(metrics.classification_report(clf1_expected, clf1_predicted))"
   ]
  },
  {
   "cell_type": "markdown",
   "metadata": {},
   "source": [
    "##### Naive Bayes"
   ]
  },
  {
   "cell_type": "code",
   "execution_count": 37,
   "metadata": {},
   "outputs": [
    {
     "name": "stdout",
     "output_type": "stream",
     "text": [
      "MultinomialNB(alpha=1.0, class_prior=None, fit_prior=True)\n",
      "0.666774926924\n",
      "accuracy: 0.666774926924\n",
      "             precision    recall  f1-score   support\n",
      "\n",
      "        1.0       0.50      0.03      0.05        72\n",
      "        2.0       0.00      0.00      0.00        67\n",
      "        3.0       0.21      0.01      0.02       229\n",
      "        4.0       0.35      0.13      0.19       646\n",
      "        5.0       0.70      0.95      0.80      2065\n",
      "\n",
      "avg / total       0.57      0.67      0.58      3079\n",
      "\n"
     ]
    }
   ],
   "source": [
    "# Multinomial Naive Bayes\n",
    "from sklearn.naive_bayes import MultinomialNB\n",
    "\n",
    "# fit a Naive Bayes model to the data\n",
    "model = MultinomialNB()\n",
    "print(model)\n",
    "model.fit(X_train, y_train)\n",
    "\n",
    "# make predictions\n",
    "clf2_expected = y_test\n",
    "clf2_predicted = model.predict(X_test)\n",
    "\n",
    "print(model.score(X_test, y_test))\n",
    "\n",
    "# summarize the fit of the model\n",
    "print(\"accuracy: \" + str(metrics.accuracy_score(clf2_expected, clf2_predicted)))\n",
    "print(metrics.classification_report(clf2_expected, clf2_predicted))"
   ]
  },
  {
   "cell_type": "markdown",
   "metadata": {},
   "source": [
    "##### Logistic Regression"
   ]
  },
  {
   "cell_type": "code",
   "execution_count": 38,
   "metadata": {},
   "outputs": [
    {
     "name": "stdout",
     "output_type": "stream",
     "text": [
      "LogisticRegression(C=1.0, class_weight=None, dual=False, fit_intercept=True,\n",
      "          intercept_scaling=1, max_iter=100, multi_class='ovr', n_jobs=1,\n",
      "          penalty='l2', random_state=42, solver='liblinear', tol=0.0001,\n",
      "          verbose=0, warm_start=False)\n",
      "0.650860669048\n",
      "accuracy: 0.650860669048\n",
      "             precision    recall  f1-score   support\n",
      "\n",
      "        1.0       0.58      0.10      0.17        72\n",
      "        2.0       0.18      0.06      0.09        67\n",
      "        3.0       0.28      0.13      0.18       229\n",
      "        4.0       0.34      0.25      0.28       646\n",
      "        5.0       0.73      0.87      0.80      2065\n",
      "\n",
      "avg / total       0.60      0.65      0.61      3079\n",
      "\n"
     ]
    }
   ],
   "source": [
    "# Logistic Regression\n",
    "from sklearn.linear_model import LogisticRegression\n",
    "\n",
    "# fit a logistic regression model to the data\n",
    "model = LogisticRegression(random_state = 42)\n",
    "print(model)\n",
    "model.fit(X_train, y_train)\n",
    "\n",
    "# make predictions\n",
    "clf3_expected = y_test\n",
    "clf3_predicted = model.predict(X_test)\n",
    "\n",
    "print(model.score(X_test, y_test))\n",
    "\n",
    "# summarize the fit of the model\n",
    "print(\"accuracy: \" + str(metrics.accuracy_score(clf3_expected, clf3_predicted)))\n",
    "print(metrics.classification_report(clf3_expected, clf3_predicted))"
   ]
  },
  {
   "cell_type": "markdown",
   "metadata": {},
   "source": [
    "##### KNN"
   ]
  },
  {
   "cell_type": "code",
   "execution_count": 39,
   "metadata": {},
   "outputs": [
    {
     "name": "stdout",
     "output_type": "stream",
     "text": [
      "0.644365053589\n",
      "accuracy: 0.644365053589\n",
      "             precision    recall  f1-score   support\n",
      "\n",
      "        1.0       0.05      0.01      0.02        72\n",
      "        2.0       0.04      0.01      0.02        67\n",
      "        3.0       0.10      0.03      0.04       229\n",
      "        4.0       0.24      0.04      0.06       646\n",
      "        5.0       0.68      0.95      0.79      2065\n",
      "\n",
      "avg / total       0.51      0.64      0.55      3079\n",
      "\n"
     ]
    }
   ],
   "source": [
    "# loading library\n",
    "from sklearn import metrics\n",
    "from sklearn.neighbors import KNeighborsClassifier\n",
    "\n",
    "# instantiate learning model (k = 3)\n",
    "model = KNeighborsClassifier(n_neighbors=3)\n",
    "model.fit(X_train, y_train)\n",
    "\n",
    "\n",
    "# make predictions\n",
    "knn1_expected = y_test\n",
    "knn1_predicted = model.predict(X_test)\n",
    "\n",
    "\n",
    "print(model.score(X_test,y_test))\n",
    "\n",
    "# summarize the fit of the model\n",
    "print(\"accuracy: \" + str(metrics.accuracy_score(knn1_expected, knn1_predicted)))\n",
    "print(metrics.classification_report(knn1_expected, knn1_predicted))"
   ]
  },
  {
   "cell_type": "markdown",
   "metadata": {},
   "source": [
    "##### Q1. Write a short description of the results of these “baseline” models. Make sure your answer is no longer than four paragraphs, and should at minimum answer these questions:\n",
    "*\tWhat decisions did you make when creating your feature space? Why?  \n",
    "*\tHow do these classifiers address your question?\n",
    "*\tHow did your models perform? Are you happy with the results?  Why or why not?\n",
    "Audience: general – management or non-technical staff. NOTE: this is a GENERAL AUDIENCE RESPONSE - be VERY careful with how you mention/describe/discuss the various models.  Detailed descriptions of the classifiers is not required but any discussion of them must be NON TECHNICAL (but not fluffy).   \n"
   ]
  },
  {
   "cell_type": "markdown",
   "metadata": {},
   "source": [
    "I used 10,261 Amazon music instrument review dataset for this question.  I want to know whether the review text can predict the overall rating of the products.  I used four models. The common stop words like a, an, the... are removed. All four models predict products’ overall rating based on data generated from counting single word term in the reviews.  \n",
    "Four models produced accuracies around 60%.  The accuracies are lower than I expected.\n",
    "All four models are better at predict overall rating of 1/1 or 5/5.  The middle overall rating are harder to predict because the words people use for great product and poor products are very unique. The user usually use positive words to describe product rated 5/5, and negative words to describe products rated 1/5. The average rating review likely do not stand out like those rated 1/1 or 5/5.  \n",
    "\n",
    "The first model has overall accuracy of 57.5%, the second model has overall accuracy of 66.7%, the third model has overall accuracy of 65.1%, and the fourth model has overall accuracy of 64.4%.  The second and third models are much better than the other two models because they are better at predicting both very good rating (5/5) and very bad rating (1/1).  In the following section I will try to improve these base models.  I will focus on improve very bad rating where user ranked the product 1/1."
   ]
  },
  {
   "cell_type": "markdown",
   "metadata": {},
   "source": [
    "#### T2. Using a variety of parameter settings (for classifiers or vectorizers), try to improve on the performance of the baseline models.  At least 6 separate predictions should be run and the results reported in a table.  You can use any combination of parameters and classifiers; you do not need to use all classifiers. Make sure at least one example uses a preprocessing option (stemming, lemmatization, custom dictionary, custom stopwords, etc.)"
   ]
  },
  {
   "cell_type": "code",
   "execution_count": 3,
   "metadata": {},
   "outputs": [
    {
     "name": "stdout",
     "output_type": "stream",
     "text": [
      "153\n",
      "161\n"
     ]
    }
   ],
   "source": [
    "# create a custom stopwords list - I choose to start with the nltk list\n",
    "nltk_stopwords = stopwords.words(\"english\")\n",
    "print(len(nltk_stopwords))\n",
    "new_nltk_stopwords = set(nltk_stopwords)\n",
    "new_nltk_stopwords.update(set(['first', 'one', 'two', 'last', 'another', 'could', 'would', 'need']))\n",
    "print(len(new_nltk_stopwords))"
   ]
  },
  {
   "cell_type": "code",
   "execution_count": 4,
   "metadata": {},
   "outputs": [
    {
     "name": "stdout",
     "output_type": "stream",
     "text": [
      "318\n",
      "319\n"
     ]
    }
   ],
   "source": [
    "skl_stopwords = text.ENGLISH_STOP_WORDS\n",
    "new_skl_stopwords = set(skl_stopwords)\n",
    "print(len(new_skl_stopwords))\n",
    "new_skl_stopwords.update(set(['need']))\n",
    "print(len(new_skl_stopwords))"
   ]
  },
  {
   "cell_type": "code",
   "execution_count": 5,
   "metadata": {
    "collapsed": true
   },
   "outputs": [],
   "source": [
    "# Preprocessing to replace words\n",
    "import re\n",
    "my_dict = {'guitars':'guitar','picks':'pick', 'strings':'string', 'bought':'buy',\n",
    "             'years': 'year', 'works':'work', 'schools':'school', 'using':'use',\n",
    "            'sounds':'sound', 'makes':'make', 'made':'make', 'pedels':'pedel', 'playing':'play', 'tried':'try'}\n",
    "\n",
    "\n",
    "def multiple_replace(dict, text): \n",
    "\n",
    "  \"\"\" Replace in 'text' all occurences of any key in the given\n",
    "  dictionary by its corresponding value.  Returns the new tring.\"\"\" \n",
    "  text = str(text).lower()\n",
    "\n",
    "  # Create a regular expression  from the dictionary keys\n",
    "  regex = re.compile(\"(%s)\" % \"|\".join(map(re.escape, dict.keys())))\n",
    "\n",
    "  # For each match, look-up corresponding value in dictionary\n",
    "  return regex.sub(lambda mo: dict[mo.string[mo.start():mo.end()]], text)\n",
    "\n",
    "amazonReview['cleantext'] = amazonReview.reviewText.apply(lambda x: multiple_replace(my_dict, x))"
   ]
  },
  {
   "cell_type": "code",
   "execution_count": 6,
   "metadata": {
    "collapsed": true
   },
   "outputs": [],
   "source": [
    "ps = PorterStemmer() #define method (http://www.nltk.org/api/nltk.stem.html#nltk.stem.porter.PorterStemmer)\n",
    "amazonReview['StemReviewText'] = [ps.stem(word) for word in amazonReview['reviewText']] "
   ]
  },
  {
   "cell_type": "markdown",
   "metadata": {},
   "source": [
    "##### Use count vectorizer 1: lowercase=True, stop_words=new_skl_stopwords,binary=False,max_df=0.95, min_df=0.05,ngram_range = (1,2)"
   ]
  },
  {
   "cell_type": "code",
   "execution_count": 491,
   "metadata": {
    "collapsed": true
   },
   "outputs": [],
   "source": [
    "cv1 = CountVectorizer(lowercase=True, \n",
    "                     stop_words=new_skl_stopwords,\n",
    "                     binary=False,\n",
    "                     max_df=0.95, \n",
    "                     min_df=0.05,\n",
    "                     ngram_range = (1,2)) "
   ]
  },
  {
   "cell_type": "code",
   "execution_count": 492,
   "metadata": {},
   "outputs": [
    {
     "name": "stdout",
     "output_type": "stream",
     "text": [
      "(10261, 88)\n",
      "<class 'list'> 88\n"
     ]
    }
   ],
   "source": [
    "cv_dm = cv1.fit_transform(amazonReview['cleantext'])\n",
    "print(cv_dm.shape)\n",
    "\n",
    "names = cv1.get_feature_names()\n",
    "print(type(names), len(names))"
   ]
  },
  {
   "cell_type": "code",
   "execution_count": 493,
   "metadata": {},
   "outputs": [
    {
     "name": "stdout",
     "output_type": "stream",
     "text": [
      "<class 'list'> 88\n"
     ]
    },
    {
     "data": {
      "text/html": [
       "<div>\n",
       "<style>\n",
       "    .dataframe thead tr:only-child th {\n",
       "        text-align: right;\n",
       "    }\n",
       "\n",
       "    .dataframe thead th {\n",
       "        text-align: left;\n",
       "    }\n",
       "\n",
       "    .dataframe tbody tr th {\n",
       "        vertical-align: top;\n",
       "    }\n",
       "</style>\n",
       "<table border=\"1\" class=\"dataframe\">\n",
       "  <thead>\n",
       "    <tr style=\"text-align: right;\">\n",
       "      <th></th>\n",
       "      <th>count</th>\n",
       "    </tr>\n",
       "  </thead>\n",
       "  <tbody>\n",
       "    <tr>\n",
       "      <th>guitar</th>\n",
       "      <td>6846</td>\n",
       "    </tr>\n",
       "    <tr>\n",
       "      <th>use</th>\n",
       "      <td>5221</td>\n",
       "    </tr>\n",
       "    <tr>\n",
       "      <th>string</th>\n",
       "      <td>4721</td>\n",
       "    </tr>\n",
       "    <tr>\n",
       "      <th>sound</th>\n",
       "      <td>4704</td>\n",
       "    </tr>\n",
       "    <tr>\n",
       "      <th>great</th>\n",
       "      <td>4121</td>\n",
       "    </tr>\n",
       "    <tr>\n",
       "      <th>like</th>\n",
       "      <td>3981</td>\n",
       "    </tr>\n",
       "    <tr>\n",
       "      <th>good</th>\n",
       "      <td>3811</td>\n",
       "    </tr>\n",
       "    <tr>\n",
       "      <th>just</th>\n",
       "      <td>3757</td>\n",
       "    </tr>\n",
       "    <tr>\n",
       "      <th>work</th>\n",
       "      <td>3128</td>\n",
       "    </tr>\n",
       "    <tr>\n",
       "      <th>make</th>\n",
       "      <td>2875</td>\n",
       "    </tr>\n",
       "    <tr>\n",
       "      <th>buy</th>\n",
       "      <td>2648</td>\n",
       "    </tr>\n",
       "    <tr>\n",
       "      <th>pedal</th>\n",
       "      <td>2579</td>\n",
       "    </tr>\n",
       "    <tr>\n",
       "      <th>play</th>\n",
       "      <td>2554</td>\n",
       "    </tr>\n",
       "    <tr>\n",
       "      <th>pick</th>\n",
       "      <td>2287</td>\n",
       "    </tr>\n",
       "    <tr>\n",
       "      <th>really</th>\n",
       "      <td>2243</td>\n",
       "    </tr>\n",
       "    <tr>\n",
       "      <th>price</th>\n",
       "      <td>2239</td>\n",
       "    </tr>\n",
       "    <tr>\n",
       "      <th>amp</th>\n",
       "      <td>2115</td>\n",
       "    </tr>\n",
       "    <tr>\n",
       "      <th>ve</th>\n",
       "      <td>2079</td>\n",
       "    </tr>\n",
       "    <tr>\n",
       "      <th>little</th>\n",
       "      <td>2055</td>\n",
       "    </tr>\n",
       "    <tr>\n",
       "      <th>don</th>\n",
       "      <td>1972</td>\n",
       "    </tr>\n",
       "  </tbody>\n",
       "</table>\n",
       "</div>"
      ],
      "text/plain": [
       "        count\n",
       "guitar   6846\n",
       "use      5221\n",
       "string   4721\n",
       "sound    4704\n",
       "great    4121\n",
       "like     3981\n",
       "good     3811\n",
       "just     3757\n",
       "work     3128\n",
       "make     2875\n",
       "buy      2648\n",
       "pedal    2579\n",
       "play     2554\n",
       "pick     2287\n",
       "really   2243\n",
       "price    2239\n",
       "amp      2115\n",
       "ve       2079\n",
       "little   2055\n",
       "don      1972"
      ]
     },
     "execution_count": 493,
     "metadata": {},
     "output_type": "execute_result"
    }
   ],
   "source": [
    "count = np.sum(cv_dm.toarray(), axis = 0).tolist()\n",
    "print(type(count), len(count))\n",
    "count_df = pd.DataFrame(count, index = names, columns = ['count'])\n",
    "\n",
    "count_df.sort_values(['count'], ascending = False).head(20)"
   ]
  },
  {
   "cell_type": "code",
   "execution_count": 494,
   "metadata": {
    "collapsed": true
   },
   "outputs": [],
   "source": [
    "# train test split\n",
    "# data are X, labels are y\n",
    "from sklearn.model_selection import train_test_split\n",
    "\n",
    "X = cv_dm.toarray()  #remember this is the output from the vectorizer and we are turning it into an array\n",
    "#print(type(X), X[0:10])\n",
    "\n",
    "\n",
    "y = amazonReview['overall'].values #this is an array of labels\n",
    "#print(type(y), y[0:10])"
   ]
  },
  {
   "cell_type": "code",
   "execution_count": 495,
   "metadata": {},
   "outputs": [
    {
     "name": "stdout",
     "output_type": "stream",
     "text": [
      "(7182, 88)\n",
      "(3079, 88)\n",
      "(7182,)\n",
      "(3079,)\n"
     ]
    }
   ],
   "source": [
    "X_train, X_test, y_train, y_test = train_test_split(X, y, test_size=0.3, random_state=42) #random_state is set seed\n",
    "\n",
    "# function creates 4 output structures - order matters\n",
    "print(X_train.shape)\n",
    "print(X_test.shape)\n",
    "print(y_train.shape)\n",
    "print(y_test.shape)"
   ]
  },
  {
   "cell_type": "code",
   "execution_count": 496,
   "metadata": {},
   "outputs": [
    {
     "name": "stdout",
     "output_type": "stream",
     "text": [
      "0.526144852225\n",
      "accuracy: 0.526144852225\n",
      "             precision    recall  f1-score   support\n",
      "\n",
      "        1.0       0.04      0.04      0.04        72\n",
      "        2.0       0.03      0.03      0.03        67\n",
      "        3.0       0.12      0.12      0.12       229\n",
      "        4.0       0.24      0.27      0.26       646\n",
      "        5.0       0.71      0.68      0.70      2065\n",
      "\n",
      "avg / total       0.54      0.53      0.53      3079\n",
      "\n"
     ]
    }
   ],
   "source": [
    "# Decision Tree Classifier\n",
    "from sklearn import metrics\n",
    "from sklearn.tree import DecisionTreeClassifier\n",
    "\n",
    "# fit a CART model to the data\n",
    "model = DecisionTreeClassifier(random_state = 42)\n",
    "model.fit(X_train, y_train)\n",
    "\n",
    "# make predictions\n",
    "clf1_expected = y_test\n",
    "clf1_predicted = model.predict(X_test)\n",
    "\n",
    "\n",
    "print(model.score(X_test,y_test))\n",
    "\n",
    "# summarize the fit of the model\n",
    "print(\"accuracy: \" + str(metrics.accuracy_score(clf1_expected, clf1_predicted)))\n",
    "print(metrics.classification_report(clf1_expected, clf1_predicted))"
   ]
  },
  {
   "cell_type": "code",
   "execution_count": 497,
   "metadata": {},
   "outputs": [
    {
     "name": "stdout",
     "output_type": "stream",
     "text": [
      "MultinomialNB(alpha=1.0, class_prior=None, fit_prior=True)\n",
      "0.653134134459\n",
      "accuracy: 0.653134134459\n",
      "             precision    recall  f1-score   support\n",
      "\n",
      "        1.0       0.26      0.11      0.16        72\n",
      "        2.0       0.05      0.03      0.04        67\n",
      "        3.0       0.15      0.04      0.06       229\n",
      "        4.0       0.37      0.12      0.19       646\n",
      "        5.0       0.70      0.93      0.80      2065\n",
      "\n",
      "avg / total       0.57      0.65      0.58      3079\n",
      "\n"
     ]
    }
   ],
   "source": [
    "# Multinomial Naive Bayes\n",
    "from sklearn.naive_bayes import MultinomialNB\n",
    "\n",
    "# fit a Naive Bayes model to the data\n",
    "model = MultinomialNB()\n",
    "print(model)\n",
    "model.fit(X_train, y_train)\n",
    "\n",
    "# make predictions\n",
    "clf2_expected = y_test\n",
    "clf2_predicted = model.predict(X_test)\n",
    "\n",
    "print(model.score(X_test, y_test))\n",
    "\n",
    "# summarize the fit of the model\n",
    "print(\"accuracy: \" + str(metrics.accuracy_score(clf2_expected, clf2_predicted)))\n",
    "print(metrics.classification_report(clf2_expected, clf2_predicted))"
   ]
  },
  {
   "cell_type": "code",
   "execution_count": 498,
   "metadata": {},
   "outputs": [
    {
     "name": "stdout",
     "output_type": "stream",
     "text": [
      "LogisticRegression(C=1.0, class_weight=None, dual=False, fit_intercept=True,\n",
      "          intercept_scaling=1, max_iter=100, multi_class='ovr', n_jobs=1,\n",
      "          penalty='l2', random_state=42, solver='liblinear', tol=0.0001,\n",
      "          verbose=0, warm_start=False)\n",
      "0.669697953881\n",
      "accuracy: 0.669697953881\n",
      "             precision    recall  f1-score   support\n",
      "\n",
      "        1.0       0.75      0.04      0.08        72\n",
      "        2.0       0.20      0.01      0.03        67\n",
      "        3.0       0.12      0.01      0.02       229\n",
      "        4.0       0.40      0.06      0.10       646\n",
      "        5.0       0.68      0.98      0.80      2065\n",
      "\n",
      "avg / total       0.57      0.67      0.56      3079\n",
      "\n"
     ]
    }
   ],
   "source": [
    "# Logistic Regression\n",
    "from sklearn.linear_model import LogisticRegression\n",
    "\n",
    "# fit a logistic regression model to the data\n",
    "model = LogisticRegression(random_state = 42)\n",
    "print(model)\n",
    "model.fit(X_train, y_train)\n",
    "\n",
    "# make predictions\n",
    "clf3_expected = y_test\n",
    "clf3_predicted = model.predict(X_test)\n",
    "\n",
    "print(model.score(X_test, y_test))\n",
    "\n",
    "# summarize the fit of the model\n",
    "print(\"accuracy: \" + str(metrics.accuracy_score(clf3_expected, clf3_predicted)))\n",
    "print(metrics.classification_report(clf3_expected, clf3_predicted))"
   ]
  },
  {
   "cell_type": "markdown",
   "metadata": {},
   "source": [
    "##### Use count vectorizer 2: lowercase=True, stop_words=new_skl_stopwords,binary=False,max_df=0.95, min_df=0.05,ngram_range = (1,2)"
   ]
  },
  {
   "cell_type": "code",
   "execution_count": 499,
   "metadata": {
    "collapsed": true
   },
   "outputs": [],
   "source": [
    "cv2 = CountVectorizer(lowercase=True, \n",
    "                     stop_words=new_skl_stopwords,\n",
    "                     binary=False,\n",
    "                     max_df=0.95, \n",
    "                     min_df=0.05,\n",
    "                     ngram_range = (1,2)) "
   ]
  },
  {
   "cell_type": "code",
   "execution_count": 500,
   "metadata": {},
   "outputs": [
    {
     "name": "stdout",
     "output_type": "stream",
     "text": [
      "(10261, 98)\n",
      "<class 'list'> 98\n"
     ]
    }
   ],
   "source": [
    "cv2_dm = cv2.fit_transform(amazonReview['StemReviewText'])\n",
    "\n",
    "# print matrix shape(s)\n",
    "print(cv2_dm.shape)\n",
    "names = cv2.get_feature_names()\n",
    "print(type(names), len(names))"
   ]
  },
  {
   "cell_type": "code",
   "execution_count": 501,
   "metadata": {},
   "outputs": [
    {
     "name": "stdout",
     "output_type": "stream",
     "text": [
      "<class 'list'> 98\n"
     ]
    },
    {
     "data": {
      "text/html": [
       "<div>\n",
       "<style>\n",
       "    .dataframe thead tr:only-child th {\n",
       "        text-align: right;\n",
       "    }\n",
       "\n",
       "    .dataframe thead th {\n",
       "        text-align: left;\n",
       "    }\n",
       "\n",
       "    .dataframe tbody tr th {\n",
       "        vertical-align: top;\n",
       "    }\n",
       "</style>\n",
       "<table border=\"1\" class=\"dataframe\">\n",
       "  <thead>\n",
       "    <tr style=\"text-align: right;\">\n",
       "      <th></th>\n",
       "      <th>count</th>\n",
       "    </tr>\n",
       "  </thead>\n",
       "  <tbody>\n",
       "    <tr>\n",
       "      <th>guitar</th>\n",
       "      <td>5617</td>\n",
       "    </tr>\n",
       "    <tr>\n",
       "      <th>great</th>\n",
       "      <td>4121</td>\n",
       "    </tr>\n",
       "    <tr>\n",
       "      <th>like</th>\n",
       "      <td>3981</td>\n",
       "    </tr>\n",
       "    <tr>\n",
       "      <th>good</th>\n",
       "      <td>3811</td>\n",
       "    </tr>\n",
       "    <tr>\n",
       "      <th>use</th>\n",
       "      <td>3783</td>\n",
       "    </tr>\n",
       "    <tr>\n",
       "      <th>just</th>\n",
       "      <td>3757</td>\n",
       "    </tr>\n",
       "    <tr>\n",
       "      <th>sound</th>\n",
       "      <td>3610</td>\n",
       "    </tr>\n",
       "    <tr>\n",
       "      <th>strings</th>\n",
       "      <td>3408</td>\n",
       "    </tr>\n",
       "    <tr>\n",
       "      <th>pedal</th>\n",
       "      <td>2575</td>\n",
       "    </tr>\n",
       "    <tr>\n",
       "      <th>really</th>\n",
       "      <td>2243</td>\n",
       "    </tr>\n",
       "    <tr>\n",
       "      <th>price</th>\n",
       "      <td>2229</td>\n",
       "    </tr>\n",
       "    <tr>\n",
       "      <th>amp</th>\n",
       "      <td>2115</td>\n",
       "    </tr>\n",
       "    <tr>\n",
       "      <th>ve</th>\n",
       "      <td>2079</td>\n",
       "    </tr>\n",
       "    <tr>\n",
       "      <th>little</th>\n",
       "      <td>2055</td>\n",
       "    </tr>\n",
       "    <tr>\n",
       "      <th>don</th>\n",
       "      <td>1975</td>\n",
       "    </tr>\n",
       "    <tr>\n",
       "      <th>works</th>\n",
       "      <td>1867</td>\n",
       "    </tr>\n",
       "    <tr>\n",
       "      <th>quality</th>\n",
       "      <td>1805</td>\n",
       "    </tr>\n",
       "    <tr>\n",
       "      <th>used</th>\n",
       "      <td>1762</td>\n",
       "    </tr>\n",
       "    <tr>\n",
       "      <th>nice</th>\n",
       "      <td>1707</td>\n",
       "    </tr>\n",
       "    <tr>\n",
       "      <th>better</th>\n",
       "      <td>1688</td>\n",
       "    </tr>\n",
       "  </tbody>\n",
       "</table>\n",
       "</div>"
      ],
      "text/plain": [
       "         count\n",
       "guitar    5617\n",
       "great     4121\n",
       "like      3981\n",
       "good      3811\n",
       "use       3783\n",
       "just      3757\n",
       "sound     3610\n",
       "strings   3408\n",
       "pedal     2575\n",
       "really    2243\n",
       "price     2229\n",
       "amp       2115\n",
       "ve        2079\n",
       "little    2055\n",
       "don       1975\n",
       "works     1867\n",
       "quality   1805\n",
       "used      1762\n",
       "nice      1707\n",
       "better    1688"
      ]
     },
     "execution_count": 501,
     "metadata": {},
     "output_type": "execute_result"
    }
   ],
   "source": [
    "count = np.sum(cv2_dm.toarray(), axis = 0).tolist()\n",
    "print(type(count), len(count))\n",
    "count_df = pd.DataFrame(count, index = names, columns = ['count'])\n",
    "\n",
    "count_df.sort_values(['count'], ascending = False).head(20)"
   ]
  },
  {
   "cell_type": "code",
   "execution_count": 502,
   "metadata": {
    "collapsed": true
   },
   "outputs": [],
   "source": [
    "# train test split\n",
    "# data are X, labels are y\n",
    "from sklearn.model_selection import train_test_split\n",
    "\n",
    "X = cv2_dm.toarray()  #remember this is the output from the vectorizer and we are turning it into an array\n",
    "#print(type(X), X[0:10])\n",
    "\n",
    "y = amazonReview['overall'].values #this is an array of labels\n",
    "#print(type(y), y[0:10])"
   ]
  },
  {
   "cell_type": "code",
   "execution_count": 503,
   "metadata": {},
   "outputs": [
    {
     "name": "stdout",
     "output_type": "stream",
     "text": [
      "(7182, 98)\n",
      "(3079, 98)\n",
      "(7182,)\n",
      "(3079,)\n"
     ]
    }
   ],
   "source": [
    "X_train, X_test, y_train, y_test = train_test_split(X, y, test_size=0.3, random_state=42) #random_state is set seed\n",
    "\n",
    "# function creates 4 output structures - order matters\n",
    "print(X_train.shape)\n",
    "print(X_test.shape)\n",
    "print(y_train.shape)\n",
    "print(y_test.shape)"
   ]
  },
  {
   "cell_type": "code",
   "execution_count": 504,
   "metadata": {},
   "outputs": [
    {
     "name": "stdout",
     "output_type": "stream",
     "text": [
      "0.53329002923\n",
      "accuracy: 0.53329002923\n",
      "             precision    recall  f1-score   support\n",
      "\n",
      "        1.0       0.04      0.04      0.04        72\n",
      "        2.0       0.01      0.01      0.01        67\n",
      "        3.0       0.10      0.12      0.11       229\n",
      "        4.0       0.25      0.25      0.25       646\n",
      "        5.0       0.72      0.70      0.71      2065\n",
      "\n",
      "avg / total       0.54      0.53      0.54      3079\n",
      "\n"
     ]
    }
   ],
   "source": [
    "# Decision Tree Classifier\n",
    "from sklearn import metrics\n",
    "from sklearn.tree import DecisionTreeClassifier\n",
    "\n",
    "# fit a CART model to the data\n",
    "model = DecisionTreeClassifier(random_state = 42)\n",
    "model.fit(X_train, y_train)\n",
    "\n",
    "# make predictions\n",
    "clf1_expected = y_test\n",
    "clf1_predicted = model.predict(X_test)\n",
    "\n",
    "\n",
    "print(model.score(X_test,y_test))\n",
    "\n",
    "# summarize the fit of the model\n",
    "print(\"accuracy: \" + str(metrics.accuracy_score(clf1_expected, clf1_predicted)))\n",
    "print(metrics.classification_report(clf1_expected, clf1_predicted))"
   ]
  },
  {
   "cell_type": "code",
   "execution_count": 505,
   "metadata": {},
   "outputs": [
    {
     "name": "stdout",
     "output_type": "stream",
     "text": [
      "MultinomialNB(alpha=1.0, class_prior=None, fit_prior=True)\n",
      "0.646963299773\n",
      "accuracy: 0.646963299773\n",
      "             precision    recall  f1-score   support\n",
      "\n",
      "        1.0       0.19      0.10      0.13        72\n",
      "        2.0       0.03      0.01      0.02        67\n",
      "        3.0       0.11      0.03      0.05       229\n",
      "        4.0       0.35      0.12      0.18       646\n",
      "        5.0       0.70      0.92      0.79      2065\n",
      "\n",
      "avg / total       0.56      0.65      0.58      3079\n",
      "\n"
     ]
    }
   ],
   "source": [
    "# Multinomial Naive Bayes\n",
    "from sklearn.naive_bayes import MultinomialNB\n",
    "\n",
    "# fit a Naive Bayes model to the data\n",
    "model = MultinomialNB()\n",
    "print(model)\n",
    "model.fit(X_train, y_train)\n",
    "\n",
    "# make predictions\n",
    "clf2_expected = y_test\n",
    "clf2_predicted = model.predict(X_test)\n",
    "\n",
    "print(model.score(X_test, y_test))\n",
    "\n",
    "# summarize the fit of the model\n",
    "print(\"accuracy: \" + str(metrics.accuracy_score(clf2_expected, clf2_predicted)))\n",
    "print(metrics.classification_report(clf2_expected, clf2_predicted))"
   ]
  },
  {
   "cell_type": "code",
   "execution_count": 506,
   "metadata": {},
   "outputs": [
    {
     "name": "stdout",
     "output_type": "stream",
     "text": [
      "LogisticRegression(C=1.0, class_weight=None, dual=False, fit_intercept=True,\n",
      "          intercept_scaling=1, max_iter=100, multi_class='ovr', n_jobs=1,\n",
      "          penalty='l2', random_state=42, solver='liblinear', tol=0.0001,\n",
      "          verbose=0, warm_start=False)\n",
      "0.672620980838\n",
      "accuracy: 0.672620980838\n",
      "             precision    recall  f1-score   support\n",
      "\n",
      "        1.0       0.60      0.04      0.08        72\n",
      "        2.0       0.40      0.03      0.06        67\n",
      "        3.0       0.17      0.01      0.02       229\n",
      "        4.0       0.44      0.07      0.11       646\n",
      "        5.0       0.68      0.98      0.80      2065\n",
      "\n",
      "avg / total       0.59      0.67      0.57      3079\n",
      "\n"
     ]
    }
   ],
   "source": [
    "# Logistic Regression\n",
    "from sklearn.linear_model import LogisticRegression\n",
    "\n",
    "# fit a logistic regression model to the data\n",
    "model = LogisticRegression(random_state = 42)\n",
    "print(model)\n",
    "model.fit(X_train, y_train)\n",
    "\n",
    "# make predictions\n",
    "clf3_expected = y_test\n",
    "clf3_predicted = model.predict(X_test)\n",
    "\n",
    "print(model.score(X_test, y_test))\n",
    "\n",
    "# summarize the fit of the model\n",
    "print(\"accuracy: \" + str(metrics.accuracy_score(clf3_expected, clf3_predicted)))\n",
    "print(metrics.classification_report(clf3_expected, clf3_predicted))"
   ]
  },
  {
   "cell_type": "markdown",
   "metadata": {},
   "source": [
    "##### Use tfidf vectorizer: lowercase = True, stop_words= new_nltk_stopwords, max_df=0.95, min_df=0.05, ngram_range = (1,2)"
   ]
  },
  {
   "cell_type": "code",
   "execution_count": 402,
   "metadata": {
    "collapsed": true
   },
   "outputs": [],
   "source": [
    "tfidf1 = TfidfVectorizer(lowercase = True, \n",
    "                        stop_words= new_nltk_stopwords, \n",
    "                        max_df=0.95, \n",
    "                        min_df=0.05,\n",
    "                        ngram_range = (1,2))"
   ]
  },
  {
   "cell_type": "code",
   "execution_count": 403,
   "metadata": {},
   "outputs": [
    {
     "name": "stdout",
     "output_type": "stream",
     "text": [
      "(10261, 108)\n",
      "<class 'list'> 108\n"
     ]
    }
   ],
   "source": [
    "tfidf_dm = tfidf1.fit_transform(amazonReview['cleantext'])\n",
    "\n",
    "# print matrix shape(s)\n",
    "print(tfidf_dm.shape)\n",
    "names = tfidf1.get_feature_names()\n",
    "print(type(names), len(names))"
   ]
  },
  {
   "cell_type": "code",
   "execution_count": 404,
   "metadata": {},
   "outputs": [
    {
     "name": "stdout",
     "output_type": "stream",
     "text": [
      "<class 'list'> 108\n"
     ]
    },
    {
     "data": {
      "text/html": [
       "<div>\n",
       "<style>\n",
       "    .dataframe thead tr:only-child th {\n",
       "        text-align: right;\n",
       "    }\n",
       "\n",
       "    .dataframe thead th {\n",
       "        text-align: left;\n",
       "    }\n",
       "\n",
       "    .dataframe tbody tr th {\n",
       "        vertical-align: top;\n",
       "    }\n",
       "</style>\n",
       "<table border=\"1\" class=\"dataframe\">\n",
       "  <thead>\n",
       "    <tr style=\"text-align: right;\">\n",
       "      <th></th>\n",
       "      <th>count</th>\n",
       "    </tr>\n",
       "  </thead>\n",
       "  <tbody>\n",
       "    <tr>\n",
       "      <th>guitar</th>\n",
       "      <td>921.348728</td>\n",
       "    </tr>\n",
       "    <tr>\n",
       "      <th>string</th>\n",
       "      <td>757.355210</td>\n",
       "    </tr>\n",
       "    <tr>\n",
       "      <th>use</th>\n",
       "      <td>741.822023</td>\n",
       "    </tr>\n",
       "    <tr>\n",
       "      <th>great</th>\n",
       "      <td>727.593655</td>\n",
       "    </tr>\n",
       "    <tr>\n",
       "      <th>good</th>\n",
       "      <td>661.405896</td>\n",
       "    </tr>\n",
       "    <tr>\n",
       "      <th>sound</th>\n",
       "      <td>658.414304</td>\n",
       "    </tr>\n",
       "    <tr>\n",
       "      <th>work</th>\n",
       "      <td>601.677799</td>\n",
       "    </tr>\n",
       "    <tr>\n",
       "      <th>like</th>\n",
       "      <td>588.873463</td>\n",
       "    </tr>\n",
       "    <tr>\n",
       "      <th>well</th>\n",
       "      <td>560.198404</td>\n",
       "    </tr>\n",
       "    <tr>\n",
       "      <th>buy</th>\n",
       "      <td>504.929865</td>\n",
       "    </tr>\n",
       "    <tr>\n",
       "      <th>pick</th>\n",
       "      <td>493.954955</td>\n",
       "    </tr>\n",
       "    <tr>\n",
       "      <th>make</th>\n",
       "      <td>471.305673</td>\n",
       "    </tr>\n",
       "    <tr>\n",
       "      <th>price</th>\n",
       "      <td>456.045952</td>\n",
       "    </tr>\n",
       "    <tr>\n",
       "      <th>pedal</th>\n",
       "      <td>435.874534</td>\n",
       "    </tr>\n",
       "    <tr>\n",
       "      <th>get</th>\n",
       "      <td>431.270179</td>\n",
       "    </tr>\n",
       "    <tr>\n",
       "      <th>really</th>\n",
       "      <td>408.523931</td>\n",
       "    </tr>\n",
       "    <tr>\n",
       "      <th>play</th>\n",
       "      <td>404.441493</td>\n",
       "    </tr>\n",
       "    <tr>\n",
       "      <th>quality</th>\n",
       "      <td>390.630735</td>\n",
       "    </tr>\n",
       "    <tr>\n",
       "      <th>little</th>\n",
       "      <td>382.410045</td>\n",
       "    </tr>\n",
       "    <tr>\n",
       "      <th>nice</th>\n",
       "      <td>379.834002</td>\n",
       "    </tr>\n",
       "  </tbody>\n",
       "</table>\n",
       "</div>"
      ],
      "text/plain": [
       "              count\n",
       "guitar   921.348728\n",
       "string   757.355210\n",
       "use      741.822023\n",
       "great    727.593655\n",
       "good     661.405896\n",
       "sound    658.414304\n",
       "work     601.677799\n",
       "like     588.873463\n",
       "well     560.198404\n",
       "buy      504.929865\n",
       "pick     493.954955\n",
       "make     471.305673\n",
       "price    456.045952\n",
       "pedal    435.874534\n",
       "get      431.270179\n",
       "really   408.523931\n",
       "play     404.441493\n",
       "quality  390.630735\n",
       "little   382.410045\n",
       "nice     379.834002"
      ]
     },
     "execution_count": 404,
     "metadata": {},
     "output_type": "execute_result"
    }
   ],
   "source": [
    "count = np.sum(tfidf_dm.toarray(), axis = 0).tolist()\n",
    "print(type(count), len(count))\n",
    "count_df = pd.DataFrame(count, index = names, columns = ['count'])\n",
    "\n",
    "count_df.sort_values(['count'], ascending = False).head(20)"
   ]
  },
  {
   "cell_type": "code",
   "execution_count": 406,
   "metadata": {
    "collapsed": true
   },
   "outputs": [],
   "source": [
    "# train test split\n",
    "# data are X, labels are y\n",
    "from sklearn.model_selection import train_test_split\n",
    "\n",
    "X = tfidf_dm.toarray()  #remember this is the output from the vectorizer and we are turning it into an array\n",
    "#print(type(X), X[0:10])\n",
    "\n",
    "y = amazonReview['overall'].values #this is an array of labels\n",
    "#print(type(y), y[0:10])"
   ]
  },
  {
   "cell_type": "code",
   "execution_count": 407,
   "metadata": {},
   "outputs": [
    {
     "name": "stdout",
     "output_type": "stream",
     "text": [
      "(7182, 108)\n",
      "(3079, 108)\n",
      "(7182,)\n",
      "(3079,)\n"
     ]
    }
   ],
   "source": [
    "X_train, X_test, y_train, y_test = train_test_split(X, y, test_size=0.3, random_state=42) #random_state is set seed\n",
    "\n",
    "# function creates 4 output structures - order matters\n",
    "print(X_train.shape)\n",
    "print(X_test.shape)\n",
    "print(y_train.shape)\n",
    "print(y_test.shape)"
   ]
  },
  {
   "cell_type": "code",
   "execution_count": 408,
   "metadata": {},
   "outputs": [
    {
     "name": "stdout",
     "output_type": "stream",
     "text": [
      "0.539460863917\n",
      "accuracy: 0.539460863917\n",
      "             precision    recall  f1-score   support\n",
      "\n",
      "        1.0       0.09      0.07      0.08        72\n",
      "        2.0       0.03      0.03      0.03        67\n",
      "        3.0       0.09      0.09      0.09       229\n",
      "        4.0       0.25      0.23      0.24       646\n",
      "        5.0       0.70      0.72      0.71      2065\n",
      "\n",
      "avg / total       0.53      0.54      0.53      3079\n",
      "\n"
     ]
    }
   ],
   "source": [
    "# Decision Tree Classifier\n",
    "from sklearn import metrics\n",
    "from sklearn.tree import DecisionTreeClassifier\n",
    "\n",
    "# fit a CART model to the data\n",
    "model = DecisionTreeClassifier(random_state = 42)\n",
    "model.fit(X_train, y_train)\n",
    "\n",
    "# make predictions\n",
    "clf1_expected = y_test\n",
    "clf1_predicted = model.predict(X_test)\n",
    "\n",
    "\n",
    "print(model.score(X_test,y_test))\n",
    "\n",
    "# summarize the fit of the model\n",
    "print(\"accuracy: \" + str(metrics.accuracy_score(clf1_expected, clf1_predicted)))\n",
    "print(metrics.classification_report(clf1_expected, clf1_predicted))"
   ]
  },
  {
   "cell_type": "code",
   "execution_count": 409,
   "metadata": {},
   "outputs": [
    {
     "name": "stdout",
     "output_type": "stream",
     "text": [
      "MultinomialNB(alpha=1.0, class_prior=None, fit_prior=True)\n",
      "0.6706722962\n",
      "accuracy: 0.6706722962\n",
      "             precision    recall  f1-score   support\n",
      "\n",
      "        1.0       0.00      0.00      0.00        72\n",
      "        2.0       0.00      0.00      0.00        67\n",
      "        3.0       0.00      0.00      0.00       229\n",
      "        4.0       0.00      0.00      0.00       646\n",
      "        5.0       0.67      1.00      0.80      2065\n",
      "\n",
      "avg / total       0.45      0.67      0.54      3079\n",
      "\n"
     ]
    },
    {
     "name": "stderr",
     "output_type": "stream",
     "text": [
      "C:\\ProgramData\\Anaconda3\\lib\\site-packages\\sklearn\\metrics\\classification.py:1113: UndefinedMetricWarning: Precision and F-score are ill-defined and being set to 0.0 in labels with no predicted samples.\n",
      "  'precision', 'predicted', average, warn_for)\n"
     ]
    }
   ],
   "source": [
    "# Multinomial Naive Bayes\n",
    "from sklearn.naive_bayes import MultinomialNB\n",
    "\n",
    "# fit a Naive Bayes model to the data\n",
    "model = MultinomialNB()\n",
    "print(model)\n",
    "model.fit(X_train, y_train)\n",
    "\n",
    "# make predictions\n",
    "clf2_expected = y_test\n",
    "clf2_predicted = model.predict(X_test)\n",
    "\n",
    "print(model.score(X_test, y_test))\n",
    "\n",
    "# summarize the fit of the model\n",
    "print(\"accuracy: \" + str(metrics.accuracy_score(clf2_expected, clf2_predicted)))\n",
    "print(metrics.classification_report(clf2_expected, clf2_predicted))"
   ]
  },
  {
   "cell_type": "code",
   "execution_count": 410,
   "metadata": {},
   "outputs": [
    {
     "name": "stdout",
     "output_type": "stream",
     "text": [
      "LogisticRegression(C=1.0, class_weight=None, dual=False, fit_intercept=True,\n",
      "          intercept_scaling=1, max_iter=100, multi_class='ovr', n_jobs=1,\n",
      "          penalty='l2', random_state=42, solver='liblinear', tol=0.0001,\n",
      "          verbose=0, warm_start=False)\n",
      "0.673270542384\n",
      "accuracy: 0.673270542384\n",
      "             precision    recall  f1-score   support\n",
      "\n",
      "        1.0       0.00      0.00      0.00        72\n",
      "        2.0       0.00      0.00      0.00        67\n",
      "        3.0       0.50      0.00      0.01       229\n",
      "        4.0       0.40      0.09      0.14       646\n",
      "        5.0       0.69      0.98      0.81      2065\n",
      "\n",
      "avg / total       0.58      0.67      0.57      3079\n",
      "\n"
     ]
    },
    {
     "name": "stderr",
     "output_type": "stream",
     "text": [
      "C:\\ProgramData\\Anaconda3\\lib\\site-packages\\sklearn\\metrics\\classification.py:1113: UndefinedMetricWarning: Precision and F-score are ill-defined and being set to 0.0 in labels with no predicted samples.\n",
      "  'precision', 'predicted', average, warn_for)\n"
     ]
    }
   ],
   "source": [
    "# Logistic Regression\n",
    "from sklearn.linear_model import LogisticRegression\n",
    "\n",
    "# fit a logistic regression model to the data\n",
    "model = LogisticRegression(random_state = 42)\n",
    "print(model)\n",
    "model.fit(X_train, y_train)\n",
    "\n",
    "# make predictions\n",
    "clf3_expected = y_test\n",
    "clf3_predicted = model.predict(X_test)\n",
    "\n",
    "print(model.score(X_test, y_test))\n",
    "\n",
    "# summarize the fit of the model\n",
    "print(\"accuracy: \" + str(metrics.accuracy_score(clf3_expected, clf3_predicted)))\n",
    "print(metrics.classification_report(clf3_expected, clf3_predicted))"
   ]
  },
  {
   "cell_type": "markdown",
   "metadata": {},
   "source": [
    "##### Use PCA to reduce feature spaces on count vectorizer 3 lowercase=True, stop_words=new_skl_stopwords,binary=False,max_df=0.95,min_df=0.001,ngram_range = (1,2)"
   ]
  },
  {
   "cell_type": "code",
   "execution_count": 429,
   "metadata": {
    "collapsed": true
   },
   "outputs": [],
   "source": [
    "cv3 = CountVectorizer(lowercase=True, \n",
    "                     stop_words=new_skl_stopwords,\n",
    "                     binary=False,\n",
    "                     max_df=0.95,\n",
    "                     min_df=0.001, #prevent memory error have to set a min_df\n",
    "                     ngram_range = (1,2)) "
   ]
  },
  {
   "cell_type": "code",
   "execution_count": 430,
   "metadata": {},
   "outputs": [
    {
     "name": "stdout",
     "output_type": "stream",
     "text": [
      "(10261, 5883)\n",
      "<class 'list'> 5883\n"
     ]
    }
   ],
   "source": [
    "cv3_dm = cv3.fit_transform(amazonReview['cleantext'])\n",
    "\n",
    "# print matrix shape(s)\n",
    "print(cv3_dm.shape)\n",
    "names = cv3.get_feature_names()\n",
    "print(type(names), len(names))"
   ]
  },
  {
   "cell_type": "code",
   "execution_count": 438,
   "metadata": {},
   "outputs": [
    {
     "name": "stdout",
     "output_type": "stream",
     "text": [
      "(10261, 5883)\n",
      "PCA Total Variance Explained: 0.828651554237\n"
     ]
    }
   ],
   "source": [
    "# Is this what we need to get better predictions for our news articles?\n",
    "# First question:  How many components?\n",
    "\n",
    "# Our original feature space was pretty big\n",
    "print(cv3_dm.shape)\n",
    "\n",
    "from sklearn.decomposition import PCA, RandomizedPCA\n",
    "\n",
    "# we want something that is smaller than 5883 \n",
    "# let's start with 800 - that's about how big the second round space was\n",
    "# maybe we've kept more info for the same number of features\n",
    "\n",
    "\n",
    "pca = PCA(n_components=800)\n",
    "X_pca = pca.fit_transform(cv3_dm.toarray())\n",
    "\n",
    "print( 'PCA Total Variance Explained: ' + str(sum(pca.explained_variance_ratio_)))"
   ]
  },
  {
   "cell_type": "code",
   "execution_count": 439,
   "metadata": {},
   "outputs": [
    {
     "name": "stdout",
     "output_type": "stream",
     "text": [
      "0.506658005846\n",
      "accuracy: 0.506658005846\n",
      "             precision    recall  f1-score   support\n",
      "\n",
      "        1.0       0.03      0.03      0.03        72\n",
      "        2.0       0.04      0.06      0.05        67\n",
      "        3.0       0.08      0.10      0.08       229\n",
      "        4.0       0.26      0.26      0.26       646\n",
      "        5.0       0.69      0.66      0.67      2065\n",
      "\n",
      "avg / total       0.52      0.51      0.52      3079\n",
      "\n"
     ]
    }
   ],
   "source": [
    "#set up our test and training vectors with the PCA'd vector space\n",
    "X = X_pca  #remember this is the output from the vectorizer and we are turning it into an array\n",
    "y = amazonReview['overall'].values #this is an array of labels\n",
    "\n",
    "\n",
    "X_train, X_test, y_train, y_test = train_test_split(X, y, test_size=0.3, random_state=42) #random_state is set seed\n",
    "\n",
    "\n",
    "# fit a CART model to the data\n",
    "model = DecisionTreeClassifier(random_state = 42)\n",
    "model.fit(X_train, y_train)\n",
    "\n",
    "# make predictions\n",
    "clf1_expected = y_test\n",
    "clf1_predicted = model.predict(X_test)\n",
    "\n",
    "\n",
    "print(model.score(X_test,y_test))\n",
    "\n",
    "# summarize the fit of the model\n",
    "print(\"accuracy: \" + str(metrics.accuracy_score(clf1_expected, clf1_predicted)))\n",
    "print(metrics.classification_report(clf1_expected, clf1_predicted))"
   ]
  },
  {
   "cell_type": "code",
   "execution_count": 440,
   "metadata": {},
   "outputs": [
    {
     "name": "stdout",
     "output_type": "stream",
     "text": [
      "LogisticRegression(C=1.0, class_weight=None, dual=False, fit_intercept=True,\n",
      "          intercept_scaling=1, max_iter=100, multi_class='ovr', n_jobs=1,\n",
      "          penalty='l2', random_state=42, solver='liblinear', tol=0.0001,\n",
      "          verbose=0, warm_start=False)\n",
      "0.666450146151\n",
      "accuracy: 0.666450146151\n",
      "             precision    recall  f1-score   support\n",
      "\n",
      "        1.0       0.39      0.10      0.16        72\n",
      "        2.0       0.18      0.09      0.12        67\n",
      "        3.0       0.25      0.14      0.18       229\n",
      "        4.0       0.39      0.22      0.28       646\n",
      "        5.0       0.73      0.90      0.81      2065\n",
      "\n",
      "avg / total       0.61      0.67      0.62      3079\n",
      "\n"
     ]
    }
   ],
   "source": [
    "# fit a logistic regression model to the data\n",
    "model = LogisticRegression(random_state = 42)\n",
    "print(model)\n",
    "model.fit(X_train, y_train)\n",
    "\n",
    "# make predictions\n",
    "clf3_expected = y_test\n",
    "clf3_predicted = model.predict(X_test)\n",
    "\n",
    "print(model.score(X_test, y_test))\n",
    "\n",
    "# summarize the fit of the model\n",
    "print(\"accuracy: \" + str(metrics.accuracy_score(clf3_expected, clf3_predicted)))\n",
    "print(metrics.classification_report(clf3_expected, clf3_predicted))"
   ]
  },
  {
   "cell_type": "markdown",
   "metadata": {},
   "source": [
    "##### Use TfidfVectorizer 2: lowercase = True, binary=False, stop_words = new_nltk_stopwords,max_df=0.95, min_df=0.001, ngram_range = (1,2)"
   ]
  },
  {
   "cell_type": "code",
   "execution_count": 7,
   "metadata": {
    "collapsed": true
   },
   "outputs": [],
   "source": [
    "tfidf2 = TfidfVectorizer(lowercase = True, \n",
    "                          binary=False, \n",
    "                          stop_words = new_nltk_stopwords,\n",
    "                          max_df=0.95,\n",
    "                          min_df=0.001,  #prevent memory error have to set a min_df\n",
    "                          use_idf = False,\n",
    "                          ngram_range = (1,2)) "
   ]
  },
  {
   "cell_type": "code",
   "execution_count": 8,
   "metadata": {},
   "outputs": [
    {
     "name": "stdout",
     "output_type": "stream",
     "text": [
      "(10261, 6238)\n",
      "<class 'list'> 6238\n"
     ]
    }
   ],
   "source": [
    "tfidf2_dm = tfidf2.fit_transform(amazonReview['cleantext'])\n",
    "\n",
    "# print matrix shape(s)\n",
    "print(tfidf2_dm.shape)\n",
    "names = tfidf2.get_feature_names()\n",
    "print(type(names), len(names))"
   ]
  },
  {
   "cell_type": "code",
   "execution_count": 9,
   "metadata": {
    "collapsed": true
   },
   "outputs": [],
   "source": [
    "# train test split\n",
    "# data are X, labels are y\n",
    "from sklearn.model_selection import train_test_split\n",
    "\n",
    "X = tfidf2_dm.toarray()  #remember this is the output from the vectorizer and we are turning it into an array\n",
    "#print(type(X), X[0:10])\n",
    "\n",
    "y = amazonReview['overall'].values #this is an array of labels\n",
    "#print(type(y), y[0:10])"
   ]
  },
  {
   "cell_type": "code",
   "execution_count": 461,
   "metadata": {
    "collapsed": true
   },
   "outputs": [],
   "source": [
    "# use cosine similarity \n",
    "from sklearn.metrics.pairwise import cosine_similarity\n",
    "X = cosine_similarity(X)"
   ]
  },
  {
   "cell_type": "code",
   "execution_count": 462,
   "metadata": {},
   "outputs": [
    {
     "name": "stdout",
     "output_type": "stream",
     "text": [
      "(7182, 10261)\n",
      "(3079, 10261)\n",
      "(7182,)\n",
      "(3079,)\n"
     ]
    }
   ],
   "source": [
    "X_train, X_test, y_train, y_test = train_test_split(X, y, test_size=0.3, random_state=42) #random_state is set seed\n",
    "\n",
    "# function creates 4 output structures - order matters\n",
    "print(X_train.shape)\n",
    "print(X_test.shape)\n",
    "print(y_train.shape)\n",
    "print(y_test.shape)"
   ]
  },
  {
   "cell_type": "code",
   "execution_count": 463,
   "metadata": {},
   "outputs": [
    {
     "name": "stdout",
     "output_type": "stream",
     "text": [
      "0.539460863917\n",
      "accuracy: 0.539460863917\n",
      "             precision    recall  f1-score   support\n",
      "\n",
      "        1.0       0.02      0.03      0.02        72\n",
      "        2.0       0.06      0.13      0.09        67\n",
      "        3.0       0.11      0.12      0.11       229\n",
      "        4.0       0.26      0.14      0.18       646\n",
      "        5.0       0.69      0.74      0.71      2065\n",
      "\n",
      "avg / total       0.53      0.54      0.53      3079\n",
      "\n"
     ]
    }
   ],
   "source": [
    "# loading library\n",
    "from sklearn import metrics\n",
    "from sklearn.neighbors import KNeighborsClassifier\n",
    "\n",
    "# instantiate learning model (k = 3)\n",
    "model = KNeighborsClassifier(n_neighbors=3)\n",
    "model.fit(X_train, y_train)\n",
    "\n",
    "\n",
    "# make predictions\n",
    "knn1_expected = y_test\n",
    "knn1_predicted = model.predict(X_test)\n",
    "\n",
    "\n",
    "print(model.score(X_test,y_test))\n",
    "\n",
    "# summarize the fit of the model\n",
    "print(\"accuracy: \" + str(metrics.accuracy_score(knn1_expected, knn1_predicted)))\n",
    "print(metrics.classification_report(knn1_expected, knn1_predicted))"
   ]
  },
  {
   "cell_type": "code",
   "execution_count": 10,
   "metadata": {},
   "outputs": [
    {
     "name": "stdout",
     "output_type": "stream",
     "text": [
      "(7182, 6238)\n",
      "(3079, 6238)\n",
      "(7182,)\n",
      "(3079,)\n"
     ]
    }
   ],
   "source": [
    "X = tfidf2_dm.toarray()  #remember this is the output from the vectorizer and we are turning it into an array\n",
    "\n",
    "X_train, X_test, y_train, y_test = train_test_split(X, y, test_size=0.3, random_state=42) #random_state is set seed\n",
    "\n",
    "# function creates 4 output structures - order matters\n",
    "print(X_train.shape)\n",
    "print(X_test.shape)\n",
    "print(y_train.shape)\n",
    "print(y_test.shape)"
   ]
  },
  {
   "cell_type": "code",
   "execution_count": 465,
   "metadata": {},
   "outputs": [
    {
     "name": "stdout",
     "output_type": "stream",
     "text": [
      "0.666450146151\n",
      "accuracy: 0.666450146151\n",
      "             precision    recall  f1-score   support\n",
      "\n",
      "        1.0       0.00      0.00      0.00        72\n",
      "        2.0       0.17      0.01      0.03        67\n",
      "        3.0       0.12      0.01      0.02       229\n",
      "        4.0       0.25      0.00      0.00       646\n",
      "        5.0       0.67      0.99      0.80      2065\n",
      "\n",
      "avg / total       0.52      0.67      0.54      3079\n",
      "\n"
     ]
    }
   ],
   "source": [
    "# instantiate learning model (k = 3)\n",
    "model = KNeighborsClassifier(n_neighbors=3)\n",
    "model.fit(X_train, y_train)\n",
    "\n",
    "\n",
    "# make predictions\n",
    "knn1_expected = y_test\n",
    "knn1_predicted = model.predict(X_test)\n",
    "\n",
    "\n",
    "print(model.score(X_test,y_test))\n",
    "\n",
    "# summarize the fit of the model\n",
    "print(\"accuracy: \" + str(metrics.accuracy_score(knn1_expected, knn1_predicted)))\n",
    "print(metrics.classification_report(knn1_expected, knn1_predicted))"
   ]
  },
  {
   "cell_type": "code",
   "execution_count": 466,
   "metadata": {
    "collapsed": true
   },
   "outputs": [],
   "source": [
    "from sklearn.model_selection import cross_val_score\n",
    "# creating odd list of K for KNN\n",
    "myList = list(range(1,35))\n",
    "\n",
    "# subsetting just the odd ones\n",
    "neighbors = list(filter(lambda x: x % 2 != 0, myList))\n",
    "\n",
    "# empty list that will hold cv scores\n",
    "cv_scores = []\n",
    "\n",
    "#takes some time, get a soda...\n",
    "# perform 10-fold cross validation\n",
    "for k in neighbors:\n",
    "    knn = KNeighborsClassifier(n_neighbors=k)\n",
    "    scores = cross_val_score(knn, X_train, y_train, cv=10, scoring='accuracy')\n",
    "    cv_scores.append(scores.mean())"
   ]
  },
  {
   "cell_type": "code",
   "execution_count": 467,
   "metadata": {},
   "outputs": [
    {
     "name": "stdout",
     "output_type": "stream",
     "text": [
      "The optimal number of neighbors is 29\n"
     ]
    },
    {
     "data": {
      "image/png": "[encoded data removed]",
      "text/plain": [
       "<matplotlib.figure.Figure at 0x3190feb8>"
      ]
     },
     "metadata": {},
     "output_type": "display_data"
    }
   ],
   "source": [
    "# changing to misclassification error\n",
    "MSE = [1 - x for x in cv_scores]\n",
    "\n",
    "# determining best k\n",
    "optimal_k = neighbors[MSE.index(min(MSE))]\n",
    "print(\"The optimal number of neighbors is %d\" % optimal_k)\n",
    "\n",
    "# plot misclassification error vs k\n",
    "plt.plot(neighbors, MSE)\n",
    "plt.xlabel('Number of Neighbors K')\n",
    "plt.ylabel('Misclassification Error')\n",
    "plt.show()"
   ]
  },
  {
   "cell_type": "code",
   "execution_count": 13,
   "metadata": {},
   "outputs": [
    {
     "name": "stdout",
     "output_type": "stream",
     "text": [
      "0.670997076973\n",
      "accuracy: 0.670997076973\n",
      "             precision    recall  f1-score   support\n",
      "\n",
      "        1.0       0.00      0.00      0.00        72\n",
      "        2.0       0.00      0.00      0.00        67\n",
      "        3.0       0.00      0.00      0.00       229\n",
      "        4.0       0.33      0.00      0.01       646\n",
      "        5.0       0.67      1.00      0.80      2065\n",
      "\n",
      "avg / total       0.52      0.67      0.54      3079\n",
      "\n"
     ]
    },
    {
     "name": "stderr",
     "output_type": "stream",
     "text": [
      "C:\\ProgramData\\Anaconda3\\lib\\site-packages\\sklearn\\metrics\\classification.py:1113: UndefinedMetricWarning: Precision and F-score are ill-defined and being set to 0.0 in labels with no predicted samples.\n",
      "  'precision', 'predicted', average, warn_for)\n"
     ]
    }
   ],
   "source": [
    "# Try Pick 29 neighbors.\n",
    "\n",
    "# instantiate learning model \n",
    "model = KNeighborsClassifier(n_neighbors=29)\n",
    "model.fit(X_train, y_train)\n",
    "\n",
    "\n",
    "# make predictions\n",
    "knn2_expected = y_test\n",
    "knn2_predicted = model.predict(X_test)\n",
    "\n",
    "\n",
    "print(model.score(X_test,y_test))\n",
    "\n",
    "# summarize the fit of the model\n",
    "print(\"accuracy: \" + str(metrics.accuracy_score(knn2_expected, knn2_predicted)))\n",
    "print(metrics.classification_report(knn2_expected, knn2_predicted))"
   ]
  },
  {
   "cell_type": "markdown",
   "metadata": {},
   "source": [
    "#### Q2. Write a short description of the improvement you were able to make in your prediction. Make sure your answer is no longer than four paragraphs, and should at minimum answer these questions:\n",
    "*\tWhat combination of classifiers and settings did you use and why?\n",
    "*\tWhich model fit “best” and what metric did you use for the comparison? Why? \n",
    "*\tAre you happy with the results? Why or why not?  What could you do to improve on the “best” model’s performance?\n",
    " Audience: technical – fellow data scientists or other technical staff.\n"
   ]
  },
  {
   "cell_type": "markdown",
   "metadata": {},
   "source": [
    "I tried five different settings, and four different models: Decision Tree, Naive Bayes, Logistic Regression, and KNN models.  \n",
    "For each setting, I ran several models, and I ran 12 models in total. The results are listed below in Table 1 and Table 2.\n",
    "\n",
    "Here are some of the preprocessing steps I tried.  I used both modified NLTK and Sklean stop words to remove from the review text. I used cleaned text by replacing plural words such as \"guitars\" to \"guitar\", and \"years\" to \"year\"...etc.  I also tried Porter stemming.  I used lower case text in all cases.  I set ngram to 1 or 2 so one or two words term would return from the vectorizers.  I set min_df and max_df between 5% and 95% to reduce number of qualifying feature spaces.  When I want to higher number of feature spaces to feed into PCA for KNN model I set a much smaller 0.1% min_df. The detail settings of each batch of models' runs are listed below:\n",
    "\n",
    "* **Setting 1** - Count vectorizer on cleaned text, Sklean stop words.\n",
    "* **Setting 2** - Count vectorizer on Porter stemmed text, Sklean stop words.\n",
    "* **Setting 3** - Tfididf vectorizer on cleaned text, NLTK stop words.\n",
    "* **Setting 4** - Count vectorizer on cleaned text, Sklean stop words, min_df set to 0.1%. PCA components set to 800 which captures 83% of the variance explained.\n",
    "* **Setting 5** - Tfididf vectorizer on cleaned text, NLTK stop words, min_df set to 0.1%, cosine similarity. KNN neighbor set to 29 using elbow method and cross validation.\n",
    "\n",
    "Table 1 shows accuracy ratios on the all twelve models I ran. The second table shows precision ratios on poor (1/5) overall rating reviews.  This is because the base model did not do well on those lower rating predictions.  I want to see which model is better at predicting 1/5 overall rating products.  Precision and recall ratio shows how good model is at predicting true positive. $$Precision = \\frac{TP}{{TP} + {FP}}$$ $$Recall = \\frac{TP}{{TP} + {FN}}$$ \n",
    "\n",
    "[Wiki Reference](https://en.wikipedia.org/wiki/Precision_and_recall)\n",
    "\n",
    "\n",
    "                                   Table 1. Accuracy ratios \n",
    "| Accuracy      | Base Setting  |  Setting 1 | Setting 2 | Setting 3 | Setting 4 | Setting 5  |\n",
    "| :------------:|:-------------:|:-----------------------------------------------------------:|\n",
    "| Decision Tree | 57.5%         |   52.6%    |   53.3%   |   53.9%   |   50.7%   |            |\n",
    "| Naive Bayes   | 66.7%         |   65.3%    |   64.7%   |   67.1%   |           |            |\n",
    "| Logistic Reg  | 65.1%         |   67%      |   67.3%   |   67.3%   |   66.6%   |            |\n",
    "| KNN           | 64.4%         |            |           |           |           |   67.1%    |\n",
    "\n",
    "\n",
    "                                   Table 2. Precision ratios on 1/5 overall rating product reviews\n",
    "| Precision     | Base Setting  |  Setting 1 | Setting 2 | Setting 3 | Setting 4 | Setting 5  |\n",
    "| :------------:|:-------------:|:-----------------------------------------------------------:|\n",
    "| Decision Tree | 23%           |     4%     |     4%    |    9%     |     3%    |            |\n",
    "| Naive Bayes   | 50%           |    26%     |    19%    |    0%     |           |            |\n",
    "| Logistic Reg  | 58%           |    75%     |    60%    |    0%     |    39%    |            |\n",
    "| KNN           | 5%            |            |           |           |           |     0%     |\n",
    "\n",
    "\n",
    "The logistic Regression models using setting 1 (count vectorizer on cleaned text and SKL stop words) produced an overall accuracy of 67% and 75% precision on 1/5 overall rating review predictions.  This is a better model than the base model prediction accuracy and precision on 1/5 overall rating review if we care the lower rating prediction result. Some disappointments include:\n",
    "\n",
    "* Unfortunately, the PCA dimension reduction technique used on setting 4 did not yields a better accuracy on Decision Tree and Logistic Regression models.\n",
    "* Stemmed text works well but not as good as cleaned text by customer replacement.\n",
    "* Cross validation elbow method selected 29 neighbors for KNN model, the model yields only a slightly better accurate KNN model than the base model.  \n",
    "* KNN model rans much slower with cosine similarity, the results did not improve vs with Euclidian distance.\n",
    "\n",
    "To improve on the \"best\" logistic regression model I would like to look for more customer replacement words I can add, and find other variables (besides just the text) that can improve prediction results. I could use ensemble model approach to combine multiple models together to get the prediction results. "
   ]
  },
  {
   "cell_type": "markdown",
   "metadata": {},
   "source": [
    "#### T3. Perform K-means clustering on your dataset.  Store the cluster assignments in the dataframe."
   ]
  },
  {
   "cell_type": "code",
   "execution_count": 7,
   "metadata": {
    "collapsed": true
   },
   "outputs": [],
   "source": [
    "cv1 = CountVectorizer(lowercase=True, \n",
    "                     stop_words=new_skl_stopwords,\n",
    "                     binary=False,\n",
    "                     max_df=0.95, \n",
    "                     min_df=0.01,\n",
    "                     ngram_range = (1,2)) "
   ]
  },
  {
   "cell_type": "code",
   "execution_count": 8,
   "metadata": {},
   "outputs": [
    {
     "name": "stdout",
     "output_type": "stream",
     "text": [
      "(10261, 690)\n",
      "<class 'list'> 690\n"
     ]
    }
   ],
   "source": [
    "cv_dm = cv1.fit_transform(amazonReview['cleantext'])\n",
    "print(cv_dm.shape)\n",
    "\n",
    "names = cv1.get_feature_names()\n",
    "print(type(names), len(names))"
   ]
  },
  {
   "cell_type": "code",
   "execution_count": 9,
   "metadata": {
    "collapsed": true
   },
   "outputs": [],
   "source": [
    "from sklearn.cluster import KMeans\n",
    "# finding an optimal value for k\n",
    "k_range = range(3,20)\n",
    "k_means_set = [KMeans(n_clusters=k,init='k-means++', max_iter=100, random_state = 42).fit(cv_dm) for k in k_range]\n",
    "centroids_list = [km_result.cluster_centers_ for km_result in k_means_set]"
   ]
  },
  {
   "cell_type": "code",
   "execution_count": 10,
   "metadata": {
    "collapsed": true
   },
   "outputs": [],
   "source": [
    "#centroids_list_df = np.array(centroids_list)\n",
    "#print(centroids_list_df.shape)\n",
    "#centroids_list_df.to_pickle(\"centroids_list.bin\")\n",
    "#centroidsList_df = pd.read_pickle('centroids_list.bin')\n",
    "#centroids_list = centroidsList_df.values.T.tolist()"
   ]
  },
  {
   "cell_type": "code",
   "execution_count": 56,
   "metadata": {
    "collapsed": true
   },
   "outputs": [],
   "source": [
    "# calc euclidean dist from each point to each cluster center\n",
    "from scipy.spatial.distance import cdist, pdist\n",
    "cv_dm_array = cv_dm.toarray()\n",
    "\n",
    "k_euclid = [cdist(cv_dm_array, thing, 'euclidean') for thing in centroids_list]\n",
    "distance_set = [np.min(k_euc, axis=1) for k_euc in k_euclid]\n",
    "\n",
    "# total within-cluster sum of squares\n",
    "wcss = [np.sum(distance**2) for distance in distance_set]\n",
    "\n",
    "# total sum of squares\n",
    "tss  = np.sum(pdist(cv_dm_array)**2) / cv_dm_array.shape[0]\n",
    "\n",
    "# between cluster sum of squares\n",
    "bss = tss - wcss"
   ]
  },
  {
   "cell_type": "markdown",
   "metadata": {},
   "source": [
    "* Chart 1. Withiness sum of squares over Total sum of squares"
   ]
  },
  {
   "cell_type": "code",
   "execution_count": 80,
   "metadata": {},
   "outputs": [
    {
     "data": {
      "text/plain": [
       "<matplotlib.text.Text at 0x10afc320>"
      ]
     },
     "execution_count": 80,
     "metadata": {},
     "output_type": "execute_result"
    },
    {
     "data": {
      "image/png": "[encoded data removed]",
      "text/plain": [
       "<matplotlib.figure.Figure at 0x10a5c240>"
      ]
     },
     "metadata": {},
     "output_type": "display_data"
    }
   ],
   "source": [
    "# plot elbow chart wss/tss\n",
    "fig = plt.figure()\n",
    "ax = fig.add_subplot(111)\n",
    "ax.plot(k_range, wcss/tss*100, '^-')\n",
    "ax.set_ylim((0,100))\n",
    "plt.grid(True)\n",
    "plt.xlabel('K n_clusters')\n",
    "plt.ylabel('% Variance Explained')\n",
    "plt.title('% WSS over TSS Variance Explained vs K')"
   ]
  },
  {
   "cell_type": "markdown",
   "metadata": {},
   "source": [
    "* Chart 2. Between sum of squares over Total sum of squares"
   ]
  },
  {
   "cell_type": "code",
   "execution_count": 81,
   "metadata": {},
   "outputs": [
    {
     "data": {
      "text/plain": [
       "<matplotlib.text.Text at 0x10c938d0>"
      ]
     },
     "execution_count": 81,
     "metadata": {},
     "output_type": "execute_result"
    },
    {
     "data": {
      "image/png": "[encoded data removed]",
      "text/plain": [
       "<matplotlib.figure.Figure at 0x10c43198>"
      ]
     },
     "metadata": {},
     "output_type": "display_data"
    }
   ],
   "source": [
    "# plot elbow chart bss/tss\n",
    "fig = plt.figure()\n",
    "ax = fig.add_subplot(111)\n",
    "ax.plot(k_range, bss/tss*100, '^-')\n",
    "ax.set_ylim((0,100))\n",
    "plt.grid(True)\n",
    "plt.xlabel('K n_clusters')\n",
    "plt.ylabel('% Variance Explained')\n",
    "plt.title('% BSS over TSS Variance Explained vs K')"
   ]
  },
  {
   "cell_type": "code",
   "execution_count": 15,
   "metadata": {},
   "outputs": [
    {
     "data": {
      "text/plain": [
       "array([  8.28774259,  10.07195278,  11.45516744,  12.55474367,\n",
       "        13.44645198,  14.56308333,  15.25230072,  16.15836422,\n",
       "        16.71546635,  17.15141151,  17.9429841 ,  18.40837488,\n",
       "        18.79351871,  19.29252439,  19.8985848 ,  20.12347189,  20.74906637])"
      ]
     },
     "execution_count": 15,
     "metadata": {},
     "output_type": "execute_result"
    }
   ],
   "source": [
    "bss/tss*100"
   ]
  },
  {
   "cell_type": "code",
   "execution_count": 73,
   "metadata": {
    "collapsed": true
   },
   "outputs": [],
   "source": [
    "# create 16 clusters\n",
    "My_k = 16\n",
    "km = KMeans(n_clusters=My_k, init='k-means++', max_iter=100, random_state = 42)\n",
    "news_k = km.fit(cv_dm_array)\n",
    "clusters = km.labels_.tolist()\n",
    "amazonReview['clusters'] = clusters"
   ]
  },
  {
   "cell_type": "code",
   "execution_count": 75,
   "metadata": {},
   "outputs": [
    {
     "name": "stdout",
     "output_type": "stream",
     "text": [
      "7     6560\n",
      "1     1034\n",
      "2      754\n",
      "5      479\n",
      "15     422\n",
      "6      261\n",
      "3      199\n",
      "11     131\n",
      "0      122\n",
      "9      108\n",
      "13     104\n",
      "12      65\n",
      "8       13\n",
      "14       4\n",
      "4        4\n",
      "10       1\n",
      "Name: clusters, dtype: int64\n"
     ]
    }
   ],
   "source": [
    "print(amazonReview['clusters'].value_counts())\n",
    "#amazonReview.head()"
   ]
  },
  {
   "cell_type": "code",
   "execution_count": 49,
   "metadata": {
    "collapsed": true
   },
   "outputs": [],
   "source": [
    "cluster1 = amazonReview[(amazonReview['clusters'] == 0)]\n",
    "#print(cluster1.index)\n",
    "cluster2 = amazonReview[(amazonReview['clusters'] == 1)]\n",
    "cluster3 = amazonReview[(amazonReview['clusters'] == 2)]\n",
    "cluster4 = amazonReview[(amazonReview['clusters'] == 3)]\n",
    "cluster5 = amazonReview[(amazonReview['clusters'] == 4)]\n",
    "cluster6 = amazonReview[(amazonReview['clusters'] == 5)]"
   ]
  },
  {
   "cell_type": "code",
   "execution_count": 50,
   "metadata": {},
   "outputs": [
    {
     "name": "stdout",
     "output_type": "stream",
     "text": [
      "(110, 690)\n"
     ]
    },
    {
     "data": {
      "text/html": [
       "<div>\n",
       "<style>\n",
       "    .dataframe thead tr:only-child th {\n",
       "        text-align: right;\n",
       "    }\n",
       "\n",
       "    .dataframe thead th {\n",
       "        text-align: left;\n",
       "    }\n",
       "\n",
       "    .dataframe tbody tr th {\n",
       "        vertical-align: top;\n",
       "    }\n",
       "</style>\n",
       "<table border=\"1\" class=\"dataframe\">\n",
       "  <thead>\n",
       "    <tr style=\"text-align: right;\">\n",
       "      <th></th>\n",
       "      <th>count</th>\n",
       "    </tr>\n",
       "  </thead>\n",
       "  <tbody>\n",
       "    <tr>\n",
       "      <th>amp</th>\n",
       "      <td>693</td>\n",
       "    </tr>\n",
       "    <tr>\n",
       "      <th>sound</th>\n",
       "      <td>597</td>\n",
       "    </tr>\n",
       "    <tr>\n",
       "      <th>pedal</th>\n",
       "      <td>394</td>\n",
       "    </tr>\n",
       "    <tr>\n",
       "      <th>like</th>\n",
       "      <td>313</td>\n",
       "    </tr>\n",
       "    <tr>\n",
       "      <th>tone</th>\n",
       "      <td>307</td>\n",
       "    </tr>\n",
       "    <tr>\n",
       "      <th>use</th>\n",
       "      <td>297</td>\n",
       "    </tr>\n",
       "    <tr>\n",
       "      <th>good</th>\n",
       "      <td>214</td>\n",
       "    </tr>\n",
       "    <tr>\n",
       "      <th>just</th>\n",
       "      <td>211</td>\n",
       "    </tr>\n",
       "    <tr>\n",
       "      <th>guitar</th>\n",
       "      <td>202</td>\n",
       "    </tr>\n",
       "    <tr>\n",
       "      <th>play</th>\n",
       "      <td>188</td>\n",
       "    </tr>\n",
       "  </tbody>\n",
       "</table>\n",
       "</div>"
      ],
      "text/plain": [
       "        count\n",
       "amp       693\n",
       "sound     597\n",
       "pedal     394\n",
       "like      313\n",
       "tone      307\n",
       "use       297\n",
       "good      214\n",
       "just      211\n",
       "guitar    202\n",
       "play      188"
      ]
     },
     "execution_count": 50,
     "metadata": {},
     "output_type": "execute_result"
    }
   ],
   "source": [
    "cv_dm_array = cv_dm.toarray()  #remember this is the output from the vectorizer and we are turning it into an array\n",
    "cluster1_cv_dm_array = cv_dm_array[cluster1.index];\n",
    "print(cluster1_cv_dm_array.shape)\n",
    "cluster1_count = np.sum(cluster1_cv_dm_array, axis = 0).tolist()\n",
    "cluster1_count_df = pd.DataFrame(cluster1_count, index = names, columns = ['count'])\n",
    "cluster1_count_df.sort_values(['count'], ascending = False).head(10)"
   ]
  },
  {
   "cell_type": "code",
   "execution_count": 51,
   "metadata": {},
   "outputs": [
    {
     "name": "stdout",
     "output_type": "stream",
     "text": [
      "(8035, 690)\n"
     ]
    },
    {
     "data": {
      "text/html": [
       "<div>\n",
       "<style>\n",
       "    .dataframe thead tr:only-child th {\n",
       "        text-align: right;\n",
       "    }\n",
       "\n",
       "    .dataframe thead th {\n",
       "        text-align: left;\n",
       "    }\n",
       "\n",
       "    .dataframe tbody tr th {\n",
       "        vertical-align: top;\n",
       "    }\n",
       "</style>\n",
       "<table border=\"1\" class=\"dataframe\">\n",
       "  <thead>\n",
       "    <tr style=\"text-align: right;\">\n",
       "      <th></th>\n",
       "      <th>count</th>\n",
       "    </tr>\n",
       "  </thead>\n",
       "  <tbody>\n",
       "    <tr>\n",
       "      <th>great</th>\n",
       "      <td>2696</td>\n",
       "    </tr>\n",
       "    <tr>\n",
       "      <th>guitar</th>\n",
       "      <td>2664</td>\n",
       "    </tr>\n",
       "    <tr>\n",
       "      <th>use</th>\n",
       "      <td>2642</td>\n",
       "    </tr>\n",
       "    <tr>\n",
       "      <th>good</th>\n",
       "      <td>2269</td>\n",
       "    </tr>\n",
       "    <tr>\n",
       "      <th>string</th>\n",
       "      <td>2214</td>\n",
       "    </tr>\n",
       "    <tr>\n",
       "      <th>work</th>\n",
       "      <td>2063</td>\n",
       "    </tr>\n",
       "    <tr>\n",
       "      <th>like</th>\n",
       "      <td>1919</td>\n",
       "    </tr>\n",
       "    <tr>\n",
       "      <th>just</th>\n",
       "      <td>1866</td>\n",
       "    </tr>\n",
       "    <tr>\n",
       "      <th>sound</th>\n",
       "      <td>1851</td>\n",
       "    </tr>\n",
       "    <tr>\n",
       "      <th>buy</th>\n",
       "      <td>1634</td>\n",
       "    </tr>\n",
       "  </tbody>\n",
       "</table>\n",
       "</div>"
      ],
      "text/plain": [
       "        count\n",
       "great    2696\n",
       "guitar   2664\n",
       "use      2642\n",
       "good     2269\n",
       "string   2214\n",
       "work     2063\n",
       "like     1919\n",
       "just     1866\n",
       "sound    1851\n",
       "buy      1634"
      ]
     },
     "execution_count": 51,
     "metadata": {},
     "output_type": "execute_result"
    }
   ],
   "source": [
    "cv_dm_array = cv_dm.toarray()  #remember this is the output from the vectorizer and we are turning it into an array\n",
    "cluster2_cv_dm_array = cv_dm_array[cluster2.index];\n",
    "print(cluster2_cv_dm_array.shape)\n",
    "cluster2_count = np.sum(cluster2_cv_dm_array, axis = 0).tolist()\n",
    "cluster2_count_df = pd.DataFrame(cluster2_count, index = names, columns = ['count'])\n",
    "cluster2_count_df.sort_values(['count'], ascending = False).head(10)"
   ]
  },
  {
   "cell_type": "code",
   "execution_count": 52,
   "metadata": {},
   "outputs": [
    {
     "name": "stdout",
     "output_type": "stream",
     "text": [
      "(235, 690)\n"
     ]
    },
    {
     "data": {
      "text/html": [
       "<div>\n",
       "<style>\n",
       "    .dataframe thead tr:only-child th {\n",
       "        text-align: right;\n",
       "    }\n",
       "\n",
       "    .dataframe thead th {\n",
       "        text-align: left;\n",
       "    }\n",
       "\n",
       "    .dataframe tbody tr th {\n",
       "        vertical-align: top;\n",
       "    }\n",
       "</style>\n",
       "<table border=\"1\" class=\"dataframe\">\n",
       "  <thead>\n",
       "    <tr style=\"text-align: right;\">\n",
       "      <th></th>\n",
       "      <th>count</th>\n",
       "    </tr>\n",
       "  </thead>\n",
       "  <tbody>\n",
       "    <tr>\n",
       "      <th>string</th>\n",
       "      <td>1778</td>\n",
       "    </tr>\n",
       "    <tr>\n",
       "      <th>guitar</th>\n",
       "      <td>632</td>\n",
       "    </tr>\n",
       "    <tr>\n",
       "      <th>sound</th>\n",
       "      <td>383</td>\n",
       "    </tr>\n",
       "    <tr>\n",
       "      <th>play</th>\n",
       "      <td>326</td>\n",
       "    </tr>\n",
       "    <tr>\n",
       "      <th>like</th>\n",
       "      <td>253</td>\n",
       "    </tr>\n",
       "    <tr>\n",
       "      <th>use</th>\n",
       "      <td>239</td>\n",
       "    </tr>\n",
       "    <tr>\n",
       "      <th>just</th>\n",
       "      <td>216</td>\n",
       "    </tr>\n",
       "    <tr>\n",
       "      <th>good</th>\n",
       "      <td>196</td>\n",
       "    </tr>\n",
       "    <tr>\n",
       "      <th>set</th>\n",
       "      <td>192</td>\n",
       "    </tr>\n",
       "    <tr>\n",
       "      <th>make</th>\n",
       "      <td>190</td>\n",
       "    </tr>\n",
       "  </tbody>\n",
       "</table>\n",
       "</div>"
      ],
      "text/plain": [
       "        count\n",
       "string   1778\n",
       "guitar    632\n",
       "sound     383\n",
       "play      326\n",
       "like      253\n",
       "use       239\n",
       "just      216\n",
       "good      196\n",
       "set       192\n",
       "make      190"
      ]
     },
     "execution_count": 52,
     "metadata": {},
     "output_type": "execute_result"
    }
   ],
   "source": [
    "cv_dm_array = cv_dm.toarray()  #remember this is the output from the vectorizer and we are turning it into an array\n",
    "cluster3_cv_dm_array = cv_dm_array[cluster3.index];\n",
    "print(cluster3_cv_dm_array.shape)\n",
    "cluster3_count = np.sum(cluster3_cv_dm_array, axis = 0).tolist()\n",
    "cluster3_count_df = pd.DataFrame(cluster3_count, index = names, columns = ['count'])\n",
    "cluster3_count_df.sort_values(['count'], ascending = False).head(10)"
   ]
  },
  {
   "cell_type": "code",
   "execution_count": 53,
   "metadata": {},
   "outputs": [
    {
     "name": "stdout",
     "output_type": "stream",
     "text": [
      "(833, 690)\n"
     ]
    },
    {
     "data": {
      "text/html": [
       "<div>\n",
       "<style>\n",
       "    .dataframe thead tr:only-child th {\n",
       "        text-align: right;\n",
       "    }\n",
       "\n",
       "    .dataframe thead th {\n",
       "        text-align: left;\n",
       "    }\n",
       "\n",
       "    .dataframe tbody tr th {\n",
       "        vertical-align: top;\n",
       "    }\n",
       "</style>\n",
       "<table border=\"1\" class=\"dataframe\">\n",
       "  <thead>\n",
       "    <tr style=\"text-align: right;\">\n",
       "      <th></th>\n",
       "      <th>count</th>\n",
       "    </tr>\n",
       "  </thead>\n",
       "  <tbody>\n",
       "    <tr>\n",
       "      <th>pedal</th>\n",
       "      <td>1414</td>\n",
       "    </tr>\n",
       "    <tr>\n",
       "      <th>sound</th>\n",
       "      <td>1397</td>\n",
       "    </tr>\n",
       "    <tr>\n",
       "      <th>use</th>\n",
       "      <td>1250</td>\n",
       "    </tr>\n",
       "    <tr>\n",
       "      <th>like</th>\n",
       "      <td>841</td>\n",
       "    </tr>\n",
       "    <tr>\n",
       "      <th>just</th>\n",
       "      <td>779</td>\n",
       "    </tr>\n",
       "    <tr>\n",
       "      <th>amp</th>\n",
       "      <td>760</td>\n",
       "    </tr>\n",
       "    <tr>\n",
       "      <th>great</th>\n",
       "      <td>653</td>\n",
       "    </tr>\n",
       "    <tr>\n",
       "      <th>good</th>\n",
       "      <td>633</td>\n",
       "    </tr>\n",
       "    <tr>\n",
       "      <th>make</th>\n",
       "      <td>559</td>\n",
       "    </tr>\n",
       "    <tr>\n",
       "      <th>pedals</th>\n",
       "      <td>525</td>\n",
       "    </tr>\n",
       "  </tbody>\n",
       "</table>\n",
       "</div>"
      ],
      "text/plain": [
       "        count\n",
       "pedal    1414\n",
       "sound    1397\n",
       "use      1250\n",
       "like      841\n",
       "just      779\n",
       "amp       760\n",
       "great     653\n",
       "good      633\n",
       "make      559\n",
       "pedals    525"
      ]
     },
     "execution_count": 53,
     "metadata": {},
     "output_type": "execute_result"
    }
   ],
   "source": [
    "cv_dm_array = cv_dm.toarray()  #remember this is the output from the vectorizer and we are turning it into an array\n",
    "cluster4_cv_dm_array = cv_dm_array[cluster4.index];\n",
    "print(cluster4_cv_dm_array.shape)\n",
    "cluster4_count = np.sum(cluster4_cv_dm_array, axis = 0).tolist()\n",
    "cluster4_count_df = pd.DataFrame(cluster4_count, index = names, columns = ['count'])\n",
    "cluster4_count_df.sort_values(['count'], ascending = False).head(10)"
   ]
  },
  {
   "cell_type": "code",
   "execution_count": 54,
   "metadata": {},
   "outputs": [
    {
     "name": "stdout",
     "output_type": "stream",
     "text": [
      "(266, 690)\n"
     ]
    },
    {
     "data": {
      "text/html": [
       "<div>\n",
       "<style>\n",
       "    .dataframe thead tr:only-child th {\n",
       "        text-align: right;\n",
       "    }\n",
       "\n",
       "    .dataframe thead th {\n",
       "        text-align: left;\n",
       "    }\n",
       "\n",
       "    .dataframe tbody tr th {\n",
       "        vertical-align: top;\n",
       "    }\n",
       "</style>\n",
       "<table border=\"1\" class=\"dataframe\">\n",
       "  <thead>\n",
       "    <tr style=\"text-align: right;\">\n",
       "      <th></th>\n",
       "      <th>count</th>\n",
       "    </tr>\n",
       "  </thead>\n",
       "  <tbody>\n",
       "    <tr>\n",
       "      <th>pick</th>\n",
       "      <td>1217</td>\n",
       "    </tr>\n",
       "    <tr>\n",
       "      <th>play</th>\n",
       "      <td>214</td>\n",
       "    </tr>\n",
       "    <tr>\n",
       "      <th>guitar</th>\n",
       "      <td>177</td>\n",
       "    </tr>\n",
       "    <tr>\n",
       "      <th>like</th>\n",
       "      <td>173</td>\n",
       "    </tr>\n",
       "    <tr>\n",
       "      <th>use</th>\n",
       "      <td>173</td>\n",
       "    </tr>\n",
       "    <tr>\n",
       "      <th>just</th>\n",
       "      <td>137</td>\n",
       "    </tr>\n",
       "    <tr>\n",
       "      <th>grip</th>\n",
       "      <td>100</td>\n",
       "    </tr>\n",
       "    <tr>\n",
       "      <th>string</th>\n",
       "      <td>98</td>\n",
       "    </tr>\n",
       "    <tr>\n",
       "      <th>great</th>\n",
       "      <td>96</td>\n",
       "    </tr>\n",
       "    <tr>\n",
       "      <th>used</th>\n",
       "      <td>90</td>\n",
       "    </tr>\n",
       "  </tbody>\n",
       "</table>\n",
       "</div>"
      ],
      "text/plain": [
       "        count\n",
       "pick     1217\n",
       "play      214\n",
       "guitar    177\n",
       "like      173\n",
       "use       173\n",
       "just      137\n",
       "grip      100\n",
       "string     98\n",
       "great      96\n",
       "used       90"
      ]
     },
     "execution_count": 54,
     "metadata": {},
     "output_type": "execute_result"
    }
   ],
   "source": [
    "cv_dm_array = cv_dm.toarray()  #remember this is the output from the vectorizer and we are turning it into an array\n",
    "cluster5_cv_dm_array = cv_dm_array[cluster5.index];\n",
    "print(cluster5_cv_dm_array.shape)\n",
    "cluster5_count = np.sum(cluster5_cv_dm_array, axis = 0).tolist()\n",
    "cluster5_count_df = pd.DataFrame(cluster5_count, index = names, columns = ['count'])\n",
    "cluster5_count_df.sort_values(['count'], ascending = False).head(10)"
   ]
  },
  {
   "cell_type": "code",
   "execution_count": 55,
   "metadata": {},
   "outputs": [
    {
     "name": "stdout",
     "output_type": "stream",
     "text": [
      "(782, 690)\n"
     ]
    },
    {
     "data": {
      "text/html": [
       "<div>\n",
       "<style>\n",
       "    .dataframe thead tr:only-child th {\n",
       "        text-align: right;\n",
       "    }\n",
       "\n",
       "    .dataframe thead th {\n",
       "        text-align: left;\n",
       "    }\n",
       "\n",
       "    .dataframe tbody tr th {\n",
       "        vertical-align: top;\n",
       "    }\n",
       "</style>\n",
       "<table border=\"1\" class=\"dataframe\">\n",
       "  <thead>\n",
       "    <tr style=\"text-align: right;\">\n",
       "      <th></th>\n",
       "      <th>count</th>\n",
       "    </tr>\n",
       "  </thead>\n",
       "  <tbody>\n",
       "    <tr>\n",
       "      <th>guitar</th>\n",
       "      <td>2746</td>\n",
       "    </tr>\n",
       "    <tr>\n",
       "      <th>strap</th>\n",
       "      <td>637</td>\n",
       "    </tr>\n",
       "    <tr>\n",
       "      <th>use</th>\n",
       "      <td>620</td>\n",
       "    </tr>\n",
       "    <tr>\n",
       "      <th>string</th>\n",
       "      <td>550</td>\n",
       "    </tr>\n",
       "    <tr>\n",
       "      <th>just</th>\n",
       "      <td>548</td>\n",
       "    </tr>\n",
       "    <tr>\n",
       "      <th>like</th>\n",
       "      <td>482</td>\n",
       "    </tr>\n",
       "    <tr>\n",
       "      <th>good</th>\n",
       "      <td>426</td>\n",
       "    </tr>\n",
       "    <tr>\n",
       "      <th>make</th>\n",
       "      <td>417</td>\n",
       "    </tr>\n",
       "    <tr>\n",
       "      <th>play</th>\n",
       "      <td>401</td>\n",
       "    </tr>\n",
       "    <tr>\n",
       "      <th>sound</th>\n",
       "      <td>389</td>\n",
       "    </tr>\n",
       "  </tbody>\n",
       "</table>\n",
       "</div>"
      ],
      "text/plain": [
       "        count\n",
       "guitar   2746\n",
       "strap     637\n",
       "use       620\n",
       "string    550\n",
       "just      548\n",
       "like      482\n",
       "good      426\n",
       "make      417\n",
       "play      401\n",
       "sound     389"
      ]
     },
     "execution_count": 55,
     "metadata": {},
     "output_type": "execute_result"
    }
   ],
   "source": [
    "cv_dm_array = cv_dm.toarray()  #remember this is the output from the vectorizer and we are turning it into an array\n",
    "cluster6_cv_dm_array = cv_dm_array[cluster6.index];\n",
    "print(cluster6_cv_dm_array.shape)\n",
    "cluster6_count = np.sum(cluster6_cv_dm_array, axis = 0).tolist()\n",
    "cluster6_count_df = pd.DataFrame(cluster6_count, index = names, columns = ['count'])\n",
    "cluster6_count_df.sort_values(['count'], ascending = False).head(10)"
   ]
  },
  {
   "cell_type": "markdown",
   "metadata": {},
   "source": [
    "#### Q3. Write a short description of the outcome of your clustering exercise. Make sure your answer is no longer than four paragraphs, and should at minimum answer these questions:\n",
    "*\tHow many clusters did you “find”? Why did you select that number? \n",
    "*\tCan you easily describe your clusters with a text label?  If so, what are the labels and how do they help?  If not, why not? \n",
    "Audience: general – management or non-technical staff. NOTE: this is a GENERAL AUDIENCE RESPONSE - be VERY careful with how you describe the clustering exercise.  Detailed descriptions of K-means is not required but any discussion of them must be NON TECHNICAL (but not fluffy).   \n"
   ]
  },
  {
   "cell_type": "markdown",
   "metadata": {},
   "source": [
    "I selected six clusters.  I tried three to twenty clusters.  The six clusters shows unique/distinct groups, and within each group text key terms are similar to each other (see chart 1 and chart 2 above). \n",
    "\n",
    "The details of the six groups are listed below.  There are total of 10,261 reviews in the dataset, and 690 key terms (one or two words terms) retrieved from the text.  The number of items in each group, and the most frequent terms are listed in table 3 below.  \n",
    "\n",
    "                                         Table 3.  Group numbers and most frequent terms\n",
    "| Group      | Numbers of reviews |  most frequent Terms     |            \n",
    "|:----------:|:------------------:|:------------------------:|\n",
    "| Group 1    | 110                |   amp, sound             |\n",
    "| Group 2    | 8035               |   great, guitar, use\t |\n",
    "| Group 3    | 235                |   string, guitar\t     |\n",
    "| Group 4    | 833                |   pedal, sound, use\t     |\n",
    "| Group 5    | 266                |   pick           \t     |\n",
    "| Group 6    | 782                |   guitar, strap, use     |\n",
    "\n",
    "\n",
    "From this data I can easily describe the six clusters. Group one must is about amps and sounds of the instruments, group two are very general category, group 3 are string and guitars, group 4 are pedals, group 5 are picks, group 6 is strap, guitars.  If I choose a higher number of clusters then group 2 \"general category\" will further divide into smaller groups, but some of the other groups would not have unique key terms.  Therefore, I ended up six clusters.\n"
   ]
  },
  {
   "cell_type": "markdown",
   "metadata": {},
   "source": [
    "END"
   ]
  }
 ],
 "metadata": {
  "kernelspec": {
   "display_name": "Python 3",
   "language": "python",
   "name": "python3"
  },
  "language_info": {
   "codemirror_mode": {
    "name": "ipython",
    "version": 3
   },
   "file_extension": ".py",
   "mimetype": "text/x-python",
   "name": "python",
   "nbconvert_exporter": "python",
   "pygments_lexer": "ipython3",
   "version": "3.6.1"
  }
 },
 "nbformat": 4,
 "nbformat_minor": 2
}
